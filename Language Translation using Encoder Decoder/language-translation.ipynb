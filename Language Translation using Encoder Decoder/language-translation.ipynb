{
 "cells": [
  {
   "cell_type": "code",
   "execution_count": 44,
   "metadata": {
    "execution": {
     "iopub.execute_input": "2021-12-17T15:45:50.356766Z",
     "iopub.status.busy": "2021-12-17T15:45:50.356069Z",
     "iopub.status.idle": "2021-12-17T15:45:50.377768Z",
     "shell.execute_reply": "2021-12-17T15:45:50.377127Z",
     "shell.execute_reply.started": "2021-12-17T15:45:50.356633Z"
    }
   },
   "outputs": [],
   "source": [
    "#downloaded data from http://www.manythings.org/anki/"
   ]
  },
  {
   "cell_type": "code",
   "execution_count": 45,
   "metadata": {
    "execution": {
     "iopub.execute_input": "2021-12-17T15:45:50.379596Z",
     "iopub.status.busy": "2021-12-17T15:45:50.379346Z",
     "iopub.status.idle": "2021-12-17T15:45:55.073934Z",
     "shell.execute_reply": "2021-12-17T15:45:55.073196Z",
     "shell.execute_reply.started": "2021-12-17T15:45:50.379564Z"
    }
   },
   "outputs": [],
   "source": [
    "import pandas as pd\n",
    "import numpy as np\n",
    "from keras.layers import Input, LSTM, Dense\n",
    "from keras.models import Model"
   ]
  },
  {
   "cell_type": "code",
   "execution_count": 46,
   "metadata": {
    "execution": {
     "iopub.execute_input": "2021-12-17T15:45:55.075479Z",
     "iopub.status.busy": "2021-12-17T15:45:55.075224Z",
     "iopub.status.idle": "2021-12-17T15:45:55.080045Z",
     "shell.execute_reply": "2021-12-17T15:45:55.079419Z",
     "shell.execute_reply.started": "2021-12-17T15:45:55.075436Z"
    }
   },
   "outputs": [],
   "source": [
    "batch_size = 64\n",
    "epochs = 100\n",
    "latent_dim = 256\n",
    "num_samples = 10000"
   ]
  },
  {
   "cell_type": "code",
   "execution_count": 47,
   "metadata": {
    "execution": {
     "iopub.execute_input": "2021-12-17T15:45:55.082019Z",
     "iopub.status.busy": "2021-12-17T15:45:55.081506Z",
     "iopub.status.idle": "2021-12-17T15:45:55.982282Z",
     "shell.execute_reply": "2021-12-17T15:45:55.981559Z",
     "shell.execute_reply.started": "2021-12-17T15:45:55.081980Z"
    }
   },
   "outputs": [
    {
     "data": {
      "text/html": [
       "<div>\n",
       "<style scoped>\n",
       "    .dataframe tbody tr th:only-of-type {\n",
       "        vertical-align: middle;\n",
       "    }\n",
       "\n",
       "    .dataframe tbody tr th {\n",
       "        vertical-align: top;\n",
       "    }\n",
       "\n",
       "    .dataframe thead th {\n",
       "        text-align: right;\n",
       "    }\n",
       "</style>\n",
       "<table border=\"1\" class=\"dataframe\">\n",
       "  <thead>\n",
       "    <tr style=\"text-align: right;\">\n",
       "      <th></th>\n",
       "      <th>english</th>\n",
       "      <th>french</th>\n",
       "      <th>comment</th>\n",
       "    </tr>\n",
       "  </thead>\n",
       "  <tbody>\n",
       "    <tr>\n",
       "      <th>0</th>\n",
       "      <td>Go.</td>\n",
       "      <td>Va !</td>\n",
       "      <td>CC-BY 2.0 (France) Attribution: tatoeba.org #2...</td>\n",
       "    </tr>\n",
       "    <tr>\n",
       "      <th>1</th>\n",
       "      <td>Go.</td>\n",
       "      <td>Marche.</td>\n",
       "      <td>CC-BY 2.0 (France) Attribution: tatoeba.org #2...</td>\n",
       "    </tr>\n",
       "    <tr>\n",
       "      <th>2</th>\n",
       "      <td>Go.</td>\n",
       "      <td>Bouge !</td>\n",
       "      <td>CC-BY 2.0 (France) Attribution: tatoeba.org #2...</td>\n",
       "    </tr>\n",
       "    <tr>\n",
       "      <th>3</th>\n",
       "      <td>Hi.</td>\n",
       "      <td>Salut !</td>\n",
       "      <td>CC-BY 2.0 (France) Attribution: tatoeba.org #5...</td>\n",
       "    </tr>\n",
       "    <tr>\n",
       "      <th>4</th>\n",
       "      <td>Hi.</td>\n",
       "      <td>Salut.</td>\n",
       "      <td>CC-BY 2.0 (France) Attribution: tatoeba.org #5...</td>\n",
       "    </tr>\n",
       "  </tbody>\n",
       "</table>\n",
       "</div>"
      ],
      "text/plain": [
       "  english   french                                            comment\n",
       "0     Go.     Va !  CC-BY 2.0 (France) Attribution: tatoeba.org #2...\n",
       "1     Go.  Marche.  CC-BY 2.0 (France) Attribution: tatoeba.org #2...\n",
       "2     Go.  Bouge !  CC-BY 2.0 (France) Attribution: tatoeba.org #2...\n",
       "3     Hi.  Salut !  CC-BY 2.0 (France) Attribution: tatoeba.org #5...\n",
       "4     Hi.   Salut.  CC-BY 2.0 (France) Attribution: tatoeba.org #5..."
      ]
     },
     "execution_count": 47,
     "metadata": {},
     "output_type": "execute_result"
    }
   ],
   "source": [
    "data = pd.read_csv('fra-eng/fra.txt', sep='\\t',names=['english','french','comment'])\n",
    "data.head()"
   ]
  },
  {
   "cell_type": "code",
   "execution_count": 48,
   "metadata": {
    "execution": {
     "iopub.execute_input": "2021-12-17T15:45:55.984937Z",
     "iopub.status.busy": "2021-12-17T15:45:55.984655Z",
     "iopub.status.idle": "2021-12-17T15:46:52.546199Z",
     "shell.execute_reply": "2021-12-17T15:46:52.545483Z",
     "shell.execute_reply.started": "2021-12-17T15:45:55.984894Z"
    }
   },
   "outputs": [],
   "source": [
    "eng_corpus = []\n",
    "preprocessed_data = data[['english','french']][:1]\n",
    "for i in range(len(data)):\n",
    "    if not data['english'][i] in eng_corpus:\n",
    "        eng_corpus.append(data['english'][i])\n",
    "        preprocessed_data = preprocessed_data.append(data[['english','french']][i:i+1])\n",
    "       \n",
    "    if len(eng_corpus) > num_samples:\n",
    "        break"
   ]
  },
  {
   "cell_type": "code",
   "execution_count": 49,
   "metadata": {
    "execution": {
     "iopub.execute_input": "2021-12-17T15:46:52.547816Z",
     "iopub.status.busy": "2021-12-17T15:46:52.547554Z",
     "iopub.status.idle": "2021-12-17T15:46:52.553068Z",
     "shell.execute_reply": "2021-12-17T15:46:52.552417Z",
     "shell.execute_reply.started": "2021-12-17T15:46:52.547782Z"
    }
   },
   "outputs": [
    {
     "data": {
      "text/plain": [
       "10002"
      ]
     },
     "execution_count": 49,
     "metadata": {},
     "output_type": "execute_result"
    }
   ],
   "source": [
    "len(preprocessed_data)"
   ]
  },
  {
   "cell_type": "code",
   "execution_count": 50,
   "metadata": {
    "execution": {
     "iopub.execute_input": "2021-12-17T15:46:52.554816Z",
     "iopub.status.busy": "2021-12-17T15:46:52.554385Z",
     "iopub.status.idle": "2021-12-17T15:46:52.561784Z",
     "shell.execute_reply": "2021-12-17T15:46:52.561066Z",
     "shell.execute_reply.started": "2021-12-17T15:46:52.554779Z"
    }
   },
   "outputs": [],
   "source": [
    "preprocessed_data.reset_index(inplace=True, drop=True)"
   ]
  },
  {
   "cell_type": "code",
   "execution_count": 51,
   "metadata": {
    "execution": {
     "iopub.execute_input": "2021-12-17T15:46:52.563627Z",
     "iopub.status.busy": "2021-12-17T15:46:52.563077Z",
     "iopub.status.idle": "2021-12-17T15:46:52.570157Z",
     "shell.execute_reply": "2021-12-17T15:46:52.569415Z",
     "shell.execute_reply.started": "2021-12-17T15:46:52.563594Z"
    }
   },
   "outputs": [],
   "source": [
    "import string\n",
    "import re\n",
    "exclude = set(string.punctuation)"
   ]
  },
  {
   "cell_type": "code",
   "execution_count": 52,
   "metadata": {
    "execution": {
     "iopub.execute_input": "2021-12-17T15:46:52.572185Z",
     "iopub.status.busy": "2021-12-17T15:46:52.571626Z",
     "iopub.status.idle": "2021-12-17T15:46:52.578191Z",
     "shell.execute_reply": "2021-12-17T15:46:52.577560Z",
     "shell.execute_reply.started": "2021-12-17T15:46:52.572148Z"
    }
   },
   "outputs": [],
   "source": [
    "#preprocessed_data = data[['english','hindi']]"
   ]
  },
  {
   "cell_type": "code",
   "execution_count": 53,
   "metadata": {
    "execution": {
     "iopub.execute_input": "2021-12-17T15:46:52.580246Z",
     "iopub.status.busy": "2021-12-17T15:46:52.579774Z",
     "iopub.status.idle": "2021-12-17T15:46:52.586448Z",
     "shell.execute_reply": "2021-12-17T15:46:52.585721Z",
     "shell.execute_reply.started": "2021-12-17T15:46:52.580211Z"
    }
   },
   "outputs": [],
   "source": [
    "def preprocess_text(text):\n",
    "    return '\\t'+text.lower()+'\\n'"
   ]
  },
  {
   "cell_type": "code",
   "execution_count": 54,
   "metadata": {
    "execution": {
     "iopub.execute_input": "2021-12-17T15:46:52.588271Z",
     "iopub.status.busy": "2021-12-17T15:46:52.587772Z",
     "iopub.status.idle": "2021-12-17T15:46:52.735328Z",
     "shell.execute_reply": "2021-12-17T15:46:52.734599Z",
     "shell.execute_reply.started": "2021-12-17T15:46:52.588195Z"
    }
   },
   "outputs": [],
   "source": [
    "eng_corpus = []\n",
    "frc_corpus = []\n",
    "for i in range(len(preprocessed_data)):\n",
    "    \n",
    "    eng_corpus.append(preprocess_text(preprocessed_data['english'][i]))\n",
    "    frc_corpus.append(preprocess_text(preprocessed_data['french'][i]))"
   ]
  },
  {
   "cell_type": "code",
   "execution_count": 55,
   "metadata": {
    "execution": {
     "iopub.execute_input": "2021-12-17T15:46:52.737472Z",
     "iopub.status.busy": "2021-12-17T15:46:52.737279Z",
     "iopub.status.idle": "2021-12-17T15:46:52.876155Z",
     "shell.execute_reply": "2021-12-17T15:46:52.875397Z",
     "shell.execute_reply.started": "2021-12-17T15:46:52.737448Z"
    }
   },
   "outputs": [],
   "source": [
    "eng_vocab = []\n",
    "frc_vocab = []\n",
    "for i in range(len(preprocessed_data)):\n",
    "    for word in eng_corpus[i]:\n",
    "        if not word in eng_vocab:\n",
    "            eng_vocab.append(word)\n",
    "    for word in frc_corpus[i]:\n",
    "        if word not in frc_vocab:\n",
    "            frc_vocab.append(word)"
   ]
  },
  {
   "cell_type": "code",
   "execution_count": 56,
   "metadata": {
    "execution": {
     "iopub.execute_input": "2021-12-17T15:46:52.878859Z",
     "iopub.status.busy": "2021-12-17T15:46:52.878335Z",
     "iopub.status.idle": "2021-12-17T15:46:52.885609Z",
     "shell.execute_reply": "2021-12-17T15:46:52.884883Z",
     "shell.execute_reply.started": "2021-12-17T15:46:52.878820Z"
    }
   },
   "outputs": [
    {
     "name": "stdout",
     "output_type": "stream",
     "text": [
      "length of english words:  51\n",
      "length of french words:  69\n"
     ]
    }
   ],
   "source": [
    "print('length of english words: ', len(eng_vocab))\n",
    "print('length of french words: ', len(frc_vocab))"
   ]
  },
  {
   "cell_type": "code",
   "execution_count": 57,
   "metadata": {
    "execution": {
     "iopub.execute_input": "2021-12-17T15:46:52.889655Z",
     "iopub.status.busy": "2021-12-17T15:46:52.889452Z",
     "iopub.status.idle": "2021-12-17T15:46:52.898358Z",
     "shell.execute_reply": "2021-12-17T15:46:52.897555Z",
     "shell.execute_reply.started": "2021-12-17T15:46:52.889630Z"
    }
   },
   "outputs": [
    {
     "name": "stdout",
     "output_type": "stream",
     "text": [
      "Max input length 19\n",
      "Max output length 59\n"
     ]
    }
   ],
   "source": [
    "max_input_length = max([len(words) for words in eng_corpus])\n",
    "print(\"Max input length\",max_input_length)\n",
    "max_output_length = max([len(words) for words in frc_corpus])\n",
    "print(\"Max output length\",max_output_length)"
   ]
  },
  {
   "cell_type": "code",
   "execution_count": 58,
   "metadata": {
    "execution": {
     "iopub.execute_input": "2021-12-17T15:46:52.900640Z",
     "iopub.status.busy": "2021-12-17T15:46:52.900013Z",
     "iopub.status.idle": "2021-12-17T15:46:52.907394Z",
     "shell.execute_reply": "2021-12-17T15:46:52.906633Z",
     "shell.execute_reply.started": "2021-12-17T15:46:52.900605Z"
    }
   },
   "outputs": [
    {
     "name": "stdout",
     "output_type": "stream",
     "text": [
      "encoder tokens:  51\n",
      "decoder tokens:  69\n"
     ]
    }
   ],
   "source": [
    "input_words = sorted(eng_vocab)\n",
    "output_words = sorted(frc_vocab)\n",
    "\n",
    "num_encoder_tokens = len(eng_vocab)\n",
    "num_decoder_tokens = len(frc_vocab)\n",
    "print('encoder tokens: ', num_encoder_tokens)\n",
    "print('decoder tokens: ', num_decoder_tokens)"
   ]
  },
  {
   "cell_type": "code",
   "execution_count": 59,
   "metadata": {
    "execution": {
     "iopub.execute_input": "2021-12-17T15:46:52.909466Z",
     "iopub.status.busy": "2021-12-17T15:46:52.908616Z",
     "iopub.status.idle": "2021-12-17T15:46:52.916438Z",
     "shell.execute_reply": "2021-12-17T15:46:52.915571Z",
     "shell.execute_reply.started": "2021-12-17T15:46:52.909422Z"
    }
   },
   "outputs": [],
   "source": [
    "input_token_index = dict([(i, char) for char, i in enumerate(input_words)])\n",
    "target_token_index = dict([(i, char) for char, i in enumerate(output_words)])"
   ]
  },
  {
   "cell_type": "code",
   "execution_count": 60,
   "metadata": {
    "execution": {
     "iopub.execute_input": "2021-12-17T15:46:52.919276Z",
     "iopub.status.busy": "2021-12-17T15:46:52.918677Z",
     "iopub.status.idle": "2021-12-17T15:46:52.927143Z",
     "shell.execute_reply": "2021-12-17T15:46:52.926398Z",
     "shell.execute_reply.started": "2021-12-17T15:46:52.919242Z"
    }
   },
   "outputs": [],
   "source": [
    "encoder_input_data = np.zeros((len(eng_corpus),max_input_length, num_encoder_tokens),dtype='float32')\n",
    "decoder_input_data = np.zeros((len(eng_corpus),max_output_length, num_decoder_tokens),dtype='float32')\n",
    "decoder_target_data = np.zeros((len(eng_corpus),max_output_length, num_decoder_tokens),dtype='float32') "
   ]
  },
  {
   "cell_type": "code",
   "execution_count": 61,
   "metadata": {
    "execution": {
     "iopub.execute_input": "2021-12-17T15:46:52.929066Z",
     "iopub.status.busy": "2021-12-17T15:46:52.928449Z",
     "iopub.status.idle": "2021-12-17T15:46:53.406896Z",
     "shell.execute_reply": "2021-12-17T15:46:53.406147Z",
     "shell.execute_reply.started": "2021-12-17T15:46:52.929032Z"
    }
   },
   "outputs": [],
   "source": [
    "for i, (input_text, target_text) in enumerate(zip(eng_corpus, frc_corpus)):\n",
    "    \n",
    "    for j, char in enumerate(input_text):\n",
    "        encoder_input_data[i, j, input_token_index[char]] = 1.\n",
    "    encoder_input_data[i, j+1:, input_token_index[' ']] = 1.\n",
    "    \n",
    "    for j, char in enumerate(target_text):\n",
    "        decoder_input_data[i, j, target_token_index[char]] = 1.\n",
    "        if j>0:\n",
    "            decoder_target_data[i, j-1, target_token_index[char]] = 1.\n",
    "    decoder_input_data[i, j+1:, target_token_index[' ']] = 1.\n",
    "    decoder_target_data[i, j:, target_token_index[' ']] = 1.\n",
    "        "
   ]
  },
  {
   "cell_type": "code",
   "execution_count": 62,
   "metadata": {
    "execution": {
     "iopub.execute_input": "2021-12-17T15:46:53.408877Z",
     "iopub.status.busy": "2021-12-17T15:46:53.408055Z",
     "iopub.status.idle": "2021-12-17T15:46:53.414396Z",
     "shell.execute_reply": "2021-12-17T15:46:53.413471Z",
     "shell.execute_reply.started": "2021-12-17T15:46:53.408840Z"
    }
   },
   "outputs": [
    {
     "name": "stdout",
     "output_type": "stream",
     "text": [
      "(10002, 19, 51)\n",
      "(10002, 59, 69)\n",
      "(10002, 59, 69)\n"
     ]
    }
   ],
   "source": [
    "print(encoder_input_data.shape)\n",
    "print(decoder_input_data.shape)\n",
    "print(decoder_target_data.shape)"
   ]
  },
  {
   "cell_type": "code",
   "execution_count": 63,
   "metadata": {
    "execution": {
     "iopub.execute_input": "2021-12-17T15:46:53.416110Z",
     "iopub.status.busy": "2021-12-17T15:46:53.415621Z",
     "iopub.status.idle": "2021-12-17T15:46:56.145624Z",
     "shell.execute_reply": "2021-12-17T15:46:56.144928Z",
     "shell.execute_reply.started": "2021-12-17T15:46:53.416019Z"
    }
   },
   "outputs": [],
   "source": [
    "encoder_inputs = Input(shape=(None, num_encoder_tokens))\n",
    "encoder = LSTM(latent_dim, return_state= True)\n",
    "encoder_outputs, state_h, state_c = encoder(encoder_inputs)\n",
    "\n",
    "encoder_states = [state_h, state_c]"
   ]
  },
  {
   "cell_type": "code",
   "execution_count": null,
   "metadata": {},
   "outputs": [],
   "source": []
  },
  {
   "cell_type": "code",
   "execution_count": 64,
   "metadata": {
    "execution": {
     "iopub.execute_input": "2021-12-17T15:46:56.148132Z",
     "iopub.status.busy": "2021-12-17T15:46:56.147752Z",
     "iopub.status.idle": "2021-12-17T15:46:56.369565Z",
     "shell.execute_reply": "2021-12-17T15:46:56.368856Z",
     "shell.execute_reply.started": "2021-12-17T15:46:56.148098Z"
    }
   },
   "outputs": [],
   "source": [
    "decoder_inputs = Input(shape=(None, num_decoder_tokens))\n",
    "decoder_lstm = LSTM(latent_dim, return_sequences=True, return_state=True)\n",
    "decoder_outputs, _, _ = decoder_lstm(decoder_inputs, initial_state=encoder_states)\n",
    "\n",
    "decoder_dense = Dense(num_decoder_tokens, activation='softmax')\n",
    "decoder_outputs = decoder_dense(decoder_outputs)"
   ]
  },
  {
   "cell_type": "code",
   "execution_count": 65,
   "metadata": {
    "execution": {
     "iopub.execute_input": "2021-12-17T15:46:56.371067Z",
     "iopub.status.busy": "2021-12-17T15:46:56.370836Z",
     "iopub.status.idle": "2021-12-17T15:50:21.299081Z",
     "shell.execute_reply": "2021-12-17T15:50:21.298393Z",
     "shell.execute_reply.started": "2021-12-17T15:46:56.371036Z"
    }
   },
   "outputs": [
    {
     "name": "stdout",
     "output_type": "stream",
     "text": [
      "Epoch 1/100\n",
      "126/126 [==============================] - 90s 678ms/step - loss: 1.1551 - accuracy: 0.7211 - val_loss: 1.0811 - val_accuracy: 0.6869\n",
      "Epoch 2/100\n",
      "126/126 [==============================] - 68s 540ms/step - loss: 0.8456 - accuracy: 0.7699 - val_loss: 0.8683 - val_accuracy: 0.7515\n",
      "Epoch 3/100\n",
      "126/126 [==============================] - 77s 613ms/step - loss: 0.6939 - accuracy: 0.8021 - val_loss: 0.8051 - val_accuracy: 0.7602\n",
      "Epoch 4/100\n",
      "126/126 [==============================] - 80s 637ms/step - loss: 0.6229 - accuracy: 0.8194 - val_loss: 0.8048 - val_accuracy: 0.7638\n",
      "Epoch 5/100\n",
      "126/126 [==============================] - 80s 634ms/step - loss: 0.5685 - accuracy: 0.8334 - val_loss: 0.6860 - val_accuracy: 0.7986\n",
      "Epoch 6/100\n",
      "126/126 [==============================] - 99s 787ms/step - loss: 0.5294 - accuracy: 0.8441 - val_loss: 0.6614 - val_accuracy: 0.8071\n",
      "Epoch 7/100\n",
      "126/126 [==============================] - 88s 700ms/step - loss: 0.5000 - accuracy: 0.8521 - val_loss: 0.6253 - val_accuracy: 0.8172\n",
      "Epoch 8/100\n",
      "126/126 [==============================] - 85s 674ms/step - loss: 0.4764 - accuracy: 0.8586 - val_loss: 0.6030 - val_accuracy: 0.8211\n",
      "Epoch 9/100\n",
      "126/126 [==============================] - 99s 788ms/step - loss: 0.4561 - accuracy: 0.8642 - val_loss: 0.5813 - val_accuracy: 0.8271\n",
      "Epoch 10/100\n",
      "126/126 [==============================] - 129s 1s/step - loss: 0.4375 - accuracy: 0.8692 - val_loss: 0.5717 - val_accuracy: 0.8308\n",
      "Epoch 11/100\n",
      "126/126 [==============================] - 112s 889ms/step - loss: 0.4212 - accuracy: 0.8742 - val_loss: 0.5573 - val_accuracy: 0.8345\n",
      "Epoch 12/100\n",
      "126/126 [==============================] - 78s 615ms/step - loss: 0.4101 - accuracy: 0.8775 - val_loss: 0.5795 - val_accuracy: 0.8282\n",
      "Epoch 13/100\n",
      "126/126 [==============================] - 71s 565ms/step - loss: 0.3946 - accuracy: 0.8819 - val_loss: 0.5443 - val_accuracy: 0.8398\n",
      "Epoch 14/100\n",
      "126/126 [==============================] - 71s 561ms/step - loss: 0.3821 - accuracy: 0.8858 - val_loss: 0.5188 - val_accuracy: 0.8466\n",
      "Epoch 15/100\n",
      "126/126 [==============================] - 70s 558ms/step - loss: 0.3709 - accuracy: 0.8890 - val_loss: 0.5179 - val_accuracy: 0.8473\n",
      "Epoch 16/100\n",
      "126/126 [==============================] - 72s 573ms/step - loss: 0.3594 - accuracy: 0.8927 - val_loss: 0.5054 - val_accuracy: 0.8498\n",
      "Epoch 17/100\n",
      "126/126 [==============================] - 71s 561ms/step - loss: 0.3487 - accuracy: 0.8956 - val_loss: 0.5154 - val_accuracy: 0.8486\n",
      "Epoch 18/100\n",
      "126/126 [==============================] - 70s 559ms/step - loss: 0.3395 - accuracy: 0.8982 - val_loss: 0.4994 - val_accuracy: 0.8558\n",
      "Epoch 19/100\n",
      "126/126 [==============================] - 71s 561ms/step - loss: 0.3297 - accuracy: 0.9011 - val_loss: 0.4865 - val_accuracy: 0.8574\n",
      "Epoch 20/100\n",
      "126/126 [==============================] - 72s 574ms/step - loss: 0.3203 - accuracy: 0.9040 - val_loss: 0.5045 - val_accuracy: 0.8530\n",
      "Epoch 21/100\n",
      "126/126 [==============================] - 70s 558ms/step - loss: 0.3117 - accuracy: 0.9066 - val_loss: 0.4972 - val_accuracy: 0.8532\n",
      "Epoch 22/100\n",
      "126/126 [==============================] - 70s 559ms/step - loss: 0.3034 - accuracy: 0.9087 - val_loss: 0.4732 - val_accuracy: 0.8615\n",
      "Epoch 23/100\n",
      "126/126 [==============================] - 70s 553ms/step - loss: 0.2954 - accuracy: 0.9110 - val_loss: 0.4712 - val_accuracy: 0.8635\n",
      "Epoch 24/100\n",
      "126/126 [==============================] - 72s 570ms/step - loss: 0.2882 - accuracy: 0.9132 - val_loss: 0.4748 - val_accuracy: 0.8623\n",
      "Epoch 25/100\n",
      "126/126 [==============================] - 71s 562ms/step - loss: 0.2803 - accuracy: 0.9155 - val_loss: 0.4817 - val_accuracy: 0.8605\n",
      "Epoch 26/100\n",
      "126/126 [==============================] - 73s 579ms/step - loss: 0.2738 - accuracy: 0.9175 - val_loss: 0.4827 - val_accuracy: 0.8610\n",
      "Epoch 27/100\n",
      "126/126 [==============================] - 72s 569ms/step - loss: 0.2657 - accuracy: 0.9202 - val_loss: 0.4626 - val_accuracy: 0.8683\n",
      "Epoch 28/100\n",
      "126/126 [==============================] - 108s 863ms/step - loss: 0.2606 - accuracy: 0.9216 - val_loss: 0.4693 - val_accuracy: 0.8668\n",
      "Epoch 29/100\n",
      "126/126 [==============================] - 91s 720ms/step - loss: 0.2537 - accuracy: 0.9239 - val_loss: 0.4768 - val_accuracy: 0.8661\n",
      "Epoch 30/100\n",
      "126/126 [==============================] - 84s 667ms/step - loss: 0.2475 - accuracy: 0.9258 - val_loss: 0.4749 - val_accuracy: 0.8670\n",
      "Epoch 31/100\n",
      "126/126 [==============================] - 103s 822ms/step - loss: 0.2409 - accuracy: 0.9277 - val_loss: 0.4833 - val_accuracy: 0.8656\n",
      "Epoch 32/100\n",
      "126/126 [==============================] - 108s 857ms/step - loss: 0.2359 - accuracy: 0.9292 - val_loss: 0.4585 - val_accuracy: 0.8718\n",
      "Epoch 33/100\n",
      "126/126 [==============================] - 110s 873ms/step - loss: 0.2296 - accuracy: 0.9312 - val_loss: 0.4797 - val_accuracy: 0.8671\n",
      "Epoch 34/100\n",
      "126/126 [==============================] - 122s 969ms/step - loss: 0.2242 - accuracy: 0.9327 - val_loss: 0.4743 - val_accuracy: 0.8704\n",
      "Epoch 35/100\n",
      "126/126 [==============================] - 127s 1s/step - loss: 0.2184 - accuracy: 0.9344 - val_loss: 0.4718 - val_accuracy: 0.8713\n",
      "Epoch 36/100\n",
      "126/126 [==============================] - 132s 1s/step - loss: 0.2133 - accuracy: 0.9361 - val_loss: 0.4870 - val_accuracy: 0.8675\n",
      "Epoch 37/100\n",
      "126/126 [==============================] - 138s 1s/step - loss: 0.2080 - accuracy: 0.9379 - val_loss: 0.4975 - val_accuracy: 0.8655\n",
      "Epoch 38/100\n",
      "126/126 [==============================] - 153s 1s/step - loss: 0.2031 - accuracy: 0.9393 - val_loss: 0.4945 - val_accuracy: 0.8671\n",
      "Epoch 39/100\n",
      "126/126 [==============================] - 158s 1s/step - loss: 0.1987 - accuracy: 0.9406 - val_loss: 0.4844 - val_accuracy: 0.8710\n",
      "Epoch 40/100\n",
      "126/126 [==============================] - 132s 1s/step - loss: 0.1930 - accuracy: 0.9424 - val_loss: 0.4794 - val_accuracy: 0.8719\n",
      "Epoch 41/100\n",
      "126/126 [==============================] - 107s 847ms/step - loss: 0.1893 - accuracy: 0.9436 - val_loss: 0.4933 - val_accuracy: 0.8717\n",
      "Epoch 42/100\n",
      "126/126 [==============================] - 97s 767ms/step - loss: 0.1850 - accuracy: 0.9446 - val_loss: 0.5111 - val_accuracy: 0.8647\n",
      "Epoch 43/100\n",
      "126/126 [==============================] - 91s 720ms/step - loss: 0.1810 - accuracy: 0.9460 - val_loss: 0.4955 - val_accuracy: 0.8709\n",
      "Epoch 44/100\n",
      "126/126 [==============================] - 87s 688ms/step - loss: 0.1761 - accuracy: 0.9474 - val_loss: 0.5017 - val_accuracy: 0.8718\n",
      "Epoch 45/100\n",
      "126/126 [==============================] - 84s 665ms/step - loss: 0.1724 - accuracy: 0.9483 - val_loss: 0.5149 - val_accuracy: 0.8702\n",
      "Epoch 46/100\n",
      "126/126 [==============================] - 83s 658ms/step - loss: 0.1686 - accuracy: 0.9496 - val_loss: 0.5175 - val_accuracy: 0.8692\n",
      "Epoch 47/100\n",
      "126/126 [==============================] - 85s 675ms/step - loss: 0.1645 - accuracy: 0.9511 - val_loss: 0.5197 - val_accuracy: 0.8675\n",
      "Epoch 48/100\n",
      "126/126 [==============================] - 82s 649ms/step - loss: 0.1613 - accuracy: 0.9519 - val_loss: 0.5187 - val_accuracy: 0.8705\n",
      "Epoch 49/100\n",
      "126/126 [==============================] - 82s 655ms/step - loss: 0.1575 - accuracy: 0.9532 - val_loss: 0.5162 - val_accuracy: 0.8716\n",
      "Epoch 50/100\n",
      "126/126 [==============================] - 82s 650ms/step - loss: 0.1540 - accuracy: 0.9541 - val_loss: 0.5269 - val_accuracy: 0.8693\n",
      "Epoch 51/100\n",
      "126/126 [==============================] - 82s 649ms/step - loss: 0.1503 - accuracy: 0.9550 - val_loss: 0.5349 - val_accuracy: 0.8701\n",
      "Epoch 52/100\n",
      "126/126 [==============================] - 79s 631ms/step - loss: 0.1474 - accuracy: 0.9562 - val_loss: 0.5283 - val_accuracy: 0.8720\n",
      "Epoch 53/100\n",
      "126/126 [==============================] - 79s 626ms/step - loss: 0.1438 - accuracy: 0.9573 - val_loss: 0.5333 - val_accuracy: 0.8706\n",
      "Epoch 54/100\n",
      "126/126 [==============================] - 80s 637ms/step - loss: 0.1405 - accuracy: 0.9581 - val_loss: 0.5340 - val_accuracy: 0.8709\n",
      "Epoch 55/100\n",
      "126/126 [==============================] - 79s 625ms/step - loss: 0.1372 - accuracy: 0.9592 - val_loss: 0.5484 - val_accuracy: 0.8696\n",
      "Epoch 56/100\n",
      "126/126 [==============================] - 79s 628ms/step - loss: 0.1344 - accuracy: 0.9599 - val_loss: 0.5591 - val_accuracy: 0.8690\n"
     ]
    },
    {
     "name": "stdout",
     "output_type": "stream",
     "text": [
      "Epoch 57/100\n",
      "126/126 [==============================] - 76s 603ms/step - loss: 0.1319 - accuracy: 0.9607 - val_loss: 0.5508 - val_accuracy: 0.8697\n",
      "Epoch 58/100\n",
      "126/126 [==============================] - 78s 620ms/step - loss: 0.1288 - accuracy: 0.9616 - val_loss: 0.5595 - val_accuracy: 0.8698\n",
      "Epoch 59/100\n",
      "126/126 [==============================] - 75s 598ms/step - loss: 0.1262 - accuracy: 0.9623 - val_loss: 0.5593 - val_accuracy: 0.8714\n",
      "Epoch 60/100\n",
      "126/126 [==============================] - 75s 592ms/step - loss: 0.1230 - accuracy: 0.9634 - val_loss: 0.5991 - val_accuracy: 0.8636\n",
      "Epoch 61/100\n",
      "126/126 [==============================] - 75s 597ms/step - loss: 0.1205 - accuracy: 0.9641 - val_loss: 0.5743 - val_accuracy: 0.8707\n",
      "Epoch 62/100\n",
      "126/126 [==============================] - 76s 607ms/step - loss: 0.1182 - accuracy: 0.9646 - val_loss: 0.5835 - val_accuracy: 0.8687\n",
      "Epoch 63/100\n",
      "126/126 [==============================] - 76s 604ms/step - loss: 0.1159 - accuracy: 0.9655 - val_loss: 0.5810 - val_accuracy: 0.8694\n",
      "Epoch 64/100\n",
      "126/126 [==============================] - 76s 600ms/step - loss: 0.1128 - accuracy: 0.9663 - val_loss: 0.5903 - val_accuracy: 0.8693\n",
      "Epoch 65/100\n",
      "126/126 [==============================] - 76s 602ms/step - loss: 0.1104 - accuracy: 0.9670 - val_loss: 0.5937 - val_accuracy: 0.8672\n",
      "Epoch 66/100\n",
      "126/126 [==============================] - 76s 605ms/step - loss: 0.1084 - accuracy: 0.9675 - val_loss: 0.6078 - val_accuracy: 0.8682\n",
      "Epoch 67/100\n",
      "126/126 [==============================] - 73s 582ms/step - loss: 0.1056 - accuracy: 0.9683 - val_loss: 0.5998 - val_accuracy: 0.8694\n",
      "Epoch 68/100\n",
      "126/126 [==============================] - 71s 565ms/step - loss: 0.1025 - accuracy: 0.9696 - val_loss: 0.6010 - val_accuracy: 0.8693\n",
      "Epoch 69/100\n",
      "126/126 [==============================] - 71s 560ms/step - loss: 0.1016 - accuracy: 0.9695 - val_loss: 0.5953 - val_accuracy: 0.8718\n",
      "Epoch 70/100\n",
      "126/126 [==============================] - 72s 571ms/step - loss: 0.0992 - accuracy: 0.9704 - val_loss: 0.6104 - val_accuracy: 0.8693\n",
      "Epoch 71/100\n",
      "126/126 [==============================] - 70s 557ms/step - loss: 0.0964 - accuracy: 0.9713 - val_loss: 0.6156 - val_accuracy: 0.8696\n",
      "Epoch 72/100\n",
      "126/126 [==============================] - 69s 550ms/step - loss: 0.0951 - accuracy: 0.9715 - val_loss: 0.6081 - val_accuracy: 0.8715\n",
      "Epoch 73/100\n",
      "126/126 [==============================] - 69s 550ms/step - loss: 0.0928 - accuracy: 0.9722 - val_loss: 0.6253 - val_accuracy: 0.8680\n",
      "Epoch 74/100\n",
      "126/126 [==============================] - 70s 560ms/step - loss: 0.0900 - accuracy: 0.9733 - val_loss: 0.6268 - val_accuracy: 0.8703\n",
      "Epoch 75/100\n",
      "126/126 [==============================] - 71s 562ms/step - loss: 0.0889 - accuracy: 0.9737 - val_loss: 0.6308 - val_accuracy: 0.8703\n",
      "Epoch 76/100\n",
      "126/126 [==============================] - 69s 547ms/step - loss: 0.0863 - accuracy: 0.9744 - val_loss: 0.6497 - val_accuracy: 0.8670\n",
      "Epoch 77/100\n",
      "126/126 [==============================] - 69s 547ms/step - loss: 0.0847 - accuracy: 0.9749 - val_loss: 0.6488 - val_accuracy: 0.8679\n",
      "Epoch 78/100\n",
      "126/126 [==============================] - 71s 562ms/step - loss: 0.0830 - accuracy: 0.9752 - val_loss: 0.6767 - val_accuracy: 0.8640\n",
      "Epoch 79/100\n",
      "126/126 [==============================] - 71s 560ms/step - loss: 0.0817 - accuracy: 0.9758 - val_loss: 0.6571 - val_accuracy: 0.8691\n",
      "Epoch 80/100\n",
      "126/126 [==============================] - 69s 545ms/step - loss: 0.0790 - accuracy: 0.9765 - val_loss: 0.6675 - val_accuracy: 0.8689\n",
      "Epoch 81/100\n",
      "126/126 [==============================] - 68s 541ms/step - loss: 0.0775 - accuracy: 0.9769 - val_loss: 0.6634 - val_accuracy: 0.8679\n",
      "Epoch 82/100\n",
      "126/126 [==============================] - 68s 537ms/step - loss: 0.0749 - accuracy: 0.9776 - val_loss: 0.6768 - val_accuracy: 0.8681\n",
      "Epoch 83/100\n",
      "126/126 [==============================] - 72s 568ms/step - loss: 0.0739 - accuracy: 0.9780 - val_loss: 0.6754 - val_accuracy: 0.8688\n",
      "Epoch 84/100\n",
      "126/126 [==============================] - 73s 575ms/step - loss: 0.0720 - accuracy: 0.9786 - val_loss: 0.6746 - val_accuracy: 0.8681\n",
      "Epoch 85/100\n",
      "126/126 [==============================] - 68s 539ms/step - loss: 0.0704 - accuracy: 0.9791 - val_loss: 0.6906 - val_accuracy: 0.8685\n",
      "Epoch 86/100\n",
      "126/126 [==============================] - 68s 537ms/step - loss: 0.0689 - accuracy: 0.9795 - val_loss: 0.7283 - val_accuracy: 0.8628\n",
      "Epoch 87/100\n",
      "126/126 [==============================] - 68s 539ms/step - loss: 0.0673 - accuracy: 0.9801 - val_loss: 0.6914 - val_accuracy: 0.8696\n",
      "Epoch 88/100\n",
      "126/126 [==============================] - 70s 558ms/step - loss: 0.0661 - accuracy: 0.9803 - val_loss: 0.6919 - val_accuracy: 0.8681\n",
      "Epoch 89/100\n",
      "126/126 [==============================] - 67s 533ms/step - loss: 0.0649 - accuracy: 0.9808 - val_loss: 0.6992 - val_accuracy: 0.8686\n",
      "Epoch 90/100\n",
      "126/126 [==============================] - 67s 530ms/step - loss: 0.0633 - accuracy: 0.9814 - val_loss: 0.7212 - val_accuracy: 0.8666\n",
      "Epoch 91/100\n",
      "126/126 [==============================] - 67s 532ms/step - loss: 0.0617 - accuracy: 0.9818 - val_loss: 0.7230 - val_accuracy: 0.8683\n",
      "Epoch 92/100\n",
      "126/126 [==============================] - 70s 557ms/step - loss: 0.0602 - accuracy: 0.9823 - val_loss: 0.7241 - val_accuracy: 0.8680\n",
      "Epoch 93/100\n",
      "126/126 [==============================] - 68s 542ms/step - loss: 0.0586 - accuracy: 0.9828 - val_loss: 0.7424 - val_accuracy: 0.8665\n",
      "Epoch 94/100\n",
      "126/126 [==============================] - 67s 536ms/step - loss: 0.0574 - accuracy: 0.9831 - val_loss: 0.7414 - val_accuracy: 0.8654\n",
      "Epoch 95/100\n",
      "126/126 [==============================] - 68s 539ms/step - loss: 0.0556 - accuracy: 0.9838 - val_loss: 0.7447 - val_accuracy: 0.8662\n",
      "Epoch 96/100\n",
      "126/126 [==============================] - 69s 549ms/step - loss: 0.0547 - accuracy: 0.9838 - val_loss: 0.7388 - val_accuracy: 0.8685\n",
      "Epoch 97/100\n",
      "126/126 [==============================] - 68s 543ms/step - loss: 0.0530 - accuracy: 0.9844 - val_loss: 0.7392 - val_accuracy: 0.8686\n",
      "Epoch 98/100\n",
      "126/126 [==============================] - 67s 534ms/step - loss: 0.0518 - accuracy: 0.9848 - val_loss: 0.7547 - val_accuracy: 0.8668\n",
      "Epoch 99/100\n",
      "126/126 [==============================] - 68s 538ms/step - loss: 0.0507 - accuracy: 0.9854 - val_loss: 0.7536 - val_accuracy: 0.8679\n",
      "Epoch 100/100\n",
      "126/126 [==============================] - 68s 544ms/step - loss: 0.0490 - accuracy: 0.9857 - val_loss: 0.7639 - val_accuracy: 0.8666\n"
     ]
    },
    {
     "data": {
      "text/plain": [
       "<keras.callbacks.History at 0x7fc8245fe340>"
      ]
     },
     "execution_count": 65,
     "metadata": {},
     "output_type": "execute_result"
    }
   ],
   "source": [
    "model = Model([encoder_inputs, decoder_inputs], decoder_outputs)\n",
    "model.compile(optimizer='rmsprop', loss='categorical_crossentropy', metrics=['accuracy'])\n",
    "model.fit([encoder_input_data, decoder_input_data], decoder_target_data,\n",
    "          batch_size=batch_size,\n",
    "          epochs=epochs,\n",
    "          validation_split=0.2)"
   ]
  },
  {
   "cell_type": "code",
   "execution_count": 66,
   "metadata": {
    "execution": {
     "iopub.execute_input": "2021-12-17T15:50:21.300660Z",
     "iopub.status.busy": "2021-12-17T15:50:21.300405Z",
     "iopub.status.idle": "2021-12-17T15:50:21.503877Z",
     "shell.execute_reply": "2021-12-17T15:50:21.503128Z",
     "shell.execute_reply.started": "2021-12-17T15:50:21.300627Z"
    }
   },
   "outputs": [],
   "source": [
    "encoder_model = Model(encoder_inputs, encoder_states)\n",
    "\n",
    "decoder_state_input_h = Input(shape=(latent_dim,))\n",
    "decoder_state_input_c = Input(shape=(latent_dim,))\n",
    "decoder_states_inputs = [decoder_state_input_h, decoder_state_input_c]\n",
    "decoder_outputs, state_h, state_c = decoder_lstm(\n",
    "    decoder_inputs, initial_state=decoder_states_inputs)\n",
    "decoder_states = [state_h, state_c]\n",
    "decoder_outputs = decoder_dense(decoder_outputs)\n",
    "decoder_model = Model(\n",
    "    [decoder_inputs] + decoder_states_inputs,\n",
    "    [decoder_outputs] + decoder_states)"
   ]
  },
  {
   "cell_type": "code",
   "execution_count": 67,
   "metadata": {
    "execution": {
     "iopub.execute_input": "2021-12-17T15:50:21.505536Z",
     "iopub.status.busy": "2021-12-17T15:50:21.505290Z",
     "iopub.status.idle": "2021-12-17T15:50:21.510266Z",
     "shell.execute_reply": "2021-12-17T15:50:21.509495Z",
     "shell.execute_reply.started": "2021-12-17T15:50:21.505504Z"
    }
   },
   "outputs": [],
   "source": [
    "reverse_input_char_index = dict((i, char) for char, i in input_token_index.items())\n",
    "reverse_target_char_index = dict((i, char) for char, i in target_token_index.items())"
   ]
  },
  {
   "cell_type": "code",
   "execution_count": 68,
   "metadata": {
    "execution": {
     "iopub.execute_input": "2021-12-17T15:50:21.512430Z",
     "iopub.status.busy": "2021-12-17T15:50:21.511900Z",
     "iopub.status.idle": "2021-12-17T15:50:21.521223Z",
     "shell.execute_reply": "2021-12-17T15:50:21.520502Z",
     "shell.execute_reply.started": "2021-12-17T15:50:21.512395Z"
    }
   },
   "outputs": [],
   "source": [
    "def decode_sequence(input_seq):\n",
    "    # Encode the input as state vectors.\n",
    "    states_value = encoder_model.predict(input_seq)\n",
    "\n",
    "    # Generate empty target sequence of length 1.\n",
    "    target_seq = np.zeros((1, 1, num_decoder_tokens))\n",
    "    # Populate the first character of target sequence with the start character.\n",
    "    target_seq[0, 0, target_token_index['\\t']] = 1.\n",
    "\n",
    "    # Sampling loop for a batch of sequences\n",
    "    # (to simplify, here we assume a batch of size 1).\n",
    "    stop_condition = False\n",
    "    decoded_sentence = ''\n",
    "    while not stop_condition:\n",
    "        output_tokens, h, c = decoder_model.predict(\n",
    "            [target_seq] + states_value)\n",
    "\n",
    "        # Sample a token\n",
    "        sampled_token_index = np.argmax(output_tokens[0, -1, :])\n",
    "        sampled_char = reverse_target_char_index[sampled_token_index]\n",
    "        decoded_sentence += sampled_char\n",
    "\n",
    "        # Exit condition: either hit max length\n",
    "        # or find stop character.\n",
    "        if (sampled_char == '\\n' or\n",
    "           len(decoded_sentence) > max_output_length):\n",
    "            stop_condition = True\n",
    "\n",
    "        # Update the target sequence (of length 1).\n",
    "        target_seq = np.zeros((1, 1, num_decoder_tokens))\n",
    "        target_seq[0, 0, sampled_token_index] = 1.\n",
    "\n",
    "        # Update states\n",
    "        states_value = [h, c]\n",
    "\n",
    "    return decoded_sentence"
   ]
  },
  {
   "cell_type": "code",
   "execution_count": 69,
   "metadata": {
    "execution": {
     "iopub.execute_input": "2021-12-17T15:50:43.130688Z",
     "iopub.status.busy": "2021-12-17T15:50:43.130435Z",
     "iopub.status.idle": "2021-12-17T15:50:47.088707Z",
     "shell.execute_reply": "2021-12-17T15:50:47.087974Z",
     "shell.execute_reply.started": "2021-12-17T15:50:43.130659Z"
    }
   },
   "outputs": [
    {
     "name": "stdout",
     "output_type": "stream",
     "text": [
      "\n",
      "-\n",
      "Input text: \tgo.\n",
      "\n",
      "Output text: vais-lui !\n",
      "\n",
      "Actual text 0    Va !\n",
      "Name: french, dtype: object\n",
      "\n",
      "-\n",
      "Input text: \tgo.\n",
      "\n",
      "Output text: vais-lui !\n",
      "\n",
      "Actual text 1    Va !\n",
      "Name: french, dtype: object\n",
      "\n",
      "-\n",
      "Input text: \thi.\n",
      "\n",
      "Output text: salut !\n",
      "\n",
      "Actual text 2    Salut !\n",
      "Name: french, dtype: object\n",
      "\n",
      "-\n",
      "Input text: \trun!\n",
      "\n",
      "Output text: cours !\n",
      "\n",
      "Actual text 3    Cours !\n",
      "Name: french, dtype: object\n",
      "\n",
      "-\n",
      "Input text: \trun.\n",
      "\n",
      "Output text: cours !\n",
      "\n",
      "Actual text 4    Cours !\n",
      "Name: french, dtype: object\n",
      "\n",
      "-\n",
      "Input text: \twho?\n",
      "\n",
      "Output text: qui ?\n",
      "\n",
      "Actual text 5    Qui ?\n",
      "Name: french, dtype: object\n",
      "\n",
      "-\n",
      "Input text: \twow!\n",
      "\n",
      "Output text: ça alors !\n",
      "\n",
      "Actual text 6    Ça alors !\n",
      "Name: french, dtype: object\n",
      "\n",
      "-\n",
      "Input text: \tduck!\n",
      "\n",
      "Output text: le chiencement.\n",
      "\n",
      "Actual text 7    À terre !\n",
      "Name: french, dtype: object\n",
      "\n",
      "-\n",
      "Input text: \tfire!\n",
      "\n",
      "Output text: au feu !\n",
      "\n",
      "Actual text 8    Au feu !\n",
      "Name: french, dtype: object\n",
      "\n",
      "-\n",
      "Input text: \thelp!\n",
      "\n",
      "Output text: à l'aide !\n",
      "\n",
      "Actual text 9    À l'aide !\n",
      "Name: french, dtype: object\n"
     ]
    }
   ],
   "source": [
    "for seq_index in range(10):\n",
    "    \n",
    "    input_seq = encoder_input_data[seq_index: seq_index+1]\n",
    "    decoded_sentence = decode_sequence(input_seq)\n",
    "    print('\\n-')\n",
    "    print('Input text:', eng_corpus[seq_index])\n",
    "    print('Output text:', decoded_sentence)\n",
    "    print(\"Actual text\", preprocessed_data.french[seq_index: seq_index+1])\n",
    "    "
   ]
  },
  {
   "cell_type": "code",
   "execution_count": 70,
   "metadata": {},
   "outputs": [
    {
     "name": "stdout",
     "output_type": "stream",
     "text": [
      "\n",
      "-\n",
      "Input text: \thelp!\n",
      "\n",
      "Output text: à l'aide !\n",
      "\n",
      "Actual text 9    À l'aide !\n",
      "Name: french, dtype: object\n"
     ]
    }
   ],
   "source": [
    "input_seq = encoder_input_data[seq_index: seq_index+1]\n",
    "decoded_sentence = decode_sequence(input_seq)\n",
    "print('\\n-')\n",
    "print('Input text:', eng_corpus[seq_index])\n",
    "print('Output text:', decoded_sentence)\n",
    "print(\"Actual text\", preprocessed_data.french[seq_index: seq_index+1])"
   ]
  },
  {
   "cell_type": "code",
   "execution_count": 71,
   "metadata": {
    "execution": {
     "iopub.execute_input": "2021-12-17T16:14:10.441665Z",
     "iopub.status.busy": "2021-12-17T16:14:10.441378Z",
     "iopub.status.idle": "2021-12-17T16:14:10.452328Z",
     "shell.execute_reply": "2021-12-17T16:14:10.451559Z",
     "shell.execute_reply.started": "2021-12-17T16:14:10.441633Z"
    }
   },
   "outputs": [
    {
     "data": {
      "text/html": [
       "<div>\n",
       "<style scoped>\n",
       "    .dataframe tbody tr th:only-of-type {\n",
       "        vertical-align: middle;\n",
       "    }\n",
       "\n",
       "    .dataframe tbody tr th {\n",
       "        vertical-align: top;\n",
       "    }\n",
       "\n",
       "    .dataframe thead th {\n",
       "        text-align: right;\n",
       "    }\n",
       "</style>\n",
       "<table border=\"1\" class=\"dataframe\">\n",
       "  <thead>\n",
       "    <tr style=\"text-align: right;\">\n",
       "      <th></th>\n",
       "      <th>english</th>\n",
       "      <th>french</th>\n",
       "    </tr>\n",
       "  </thead>\n",
       "  <tbody>\n",
       "    <tr>\n",
       "      <th>0</th>\n",
       "      <td>Go.</td>\n",
       "      <td>Va !</td>\n",
       "    </tr>\n",
       "    <tr>\n",
       "      <th>1</th>\n",
       "      <td>Go.</td>\n",
       "      <td>Va !</td>\n",
       "    </tr>\n",
       "    <tr>\n",
       "      <th>2</th>\n",
       "      <td>Hi.</td>\n",
       "      <td>Salut !</td>\n",
       "    </tr>\n",
       "    <tr>\n",
       "      <th>3</th>\n",
       "      <td>Run!</td>\n",
       "      <td>Cours !</td>\n",
       "    </tr>\n",
       "    <tr>\n",
       "      <th>4</th>\n",
       "      <td>Run.</td>\n",
       "      <td>Cours !</td>\n",
       "    </tr>\n",
       "    <tr>\n",
       "      <th>5</th>\n",
       "      <td>Who?</td>\n",
       "      <td>Qui ?</td>\n",
       "    </tr>\n",
       "    <tr>\n",
       "      <th>6</th>\n",
       "      <td>Wow!</td>\n",
       "      <td>Ça alors !</td>\n",
       "    </tr>\n",
       "    <tr>\n",
       "      <th>7</th>\n",
       "      <td>Duck!</td>\n",
       "      <td>À terre !</td>\n",
       "    </tr>\n",
       "    <tr>\n",
       "      <th>8</th>\n",
       "      <td>Fire!</td>\n",
       "      <td>Au feu !</td>\n",
       "    </tr>\n",
       "    <tr>\n",
       "      <th>9</th>\n",
       "      <td>Help!</td>\n",
       "      <td>À l'aide !</td>\n",
       "    </tr>\n",
       "    <tr>\n",
       "      <th>10</th>\n",
       "      <td>Hide.</td>\n",
       "      <td>Cache-toi.</td>\n",
       "    </tr>\n",
       "    <tr>\n",
       "      <th>11</th>\n",
       "      <td>Jump!</td>\n",
       "      <td>Saute.</td>\n",
       "    </tr>\n",
       "    <tr>\n",
       "      <th>12</th>\n",
       "      <td>Jump.</td>\n",
       "      <td>Saute.</td>\n",
       "    </tr>\n",
       "    <tr>\n",
       "      <th>13</th>\n",
       "      <td>Stop!</td>\n",
       "      <td>Ça suffit !</td>\n",
       "    </tr>\n",
       "    <tr>\n",
       "      <th>14</th>\n",
       "      <td>Wait!</td>\n",
       "      <td>Attends !</td>\n",
       "    </tr>\n",
       "    <tr>\n",
       "      <th>15</th>\n",
       "      <td>Wait.</td>\n",
       "      <td>Attends !</td>\n",
       "    </tr>\n",
       "    <tr>\n",
       "      <th>16</th>\n",
       "      <td>Begin.</td>\n",
       "      <td>Commencez.</td>\n",
       "    </tr>\n",
       "    <tr>\n",
       "      <th>17</th>\n",
       "      <td>Go on.</td>\n",
       "      <td>Poursuis.</td>\n",
       "    </tr>\n",
       "    <tr>\n",
       "      <th>18</th>\n",
       "      <td>Hello!</td>\n",
       "      <td>Bonjour !</td>\n",
       "    </tr>\n",
       "    <tr>\n",
       "      <th>19</th>\n",
       "      <td>I see.</td>\n",
       "      <td>Je comprends.</td>\n",
       "    </tr>\n",
       "  </tbody>\n",
       "</table>\n",
       "</div>"
      ],
      "text/plain": [
       "   english         french\n",
       "0      Go.           Va !\n",
       "1      Go.           Va !\n",
       "2      Hi.        Salut !\n",
       "3     Run!        Cours !\n",
       "4     Run.        Cours !\n",
       "5     Who?          Qui ?\n",
       "6     Wow!     Ça alors !\n",
       "7    Duck!      À terre !\n",
       "8    Fire!       Au feu !\n",
       "9    Help!     À l'aide !\n",
       "10   Hide.     Cache-toi.\n",
       "11   Jump!         Saute.\n",
       "12   Jump.         Saute.\n",
       "13   Stop!    Ça suffit !\n",
       "14   Wait!      Attends !\n",
       "15   Wait.      Attends !\n",
       "16  Begin.     Commencez.\n",
       "17  Go on.      Poursuis.\n",
       "18  Hello!      Bonjour !\n",
       "19  I see.  Je comprends."
      ]
     },
     "execution_count": 71,
     "metadata": {},
     "output_type": "execute_result"
    }
   ],
   "source": [
    "preprocessed_data.head(20)"
   ]
  },
  {
   "cell_type": "code",
   "execution_count": null,
   "metadata": {
    "execution": {
     "iopub.execute_input": "2021-12-17T16:05:16.346441Z",
     "iopub.status.busy": "2021-12-17T16:05:16.346183Z",
     "iopub.status.idle": "2021-12-17T16:05:16.350661Z",
     "shell.execute_reply": "2021-12-17T16:05:16.349998Z",
     "shell.execute_reply.started": "2021-12-17T16:05:16.346412Z"
    }
   },
   "outputs": [],
   "source": []
  },
  {
   "cell_type": "code",
   "execution_count": null,
   "metadata": {
    "execution": {
     "iopub.execute_input": "2021-12-17T16:05:17.020080Z",
     "iopub.status.busy": "2021-12-17T16:05:17.019024Z",
     "iopub.status.idle": "2021-12-17T16:05:17.026140Z",
     "shell.execute_reply": "2021-12-17T16:05:17.025138Z",
     "shell.execute_reply.started": "2021-12-17T16:05:17.020032Z"
    }
   },
   "outputs": [],
   "source": []
  },
  {
   "cell_type": "code",
   "execution_count": null,
   "metadata": {
    "execution": {
     "iopub.execute_input": "2021-12-17T16:05:17.745658Z",
     "iopub.status.busy": "2021-12-17T16:05:17.744802Z",
     "iopub.status.idle": "2021-12-17T16:05:17.979854Z",
     "shell.execute_reply": "2021-12-17T16:05:17.979121Z",
     "shell.execute_reply.started": "2021-12-17T16:05:17.745613Z"
    }
   },
   "outputs": [],
   "source": []
  },
  {
   "cell_type": "code",
   "execution_count": 72,
   "metadata": {
    "execution": {
     "iopub.execute_input": "2021-12-17T16:18:09.980679Z",
     "iopub.status.busy": "2021-12-17T16:18:09.980278Z",
     "iopub.status.idle": "2021-12-17T16:18:09.992824Z",
     "shell.execute_reply": "2021-12-17T16:18:09.992009Z",
     "shell.execute_reply.started": "2021-12-17T16:18:09.980638Z"
    }
   },
   "outputs": [],
   "source": [
    "def test():\n",
    "    \n",
    "    print('Enter a something in english')\n",
    "    text = input()\n",
    "    \n",
    "    text = '\\t'+text.lower()+'\\n'\n",
    "    test_corpus = [text]\n",
    "    test_encoder_input_data = np.zeros((len(eng_corpus),max_input_length, num_encoder_tokens),dtype='float32')\n",
    "    \n",
    "    for i, input_text in enumerate(test_corpus):\n",
    "        for j, char in enumerate(input_text):\n",
    "            test_encoder_input_data[i, j, input_token_index[char]] = 1.\n",
    "        test_encoder_input_data[i, j+1:, input_token_index[' ']] = 1.\n",
    "            \n",
    "    decoded_sentence = decode_sequence(test_encoder_input_data[:1])\n",
    "    print('Output text:', decoded_sentence)\n",
    "    "
   ]
  },
  {
   "cell_type": "code",
   "execution_count": 76,
   "metadata": {
    "execution": {
     "iopub.execute_input": "2021-12-17T16:24:55.223188Z",
     "iopub.status.busy": "2021-12-17T16:24:55.222615Z",
     "iopub.status.idle": "2021-12-17T16:24:58.660096Z",
     "shell.execute_reply": "2021-12-17T16:24:58.659365Z",
     "shell.execute_reply.started": "2021-12-17T16:24:55.223150Z"
    }
   },
   "outputs": [
    {
     "name": "stdout",
     "output_type": "stream",
     "text": [
      "Enter a something in english\n",
      "hi.\n",
      "Output text: salut !\n",
      "\n"
     ]
    }
   ],
   "source": [
    "test()"
   ]
  },
  {
   "cell_type": "code",
   "execution_count": 79,
   "metadata": {},
   "outputs": [
    {
     "name": "stdout",
     "output_type": "stream",
     "text": [
      "Enter a something in english\n",
      "hi.....\n",
      "Output text: revinez !\n",
      "\n"
     ]
    }
   ],
   "source": [
    "test()"
   ]
  },
  {
   "cell_type": "code",
   "execution_count": null,
   "metadata": {},
   "outputs": [],
   "source": []
  }
 ],
 "metadata": {
  "kernelspec": {
   "display_name": "Python 3",
   "language": "python",
   "name": "python3"
  },
  "language_info": {
   "codemirror_mode": {
    "name": "ipython",
    "version": 3
   },
   "file_extension": ".py",
   "mimetype": "text/x-python",
   "name": "python",
   "nbconvert_exporter": "python",
   "pygments_lexer": "ipython3",
   "version": "3.9.1"
  }
 },
 "nbformat": 4,
 "nbformat_minor": 4
}
