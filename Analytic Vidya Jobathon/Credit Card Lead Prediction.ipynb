{
 "cells": [
  {
   "cell_type": "code",
   "execution_count": 859,
   "metadata": {},
   "outputs": [],
   "source": [
    "import pandas as pd\n",
    "import pandas_profiling\n",
    "from pandas_profiling import ProfileReport\n",
    "import numpy as np\n",
    "import seaborn as sns\n",
    "import matplotlib.pyplot as plt\n",
    "from sklearn.metrics import roc_curve, auc, accuracy_score"
   ]
  },
  {
   "cell_type": "code",
   "execution_count": 860,
   "metadata": {},
   "outputs": [],
   "source": [
    "raw_data = pd.read_csv('train_s3TEQDk.csv')"
   ]
  },
  {
   "cell_type": "code",
   "execution_count": 861,
   "metadata": {},
   "outputs": [
    {
     "data": {
      "text/html": [
       "<div>\n",
       "<style scoped>\n",
       "    .dataframe tbody tr th:only-of-type {\n",
       "        vertical-align: middle;\n",
       "    }\n",
       "\n",
       "    .dataframe tbody tr th {\n",
       "        vertical-align: top;\n",
       "    }\n",
       "\n",
       "    .dataframe thead th {\n",
       "        text-align: right;\n",
       "    }\n",
       "</style>\n",
       "<table border=\"1\" class=\"dataframe\">\n",
       "  <thead>\n",
       "    <tr style=\"text-align: right;\">\n",
       "      <th></th>\n",
       "      <th>ID</th>\n",
       "      <th>Gender</th>\n",
       "      <th>Age</th>\n",
       "      <th>Region_Code</th>\n",
       "      <th>Occupation</th>\n",
       "      <th>Channel_Code</th>\n",
       "      <th>Vintage</th>\n",
       "      <th>Credit_Product</th>\n",
       "      <th>Avg_Account_Balance</th>\n",
       "      <th>Is_Active</th>\n",
       "      <th>Is_Lead</th>\n",
       "    </tr>\n",
       "  </thead>\n",
       "  <tbody>\n",
       "    <tr>\n",
       "      <th>0</th>\n",
       "      <td>NNVBBKZB</td>\n",
       "      <td>Female</td>\n",
       "      <td>73</td>\n",
       "      <td>RG268</td>\n",
       "      <td>Other</td>\n",
       "      <td>X3</td>\n",
       "      <td>43</td>\n",
       "      <td>No</td>\n",
       "      <td>1045696</td>\n",
       "      <td>No</td>\n",
       "      <td>0</td>\n",
       "    </tr>\n",
       "    <tr>\n",
       "      <th>1</th>\n",
       "      <td>IDD62UNG</td>\n",
       "      <td>Female</td>\n",
       "      <td>30</td>\n",
       "      <td>RG277</td>\n",
       "      <td>Salaried</td>\n",
       "      <td>X1</td>\n",
       "      <td>32</td>\n",
       "      <td>No</td>\n",
       "      <td>581988</td>\n",
       "      <td>No</td>\n",
       "      <td>0</td>\n",
       "    </tr>\n",
       "    <tr>\n",
       "      <th>2</th>\n",
       "      <td>HD3DSEMC</td>\n",
       "      <td>Female</td>\n",
       "      <td>56</td>\n",
       "      <td>RG268</td>\n",
       "      <td>Self_Employed</td>\n",
       "      <td>X3</td>\n",
       "      <td>26</td>\n",
       "      <td>No</td>\n",
       "      <td>1484315</td>\n",
       "      <td>Yes</td>\n",
       "      <td>0</td>\n",
       "    </tr>\n",
       "    <tr>\n",
       "      <th>3</th>\n",
       "      <td>BF3NC7KV</td>\n",
       "      <td>Male</td>\n",
       "      <td>34</td>\n",
       "      <td>RG270</td>\n",
       "      <td>Salaried</td>\n",
       "      <td>X1</td>\n",
       "      <td>19</td>\n",
       "      <td>No</td>\n",
       "      <td>470454</td>\n",
       "      <td>No</td>\n",
       "      <td>0</td>\n",
       "    </tr>\n",
       "    <tr>\n",
       "      <th>4</th>\n",
       "      <td>TEASRWXV</td>\n",
       "      <td>Female</td>\n",
       "      <td>30</td>\n",
       "      <td>RG282</td>\n",
       "      <td>Salaried</td>\n",
       "      <td>X1</td>\n",
       "      <td>33</td>\n",
       "      <td>No</td>\n",
       "      <td>886787</td>\n",
       "      <td>No</td>\n",
       "      <td>0</td>\n",
       "    </tr>\n",
       "  </tbody>\n",
       "</table>\n",
       "</div>"
      ],
      "text/plain": [
       "         ID  Gender  Age Region_Code     Occupation Channel_Code  Vintage  \\\n",
       "0  NNVBBKZB  Female   73       RG268          Other           X3       43   \n",
       "1  IDD62UNG  Female   30       RG277       Salaried           X1       32   \n",
       "2  HD3DSEMC  Female   56       RG268  Self_Employed           X3       26   \n",
       "3  BF3NC7KV    Male   34       RG270       Salaried           X1       19   \n",
       "4  TEASRWXV  Female   30       RG282       Salaried           X1       33   \n",
       "\n",
       "  Credit_Product  Avg_Account_Balance Is_Active  Is_Lead  \n",
       "0             No              1045696        No        0  \n",
       "1             No               581988        No        0  \n",
       "2             No              1484315       Yes        0  \n",
       "3             No               470454        No        0  \n",
       "4             No               886787        No        0  "
      ]
     },
     "execution_count": 861,
     "metadata": {},
     "output_type": "execute_result"
    }
   ],
   "source": [
    "raw_data.head()"
   ]
  },
  {
   "cell_type": "markdown",
   "metadata": {},
   "source": [
    "# Data Preprocessing"
   ]
  },
  {
   "cell_type": "code",
   "execution_count": 862,
   "metadata": {},
   "outputs": [
    {
     "data": {
      "text/html": [
       "<div>\n",
       "<style scoped>\n",
       "    .dataframe tbody tr th:only-of-type {\n",
       "        vertical-align: middle;\n",
       "    }\n",
       "\n",
       "    .dataframe tbody tr th {\n",
       "        vertical-align: top;\n",
       "    }\n",
       "\n",
       "    .dataframe thead th {\n",
       "        text-align: right;\n",
       "    }\n",
       "</style>\n",
       "<table border=\"1\" class=\"dataframe\">\n",
       "  <thead>\n",
       "    <tr style=\"text-align: right;\">\n",
       "      <th></th>\n",
       "      <th>Age</th>\n",
       "      <th>Vintage</th>\n",
       "      <th>Avg_Account_Balance</th>\n",
       "      <th>Is_Lead</th>\n",
       "    </tr>\n",
       "  </thead>\n",
       "  <tbody>\n",
       "    <tr>\n",
       "      <th>count</th>\n",
       "      <td>245725.000000</td>\n",
       "      <td>245725.000000</td>\n",
       "      <td>2.457250e+05</td>\n",
       "      <td>245725.000000</td>\n",
       "    </tr>\n",
       "    <tr>\n",
       "      <th>mean</th>\n",
       "      <td>43.856307</td>\n",
       "      <td>46.959141</td>\n",
       "      <td>1.128403e+06</td>\n",
       "      <td>0.237208</td>\n",
       "    </tr>\n",
       "    <tr>\n",
       "      <th>std</th>\n",
       "      <td>14.828672</td>\n",
       "      <td>32.353136</td>\n",
       "      <td>8.529364e+05</td>\n",
       "      <td>0.425372</td>\n",
       "    </tr>\n",
       "    <tr>\n",
       "      <th>min</th>\n",
       "      <td>23.000000</td>\n",
       "      <td>7.000000</td>\n",
       "      <td>2.079000e+04</td>\n",
       "      <td>0.000000</td>\n",
       "    </tr>\n",
       "    <tr>\n",
       "      <th>25%</th>\n",
       "      <td>30.000000</td>\n",
       "      <td>20.000000</td>\n",
       "      <td>6.043100e+05</td>\n",
       "      <td>0.000000</td>\n",
       "    </tr>\n",
       "    <tr>\n",
       "      <th>50%</th>\n",
       "      <td>43.000000</td>\n",
       "      <td>32.000000</td>\n",
       "      <td>8.946010e+05</td>\n",
       "      <td>0.000000</td>\n",
       "    </tr>\n",
       "    <tr>\n",
       "      <th>75%</th>\n",
       "      <td>54.000000</td>\n",
       "      <td>73.000000</td>\n",
       "      <td>1.366666e+06</td>\n",
       "      <td>0.000000</td>\n",
       "    </tr>\n",
       "    <tr>\n",
       "      <th>max</th>\n",
       "      <td>85.000000</td>\n",
       "      <td>135.000000</td>\n",
       "      <td>1.035201e+07</td>\n",
       "      <td>1.000000</td>\n",
       "    </tr>\n",
       "  </tbody>\n",
       "</table>\n",
       "</div>"
      ],
      "text/plain": [
       "                 Age        Vintage  Avg_Account_Balance        Is_Lead\n",
       "count  245725.000000  245725.000000         2.457250e+05  245725.000000\n",
       "mean       43.856307      46.959141         1.128403e+06       0.237208\n",
       "std        14.828672      32.353136         8.529364e+05       0.425372\n",
       "min        23.000000       7.000000         2.079000e+04       0.000000\n",
       "25%        30.000000      20.000000         6.043100e+05       0.000000\n",
       "50%        43.000000      32.000000         8.946010e+05       0.000000\n",
       "75%        54.000000      73.000000         1.366666e+06       0.000000\n",
       "max        85.000000     135.000000         1.035201e+07       1.000000"
      ]
     },
     "execution_count": 862,
     "metadata": {},
     "output_type": "execute_result"
    }
   ],
   "source": [
    "raw_data.describe()"
   ]
  },
  {
   "cell_type": "code",
   "execution_count": 863,
   "metadata": {},
   "outputs": [],
   "source": [
    "q1 = raw_data['Vintage'].quantile(0.99)\n",
    "q2 = raw_data['Avg_Account_Balance'].quantile(0.99)\n",
    "\n",
    "df = raw_data[raw_data['Vintage']<q1]\n",
    "raw_data = df[df['Avg_Account_Balance']<q2]"
   ]
  },
  {
   "cell_type": "markdown",
   "metadata": {},
   "source": [
    "##### removing the outliers"
   ]
  },
  {
   "cell_type": "code",
   "execution_count": 864,
   "metadata": {},
   "outputs": [
    {
     "data": {
      "text/html": [
       "<div>\n",
       "<style scoped>\n",
       "    .dataframe tbody tr th:only-of-type {\n",
       "        vertical-align: middle;\n",
       "    }\n",
       "\n",
       "    .dataframe tbody tr th {\n",
       "        vertical-align: top;\n",
       "    }\n",
       "\n",
       "    .dataframe thead th {\n",
       "        text-align: right;\n",
       "    }\n",
       "</style>\n",
       "<table border=\"1\" class=\"dataframe\">\n",
       "  <thead>\n",
       "    <tr style=\"text-align: right;\">\n",
       "      <th></th>\n",
       "      <th>Age</th>\n",
       "      <th>Vintage</th>\n",
       "      <th>Avg_Account_Balance</th>\n",
       "      <th>Is_Lead</th>\n",
       "    </tr>\n",
       "  </thead>\n",
       "  <tbody>\n",
       "    <tr>\n",
       "      <th>count</th>\n",
       "      <td>240751.000000</td>\n",
       "      <td>240751.000000</td>\n",
       "      <td>2.407510e+05</td>\n",
       "      <td>240751.000000</td>\n",
       "    </tr>\n",
       "    <tr>\n",
       "      <th>mean</th>\n",
       "      <td>43.639246</td>\n",
       "      <td>46.032461</td>\n",
       "      <td>1.075533e+06</td>\n",
       "      <td>0.235933</td>\n",
       "    </tr>\n",
       "    <tr>\n",
       "      <th>std</th>\n",
       "      <td>14.750024</td>\n",
       "      <td>31.428285</td>\n",
       "      <td>6.924568e+05</td>\n",
       "      <td>0.424581</td>\n",
       "    </tr>\n",
       "    <tr>\n",
       "      <th>min</th>\n",
       "      <td>23.000000</td>\n",
       "      <td>7.000000</td>\n",
       "      <td>2.079000e+04</td>\n",
       "      <td>0.000000</td>\n",
       "    </tr>\n",
       "    <tr>\n",
       "      <th>25%</th>\n",
       "      <td>30.000000</td>\n",
       "      <td>20.000000</td>\n",
       "      <td>6.000550e+05</td>\n",
       "      <td>0.000000</td>\n",
       "    </tr>\n",
       "    <tr>\n",
       "      <th>50%</th>\n",
       "      <td>43.000000</td>\n",
       "      <td>32.000000</td>\n",
       "      <td>8.848910e+05</td>\n",
       "      <td>0.000000</td>\n",
       "    </tr>\n",
       "    <tr>\n",
       "      <th>75%</th>\n",
       "      <td>53.000000</td>\n",
       "      <td>73.000000</td>\n",
       "      <td>1.339467e+06</td>\n",
       "      <td>0.000000</td>\n",
       "    </tr>\n",
       "    <tr>\n",
       "      <th>max</th>\n",
       "      <td>85.000000</td>\n",
       "      <td>122.000000</td>\n",
       "      <td>4.471858e+06</td>\n",
       "      <td>1.000000</td>\n",
       "    </tr>\n",
       "  </tbody>\n",
       "</table>\n",
       "</div>"
      ],
      "text/plain": [
       "                 Age        Vintage  Avg_Account_Balance        Is_Lead\n",
       "count  240751.000000  240751.000000         2.407510e+05  240751.000000\n",
       "mean       43.639246      46.032461         1.075533e+06       0.235933\n",
       "std        14.750024      31.428285         6.924568e+05       0.424581\n",
       "min        23.000000       7.000000         2.079000e+04       0.000000\n",
       "25%        30.000000      20.000000         6.000550e+05       0.000000\n",
       "50%        43.000000      32.000000         8.848910e+05       0.000000\n",
       "75%        53.000000      73.000000         1.339467e+06       0.000000\n",
       "max        85.000000     122.000000         4.471858e+06       1.000000"
      ]
     },
     "execution_count": 864,
     "metadata": {},
     "output_type": "execute_result"
    }
   ],
   "source": [
    "raw_data.describe()"
   ]
  },
  {
   "cell_type": "code",
   "execution_count": 865,
   "metadata": {},
   "outputs": [],
   "source": [
    "preprocessed_data = raw_data[['ID', 'Gender', 'Age', 'Region_Code', 'Occupation', 'Channel_Code',\n",
    "       'Vintage', 'Credit_Product', 'Avg_Account_Balance', 'Is_Active',\n",
    "       'Is_Lead']]"
   ]
  },
  {
   "cell_type": "code",
   "execution_count": 866,
   "metadata": {},
   "outputs": [
    {
     "data": {
      "text/html": [
       "<div>\n",
       "<style scoped>\n",
       "    .dataframe tbody tr th:only-of-type {\n",
       "        vertical-align: middle;\n",
       "    }\n",
       "\n",
       "    .dataframe tbody tr th {\n",
       "        vertical-align: top;\n",
       "    }\n",
       "\n",
       "    .dataframe thead th {\n",
       "        text-align: right;\n",
       "    }\n",
       "</style>\n",
       "<table border=\"1\" class=\"dataframe\">\n",
       "  <thead>\n",
       "    <tr style=\"text-align: right;\">\n",
       "      <th></th>\n",
       "      <th>Age</th>\n",
       "      <th>Vintage</th>\n",
       "      <th>Avg_Account_Balance</th>\n",
       "      <th>Is_Lead</th>\n",
       "    </tr>\n",
       "  </thead>\n",
       "  <tbody>\n",
       "    <tr>\n",
       "      <th>count</th>\n",
       "      <td>240751.000000</td>\n",
       "      <td>240751.000000</td>\n",
       "      <td>2.407510e+05</td>\n",
       "      <td>240751.000000</td>\n",
       "    </tr>\n",
       "    <tr>\n",
       "      <th>mean</th>\n",
       "      <td>43.639246</td>\n",
       "      <td>46.032461</td>\n",
       "      <td>1.075533e+06</td>\n",
       "      <td>0.235933</td>\n",
       "    </tr>\n",
       "    <tr>\n",
       "      <th>std</th>\n",
       "      <td>14.750024</td>\n",
       "      <td>31.428285</td>\n",
       "      <td>6.924568e+05</td>\n",
       "      <td>0.424581</td>\n",
       "    </tr>\n",
       "    <tr>\n",
       "      <th>min</th>\n",
       "      <td>23.000000</td>\n",
       "      <td>7.000000</td>\n",
       "      <td>2.079000e+04</td>\n",
       "      <td>0.000000</td>\n",
       "    </tr>\n",
       "    <tr>\n",
       "      <th>25%</th>\n",
       "      <td>30.000000</td>\n",
       "      <td>20.000000</td>\n",
       "      <td>6.000550e+05</td>\n",
       "      <td>0.000000</td>\n",
       "    </tr>\n",
       "    <tr>\n",
       "      <th>50%</th>\n",
       "      <td>43.000000</td>\n",
       "      <td>32.000000</td>\n",
       "      <td>8.848910e+05</td>\n",
       "      <td>0.000000</td>\n",
       "    </tr>\n",
       "    <tr>\n",
       "      <th>75%</th>\n",
       "      <td>53.000000</td>\n",
       "      <td>73.000000</td>\n",
       "      <td>1.339467e+06</td>\n",
       "      <td>0.000000</td>\n",
       "    </tr>\n",
       "    <tr>\n",
       "      <th>max</th>\n",
       "      <td>85.000000</td>\n",
       "      <td>122.000000</td>\n",
       "      <td>4.471858e+06</td>\n",
       "      <td>1.000000</td>\n",
       "    </tr>\n",
       "  </tbody>\n",
       "</table>\n",
       "</div>"
      ],
      "text/plain": [
       "                 Age        Vintage  Avg_Account_Balance        Is_Lead\n",
       "count  240751.000000  240751.000000         2.407510e+05  240751.000000\n",
       "mean       43.639246      46.032461         1.075533e+06       0.235933\n",
       "std        14.750024      31.428285         6.924568e+05       0.424581\n",
       "min        23.000000       7.000000         2.079000e+04       0.000000\n",
       "25%        30.000000      20.000000         6.000550e+05       0.000000\n",
       "50%        43.000000      32.000000         8.848910e+05       0.000000\n",
       "75%        53.000000      73.000000         1.339467e+06       0.000000\n",
       "max        85.000000     122.000000         4.471858e+06       1.000000"
      ]
     },
     "execution_count": 866,
     "metadata": {},
     "output_type": "execute_result"
    }
   ],
   "source": [
    "preprocessed_data.describe()"
   ]
  },
  {
   "cell_type": "code",
   "execution_count": 867,
   "metadata": {},
   "outputs": [
    {
     "data": {
      "text/plain": [
       "ID                         0\n",
       "Gender                     0\n",
       "Age                        0\n",
       "Region_Code                0\n",
       "Occupation                 0\n",
       "Channel_Code               0\n",
       "Vintage                    0\n",
       "Credit_Product         28565\n",
       "Avg_Account_Balance        0\n",
       "Is_Active                  0\n",
       "Is_Lead                    0\n",
       "dtype: int64"
      ]
     },
     "execution_count": 867,
     "metadata": {},
     "output_type": "execute_result"
    }
   ],
   "source": [
    "preprocessed_data.isna().sum()"
   ]
  },
  {
   "cell_type": "code",
   "execution_count": 868,
   "metadata": {},
   "outputs": [],
   "source": [
    "preprocessed_data = preprocessed_data.drop(columns=['ID'],axis=1)"
   ]
  },
  {
   "cell_type": "code",
   "execution_count": 869,
   "metadata": {},
   "outputs": [
    {
     "data": {
      "text/plain": [
       "(array(['No', 'Yes', 'zan'], dtype=object), array([141944,  70242,  28565]))"
      ]
     },
     "execution_count": 869,
     "metadata": {},
     "output_type": "execute_result"
    }
   ],
   "source": [
    "preprocessed_data = preprocessed_data.fillna(value='zan',axis=0)\n",
    "np.unique(preprocessed_data['Credit_Product'],return_counts=True)"
   ]
  },
  {
   "cell_type": "markdown",
   "metadata": {},
   "source": [
    "##### filling missing value"
   ]
  },
  {
   "cell_type": "markdown",
   "metadata": {},
   "source": [
    "# Data Visualization"
   ]
  },
  {
   "cell_type": "code",
   "execution_count": 870,
   "metadata": {},
   "outputs": [
    {
     "data": {
      "text/html": [
       "<div>\n",
       "<style scoped>\n",
       "    .dataframe tbody tr th:only-of-type {\n",
       "        vertical-align: middle;\n",
       "    }\n",
       "\n",
       "    .dataframe tbody tr th {\n",
       "        vertical-align: top;\n",
       "    }\n",
       "\n",
       "    .dataframe thead th {\n",
       "        text-align: right;\n",
       "    }\n",
       "</style>\n",
       "<table border=\"1\" class=\"dataframe\">\n",
       "  <thead>\n",
       "    <tr style=\"text-align: right;\">\n",
       "      <th></th>\n",
       "      <th>Gender</th>\n",
       "      <th>Age</th>\n",
       "      <th>Region_Code</th>\n",
       "      <th>Occupation</th>\n",
       "      <th>Channel_Code</th>\n",
       "      <th>Vintage</th>\n",
       "      <th>Credit_Product</th>\n",
       "      <th>Avg_Account_Balance</th>\n",
       "      <th>Is_Active</th>\n",
       "      <th>Is_Lead</th>\n",
       "    </tr>\n",
       "  </thead>\n",
       "  <tbody>\n",
       "    <tr>\n",
       "      <th>0</th>\n",
       "      <td>Female</td>\n",
       "      <td>73</td>\n",
       "      <td>RG268</td>\n",
       "      <td>Other</td>\n",
       "      <td>X3</td>\n",
       "      <td>43</td>\n",
       "      <td>No</td>\n",
       "      <td>1045696</td>\n",
       "      <td>No</td>\n",
       "      <td>0</td>\n",
       "    </tr>\n",
       "    <tr>\n",
       "      <th>1</th>\n",
       "      <td>Female</td>\n",
       "      <td>30</td>\n",
       "      <td>RG277</td>\n",
       "      <td>Salaried</td>\n",
       "      <td>X1</td>\n",
       "      <td>32</td>\n",
       "      <td>No</td>\n",
       "      <td>581988</td>\n",
       "      <td>No</td>\n",
       "      <td>0</td>\n",
       "    </tr>\n",
       "    <tr>\n",
       "      <th>2</th>\n",
       "      <td>Female</td>\n",
       "      <td>56</td>\n",
       "      <td>RG268</td>\n",
       "      <td>Self_Employed</td>\n",
       "      <td>X3</td>\n",
       "      <td>26</td>\n",
       "      <td>No</td>\n",
       "      <td>1484315</td>\n",
       "      <td>Yes</td>\n",
       "      <td>0</td>\n",
       "    </tr>\n",
       "    <tr>\n",
       "      <th>3</th>\n",
       "      <td>Male</td>\n",
       "      <td>34</td>\n",
       "      <td>RG270</td>\n",
       "      <td>Salaried</td>\n",
       "      <td>X1</td>\n",
       "      <td>19</td>\n",
       "      <td>No</td>\n",
       "      <td>470454</td>\n",
       "      <td>No</td>\n",
       "      <td>0</td>\n",
       "    </tr>\n",
       "    <tr>\n",
       "      <th>4</th>\n",
       "      <td>Female</td>\n",
       "      <td>30</td>\n",
       "      <td>RG282</td>\n",
       "      <td>Salaried</td>\n",
       "      <td>X1</td>\n",
       "      <td>33</td>\n",
       "      <td>No</td>\n",
       "      <td>886787</td>\n",
       "      <td>No</td>\n",
       "      <td>0</td>\n",
       "    </tr>\n",
       "  </tbody>\n",
       "</table>\n",
       "</div>"
      ],
      "text/plain": [
       "   Gender  Age Region_Code     Occupation Channel_Code  Vintage  \\\n",
       "0  Female   73       RG268          Other           X3       43   \n",
       "1  Female   30       RG277       Salaried           X1       32   \n",
       "2  Female   56       RG268  Self_Employed           X3       26   \n",
       "3    Male   34       RG270       Salaried           X1       19   \n",
       "4  Female   30       RG282       Salaried           X1       33   \n",
       "\n",
       "  Credit_Product  Avg_Account_Balance Is_Active  Is_Lead  \n",
       "0             No              1045696        No        0  \n",
       "1             No               581988        No        0  \n",
       "2             No              1484315       Yes        0  \n",
       "3             No               470454        No        0  \n",
       "4             No               886787        No        0  "
      ]
     },
     "execution_count": 870,
     "metadata": {},
     "output_type": "execute_result"
    }
   ],
   "source": [
    "preprocessed_data.head()"
   ]
  },
  {
   "cell_type": "markdown",
   "metadata": {},
   "source": [
    "### Is_Lead"
   ]
  },
  {
   "cell_type": "code",
   "execution_count": 871,
   "metadata": {},
   "outputs": [
    {
     "data": {
      "text/plain": [
       "<AxesSubplot:xlabel='Is_Lead', ylabel='Count'>"
      ]
     },
     "execution_count": 871,
     "metadata": {},
     "output_type": "execute_result"
    },
    {
     "data": {
      "image/png": "[encoded data removed]",
      "text/plain": [
       "<Figure size 432x288 with 1 Axes>"
      ]
     },
     "metadata": {
      "needs_background": "light"
     },
     "output_type": "display_data"
    }
   ],
   "source": [
    "sns.histplot(preprocessed_data['Is_Lead'])"
   ]
  },
  {
   "cell_type": "markdown",
   "metadata": {},
   "source": [
    "##### We can see that the data is not Balanced"
   ]
  },
  {
   "cell_type": "code",
   "execution_count": 872,
   "metadata": {},
   "outputs": [
    {
     "data": {
      "text/plain": [
       "(array([0, 1]), array([183950,  56801]))"
      ]
     },
     "execution_count": 872,
     "metadata": {},
     "output_type": "execute_result"
    }
   ],
   "source": [
    "np.unique(preprocessed_data['Is_Lead'],return_counts=True)"
   ]
  },
  {
   "cell_type": "code",
   "execution_count": 873,
   "metadata": {},
   "outputs": [],
   "source": [
    "counts = np.unique(preprocessed_data['Is_Lead'],return_counts=True)\n",
    "preprocessed_data = preprocessed_data.sort_values(by='Is_Lead',ascending=False)\n",
    "preprocessed_data = preprocessed_data[:200000]"
   ]
  },
  {
   "cell_type": "code",
   "execution_count": 874,
   "metadata": {},
   "outputs": [
    {
     "data": {
      "text/plain": [
       "<AxesSubplot:xlabel='Is_Lead', ylabel='Count'>"
      ]
     },
     "execution_count": 874,
     "metadata": {},
     "output_type": "execute_result"
    },
    {
     "data": {
      "image/png": "[encoded data removed]",
      "text/plain": [
       "<Figure size 432x288 with 1 Axes>"
      ]
     },
     "metadata": {
      "needs_background": "light"
     },
     "output_type": "display_data"
    }
   ],
   "source": [
    "sns.histplot(preprocessed_data['Is_Lead'])"
   ]
  },
  {
   "cell_type": "markdown",
   "metadata": {},
   "source": [
    "##### Now we can see the Dataset is balanced"
   ]
  },
  {
   "cell_type": "markdown",
   "metadata": {},
   "source": [
    "### Gender"
   ]
  },
  {
   "cell_type": "code",
   "execution_count": 875,
   "metadata": {},
   "outputs": [
    {
     "data": {
      "text/plain": [
       "<seaborn.axisgrid.FacetGrid at 0x7fda281d69a0>"
      ]
     },
     "execution_count": 875,
     "metadata": {},
     "output_type": "execute_result"
    },
    {
     "data": {
      "image/png": "[encoded data removed]",
      "text/plain": [
       "<Figure size 405.125x360 with 1 Axes>"
      ]
     },
     "metadata": {
      "needs_background": "light"
     },
     "output_type": "display_data"
    }
   ],
   "source": [
    "sns.displot(data=preprocessed_data, x='Gender', hue='Is_Lead')"
   ]
  },
  {
   "cell_type": "markdown",
   "metadata": {},
   "source": [
    "##### Here we can see we have more numbers of males in the dataset. And males are more interested in credit card."
   ]
  },
  {
   "cell_type": "markdown",
   "metadata": {},
   "source": [
    "### Age"
   ]
  },
  {
   "cell_type": "code",
   "execution_count": 876,
   "metadata": {},
   "outputs": [
    {
     "data": {
      "text/plain": [
       "<seaborn.axisgrid.FacetGrid at 0x7fd99a3e0be0>"
      ]
     },
     "execution_count": 876,
     "metadata": {},
     "output_type": "execute_result"
    },
    {
     "data": {
      "image/png": "[encoded data removed]",
      "text/plain": [
       "<Figure size 405.125x360 with 1 Axes>"
      ]
     },
     "metadata": {
      "needs_background": "light"
     },
     "output_type": "display_data"
    }
   ],
   "source": [
    "sns.displot(data=preprocessed_data, x='Age', hue='Is_Lead', bins=10)"
   ]
  },
  {
   "cell_type": "markdown",
   "metadata": {},
   "source": [
    "##### Now here we can se that people with higher age group are more interested in credit card. Maybe because higher age group people are more stable in there job and they are more responsible due to which they can handle credit card so they are more interested. And there is another aspect also that younger people don't have much expenditure wrt older people so that can also be the reason why older people are more interested in credit card."
   ]
  },
  {
   "cell_type": "code",
   "execution_count": 877,
   "metadata": {},
   "outputs": [
    {
     "name": "stdout",
     "output_type": "stream",
     "text": [
      "Age\t percentage of 1 per category \n",
      "\n",
      "23 ->\t 0.0\n",
      "24 ->\t 7.477906186267845\n",
      "25 ->\t 8.750899064972428\n",
      "26 ->\t 8.27078317518765\n",
      "27 ->\t 7.98828125\n",
      "28 ->\t 8.991113434396237\n",
      "29 ->\t 10.084033613445378\n",
      "30 ->\t 9.830940250115795\n",
      "31 ->\t 10.066006600660065\n",
      "32 ->\t 11.901865369018653\n",
      "33 ->\t 14.682539682539682\n",
      "34 ->\t 18.94070236039148\n",
      "35 ->\t 23.75\n",
      "36 ->\t 28.153310104529616\n",
      "37 ->\t 29.4054441260745\n",
      "38 ->\t 31.834532374100718\n",
      "39 ->\t 33.3454018826937\n",
      "40 ->\t 33.59535201640465\n",
      "41 ->\t 34.60346964064436\n",
      "42 ->\t 39.001426533523535\n",
      "43 ->\t 39.03771131339402\n",
      "44 ->\t 39.035508637236084\n",
      "45 ->\t 40.29380902413431\n",
      "46 ->\t 41.87930336168489\n",
      "47 ->\t 42.73632775794024\n",
      "48 ->\t 43.430178069353325\n",
      "49 ->\t 43.10247216455935\n",
      "50 ->\t 43.60636417206835\n",
      "51 ->\t 44.074593944255064\n",
      "52 ->\t 42.74908147827966\n",
      "53 ->\t 42.70687237026648\n",
      "54 ->\t 43.51087771942986\n",
      "55 ->\t 42.43331518780621\n",
      "56 ->\t 40.98073555166375\n",
      "57 ->\t 41.579419682919536\n",
      "58 ->\t 42.40650406504065\n",
      "59 ->\t 42.049092849519745\n",
      "60 ->\t 41.50647312671636\n",
      "61 ->\t 40.97872340425532\n",
      "62 ->\t 41.212406015037594\n",
      "63 ->\t 39.583333333333336\n",
      "64 ->\t 40.43715846994535\n",
      "65 ->\t 32.202262142381905\n",
      "66 ->\t 31.245500359971203\n",
      "67 ->\t 29.641434262948206\n",
      "68 ->\t 30.617495711835335\n",
      "69 ->\t 30.87071240105541\n",
      "70 ->\t 30.789946140035905\n",
      "71 ->\t 33.27137546468401\n",
      "72 ->\t 29.941291585127203\n",
      "73 ->\t 27.420998980632007\n",
      "74 ->\t 29.525862068965516\n",
      "75 ->\t 37.354497354497354\n",
      "76 ->\t 36.85344827586207\n",
      "77 ->\t 37.199124726477024\n",
      "78 ->\t 38.98704358068316\n",
      "79 ->\t 37.23897911832947\n",
      "80 ->\t 38.91891891891892\n",
      "81 ->\t 39.1044776119403\n",
      "82 ->\t 40.06568144499179\n",
      "83 ->\t 38.256227758007114\n",
      "84 ->\t 39.92172211350294\n",
      "85 ->\t 39.7979797979798\n"
     ]
    }
   ],
   "source": [
    "print(\"Age\\t percentage of 1 per category\",'\\n')\n",
    "list1 = preprocessed_data['Age'].unique()\n",
    "list1.sort()\n",
    "for i in list1:\n",
    "    x =len(preprocessed_data[preprocessed_data['Age']==i])\n",
    "    y = len(preprocessed_data[(preprocessed_data['Age']==i) & (preprocessed_data['Is_Lead']==1)])\n",
    "    print(i,\"->\\t\",y*100/x)"
   ]
  },
  {
   "cell_type": "markdown",
   "metadata": {},
   "source": [
    "##### We can see people in age group 5, 6 have most interest in Credit card, while people in age group 1, 2 have least interest."
   ]
  },
  {
   "cell_type": "markdown",
   "metadata": {},
   "source": [
    "### Region_Code"
   ]
  },
  {
   "cell_type": "code",
   "execution_count": 878,
   "metadata": {},
   "outputs": [
    {
     "data": {
      "text/plain": [
       "<AxesSubplot:xlabel='Region_Code', ylabel='Count'>"
      ]
     },
     "execution_count": 878,
     "metadata": {},
     "output_type": "execute_result"
    },
    {
     "data": {
      "image/png": "[encoded data removed]",
      "text/plain": [
       "<Figure size 864x576 with 1 Axes>"
      ]
     },
     "metadata": {
      "needs_background": "light"
     },
     "output_type": "display_data"
    }
   ],
   "source": [
    "plt.figure(figsize=(12,8))\n",
    "sns.histplot(data=preprocessed_data, x='Region_Code', hue='Is_Lead')"
   ]
  },
  {
   "cell_type": "markdown",
   "metadata": {},
   "source": [
    "##### We can people from some particular region are more interested in Credit cards than other"
   ]
  },
  {
   "cell_type": "markdown",
   "metadata": {},
   "source": [
    "### Occupation"
   ]
  },
  {
   "cell_type": "code",
   "execution_count": 879,
   "metadata": {},
   "outputs": [
    {
     "data": {
      "text/plain": [
       "<AxesSubplot:xlabel='Occupation', ylabel='Count'>"
      ]
     },
     "execution_count": 879,
     "metadata": {},
     "output_type": "execute_result"
    },
    {
     "data": {
      "image/png": "[encoded data removed]",
      "text/plain": [
       "<Figure size 864x576 with 1 Axes>"
      ]
     },
     "metadata": {
      "needs_background": "light"
     },
     "output_type": "display_data"
    }
   ],
   "source": [
    "plt.figure(figsize=(12,8))\n",
    "sns.histplot(data=preprocessed_data, x='Occupation', hue='Is_Lead')"
   ]
  },
  {
   "cell_type": "markdown",
   "metadata": {},
   "source": [
    "##### Here we can clearly see Enterpreneur and Self_Employed are more interested in credit card while Salaried people are least. As we know while doing any kind of bussiness we may need to put money in our bussiness due to which we may remain with less balance for personal use especially when starting new bussiness. Maybe due to this Entrepreneur and self_employed people are more interested in credit card."
   ]
  },
  {
   "cell_type": "code",
   "execution_count": 880,
   "metadata": {},
   "outputs": [
    {
     "name": "stdout",
     "output_type": "stream",
     "text": [
      "Age\t percentage of 1 per category \n",
      "\n",
      "Salaried ->\t 19.414153633457186\n",
      "Self_Employed ->\t 32.86459023104059\n",
      "Other ->\t 29.213047083105472\n",
      "Entrepreneur ->\t 71.57806613645877\n"
     ]
    }
   ],
   "source": [
    "print(\"Age\\t percentage of 1 per category\",'\\n')\n",
    "list1 = preprocessed_data['Occupation'].unique()\n",
    "for i in list1:\n",
    "    x =len(preprocessed_data[preprocessed_data['Occupation']==i])\n",
    "    y = len(preprocessed_data[(preprocessed_data['Occupation']==i) & (preprocessed_data['Is_Lead']==1)])\n",
    "    print(i,\"->\\t\",y*100/x)"
   ]
  },
  {
   "cell_type": "markdown",
   "metadata": {},
   "source": [
    "### Channel_Code"
   ]
  },
  {
   "cell_type": "code",
   "execution_count": 881,
   "metadata": {},
   "outputs": [
    {
     "data": {
      "text/plain": [
       "<AxesSubplot:xlabel='Channel_Code', ylabel='Count'>"
      ]
     },
     "execution_count": 881,
     "metadata": {},
     "output_type": "execute_result"
    },
    {
     "data": {
      "image/png": "[encoded data removed]",
      "text/plain": [
       "<Figure size 864x576 with 1 Axes>"
      ]
     },
     "metadata": {
      "needs_background": "light"
     },
     "output_type": "display_data"
    }
   ],
   "source": [
    "plt.figure(figsize=(12,8))\n",
    "sns.histplot(data=preprocessed_data, x='Channel_Code', hue='Is_Lead')"
   ]
  },
  {
   "cell_type": "markdown",
   "metadata": {},
   "source": [
    "##### People with X3 and X2 Channel_Code are more interested in Credit Card."
   ]
  },
  {
   "cell_type": "code",
   "execution_count": 882,
   "metadata": {},
   "outputs": [
    {
     "name": "stdout",
     "output_type": "stream",
     "text": [
      "Age\t percentage of 1 per category \n",
      "\n",
      "X2 ->\t 38.45240174672489\n",
      "X3 ->\t 42.794549826342504\n",
      "X1 ->\t 11.45025130532377\n",
      "X4 ->\t 29.656809842434708\n"
     ]
    }
   ],
   "source": [
    "print(\"Age\\t percentage of 1 per category\",'\\n')\n",
    "list1 = preprocessed_data['Channel_Code'].unique()\n",
    "for i in list1:\n",
    "    x =len(preprocessed_data[preprocessed_data['Channel_Code']==i])\n",
    "    y = len(preprocessed_data[(preprocessed_data['Channel_Code']==i) & (preprocessed_data['Is_Lead']==1)])\n",
    "    print(i,\"->\\t\",y*100/x)"
   ]
  },
  {
   "cell_type": "markdown",
   "metadata": {},
   "source": [
    "### Vintage"
   ]
  },
  {
   "cell_type": "code",
   "execution_count": 883,
   "metadata": {},
   "outputs": [
    {
     "data": {
      "text/plain": [
       "<AxesSubplot:xlabel='Vintage', ylabel='Count'>"
      ]
     },
     "execution_count": 883,
     "metadata": {},
     "output_type": "execute_result"
    },
    {
     "data": {
      "image/png": "[encoded data removed]",
      "text/plain": [
       "<Figure size 864x576 with 1 Axes>"
      ]
     },
     "metadata": {
      "needs_background": "light"
     },
     "output_type": "display_data"
    }
   ],
   "source": [
    "plt.figure(figsize=(12,8))\n",
    "sns.histplot(data=preprocessed_data, x='Vintage', hue='Is_Lead', bins=3)"
   ]
  },
  {
   "cell_type": "markdown",
   "metadata": {},
   "source": [
    "##### We can see people with Vintage more than 60 are more interested in Credit card."
   ]
  },
  {
   "cell_type": "code",
   "execution_count": 884,
   "metadata": {},
   "outputs": [
    {
     "name": "stdout",
     "output_type": "stream",
     "text": [
      "Vintage\t percentage of 1 per category \n",
      "\n",
      "23 ->\t 0.0\n",
      "24 ->\t 7.477906186267845\n",
      "25 ->\t 8.750899064972428\n",
      "26 ->\t 8.27078317518765\n",
      "27 ->\t 7.98828125\n",
      "28 ->\t 8.991113434396237\n",
      "29 ->\t 10.084033613445378\n",
      "30 ->\t 9.830940250115795\n",
      "31 ->\t 10.066006600660065\n",
      "32 ->\t 11.901865369018653\n",
      "33 ->\t 14.682539682539682\n",
      "34 ->\t 18.94070236039148\n",
      "35 ->\t 23.75\n",
      "36 ->\t 28.153310104529616\n",
      "37 ->\t 29.4054441260745\n",
      "38 ->\t 31.834532374100718\n",
      "39 ->\t 33.3454018826937\n",
      "40 ->\t 33.59535201640465\n",
      "41 ->\t 34.60346964064436\n",
      "42 ->\t 39.001426533523535\n",
      "43 ->\t 39.03771131339402\n",
      "44 ->\t 39.035508637236084\n",
      "45 ->\t 40.29380902413431\n",
      "46 ->\t 41.87930336168489\n",
      "47 ->\t 42.73632775794024\n",
      "48 ->\t 43.430178069353325\n",
      "49 ->\t 43.10247216455935\n",
      "50 ->\t 43.60636417206835\n",
      "51 ->\t 44.074593944255064\n",
      "52 ->\t 42.74908147827966\n",
      "53 ->\t 42.70687237026648\n",
      "54 ->\t 43.51087771942986\n",
      "55 ->\t 42.43331518780621\n",
      "56 ->\t 40.98073555166375\n",
      "57 ->\t 41.579419682919536\n",
      "58 ->\t 42.40650406504065\n",
      "59 ->\t 42.049092849519745\n",
      "60 ->\t 41.50647312671636\n",
      "61 ->\t 40.97872340425532\n",
      "62 ->\t 41.212406015037594\n",
      "63 ->\t 39.583333333333336\n",
      "64 ->\t 40.43715846994535\n",
      "65 ->\t 32.202262142381905\n",
      "66 ->\t 31.245500359971203\n",
      "67 ->\t 29.641434262948206\n",
      "68 ->\t 30.617495711835335\n",
      "69 ->\t 30.87071240105541\n",
      "70 ->\t 30.789946140035905\n",
      "71 ->\t 33.27137546468401\n",
      "72 ->\t 29.941291585127203\n",
      "73 ->\t 27.420998980632007\n",
      "74 ->\t 29.525862068965516\n",
      "75 ->\t 37.354497354497354\n",
      "76 ->\t 36.85344827586207\n",
      "77 ->\t 37.199124726477024\n",
      "78 ->\t 38.98704358068316\n",
      "79 ->\t 37.23897911832947\n",
      "80 ->\t 38.91891891891892\n",
      "81 ->\t 39.1044776119403\n",
      "82 ->\t 40.06568144499179\n",
      "83 ->\t 38.256227758007114\n",
      "84 ->\t 39.92172211350294\n",
      "85 ->\t 39.7979797979798\n"
     ]
    }
   ],
   "source": [
    "print(\"Vintage\\t percentage of 1 per category\",'\\n')\n",
    "list1 = preprocessed_data['Age'].unique()\n",
    "list1.sort()\n",
    "for i in list1:\n",
    "    x =len(preprocessed_data[preprocessed_data['Age']==i])\n",
    "    y = len(preprocessed_data[(preprocessed_data['Age']==i) & (preprocessed_data['Is_Lead']==1)])\n",
    "    print(i,\"->\\t\",y*100/x)"
   ]
  },
  {
   "cell_type": "markdown",
   "metadata": {},
   "source": [
    "### Credit_Product"
   ]
  },
  {
   "cell_type": "code",
   "execution_count": 885,
   "metadata": {},
   "outputs": [
    {
     "data": {
      "text/plain": [
       "<AxesSubplot:xlabel='Credit_Product', ylabel='Count'>"
      ]
     },
     "execution_count": 885,
     "metadata": {},
     "output_type": "execute_result"
    },
    {
     "data": {
      "image/png": "[encoded data removed]",
      "text/plain": [
       "<Figure size 864x576 with 1 Axes>"
      ]
     },
     "metadata": {
      "needs_background": "light"
     },
     "output_type": "display_data"
    }
   ],
   "source": [
    "plt.figure(figsize=(12,8))\n",
    "sns.histplot(data=preprocessed_data, x='Credit_Product', hue='Is_Lead', bins=10)"
   ]
  },
  {
   "cell_type": "markdown",
   "metadata": {},
   "source": [
    "##### People who already have credit product is more interested in Credit card. People who is already in debt need more money to repay due which they are more interested in credit cards."
   ]
  },
  {
   "cell_type": "markdown",
   "metadata": {},
   "source": [
    "### Avg_Account_Balance"
   ]
  },
  {
   "cell_type": "code",
   "execution_count": 886,
   "metadata": {},
   "outputs": [
    {
     "data": {
      "text/plain": [
       "<AxesSubplot:xlabel='Avg_Account_Balance', ylabel='Count'>"
      ]
     },
     "execution_count": 886,
     "metadata": {},
     "output_type": "execute_result"
    },
    {
     "data": {
      "image/png": "[encoded data removed]",
      "text/plain": [
       "<Figure size 864x576 with 1 Axes>"
      ]
     },
     "metadata": {
      "needs_background": "light"
     },
     "output_type": "display_data"
    }
   ],
   "source": [
    "plt.figure(figsize=(12,8))\n",
    "sns.histplot(data=preprocessed_data, x='Avg_Account_Balance', hue='Is_Lead', bins=10)"
   ]
  },
  {
   "cell_type": "markdown",
   "metadata": {},
   "source": [
    "##### People with higher average account balance are more interested in credit card. Maybe people with lower average account balance donot have confidence in repaying the debt on time."
   ]
  },
  {
   "cell_type": "markdown",
   "metadata": {},
   "source": [
    "### Is_Active"
   ]
  },
  {
   "cell_type": "code",
   "execution_count": 887,
   "metadata": {},
   "outputs": [
    {
     "data": {
      "text/plain": [
       "<AxesSubplot:xlabel='Is_Active', ylabel='Count'>"
      ]
     },
     "execution_count": 887,
     "metadata": {},
     "output_type": "execute_result"
    },
    {
     "data": {
      "image/png": "[encoded data removed]",
      "text/plain": [
       "<Figure size 864x576 with 1 Axes>"
      ]
     },
     "metadata": {
      "needs_background": "light"
     },
     "output_type": "display_data"
    }
   ],
   "source": [
    "plt.figure(figsize=(12,8))\n",
    "sns.histplot(data=preprocessed_data, x='Is_Active', hue='Is_Lead', bins=10)"
   ]
  },
  {
   "cell_type": "markdown",
   "metadata": {},
   "source": [
    "##### Customers those are active in last 3 months are more interested in credit cards. Maybe those inactive customers currently don't need extra money and this maybe the reason for there inactivity."
   ]
  },
  {
   "cell_type": "markdown",
   "metadata": {},
   "source": [
    "# Data Processing"
   ]
  },
  {
   "cell_type": "code",
   "execution_count": 888,
   "metadata": {},
   "outputs": [],
   "source": [
    "from sklearn.preprocessing import StandardScaler\n",
    "scaler = StandardScaler()"
   ]
  },
  {
   "cell_type": "code",
   "execution_count": 889,
   "metadata": {},
   "outputs": [],
   "source": [
    "list1 = preprocessed_data['Region_Code'].unique()\n",
    "list1.sort()\n",
    "list1 = list1[1:]\n",
    "dict1 = {'RG250':38.268}\n",
    "for i in list1:\n",
    "    x =len(preprocessed_data[preprocessed_data['Region_Code']==i])\n",
    "    y = len(preprocessed_data[(preprocessed_data['Region_Code']==i) & (preprocessed_data['Is_Lead']==1)])\n",
    "    per = round(y*100/x, ndigits=3)\n",
    "    dict1[i] = per"
   ]
  },
  {
   "cell_type": "code",
   "execution_count": 890,
   "metadata": {},
   "outputs": [],
   "source": [
    "def Processing(data):\n",
    "    \n",
    "    data = data.reset_index(drop=True)\n",
    "    \n",
    "    data['Gender'] = data['Gender'].map({'Female':1,'Male':0})\n",
    "    \n",
    "    \n",
    "    \n",
    "    df2 = pd.get_dummies(data['Channel_Code'], drop_first=True )\n",
    "    data = data.join(df2)\n",
    "    data = data.drop(columns=['Channel_Code'])\n",
    "    \n",
    "    df3 = pd.get_dummies(data['Occupation'], drop_first=True )\n",
    "    data = data.join(df3)\n",
    "    data = data.drop(columns=['Occupation'])\n",
    "    \n",
    "    \n",
    "    \n",
    "    \n",
    "    for i in range(len(data)):\n",
    "        data['Region_Code'][i] = dict1[data['Region_Code'][i]]\n",
    "   \n",
    "    \n",
    "    df = data[['Avg_Account_Balance']]\n",
    "    bin_labels = [1, 2, 3, 4, 5, 6, 7, 8, 9, 10]\n",
    "    df['Avg_Account_Balance'] = pd.cut(data['Avg_Account_Balance'], bins=10, precision=0, labels= bin_labels)\n",
    "    data['Avg_Account_Balance'] = df[['Avg_Account_Balance']]\n",
    "        \n",
    "    \n",
    "    data['Credit_Product'] = data['Credit_Product'].fillna(value='zan')\n",
    "    data['Credit_Product'] = data['Credit_Product'].map({'Yes':1,'No':0,'zan':0.5})\n",
    "\n",
    "    \n",
    "    data['Is_Active'] = data['Is_Active'].map({'Yes':1,'No':0})\n",
    "    \n",
    "\n",
    "    \n",
    "    return(data)"
   ]
  },
  {
   "cell_type": "code",
   "execution_count": 891,
   "metadata": {},
   "outputs": [
    {
     "name": "stderr",
     "output_type": "stream",
     "text": [
      "<ipython-input-890-02019d8b9153>:21: SettingWithCopyWarning: \n",
      "A value is trying to be set on a copy of a slice from a DataFrame\n",
      "\n",
      "See the caveats in the documentation: https://pandas.pydata.org/pandas-docs/stable/user_guide/indexing.html#returning-a-view-versus-a-copy\n",
      "  data['Region_Code'][i] = dict1[data['Region_Code'][i]]\n",
      "<ipython-input-890-02019d8b9153>:26: SettingWithCopyWarning: \n",
      "A value is trying to be set on a copy of a slice from a DataFrame.\n",
      "Try using .loc[row_indexer,col_indexer] = value instead\n",
      "\n",
      "See the caveats in the documentation: https://pandas.pydata.org/pandas-docs/stable/user_guide/indexing.html#returning-a-view-versus-a-copy\n",
      "  df['Avg_Account_Balance'] = pd.cut(data['Avg_Account_Balance'], bins=10, precision=0, labels= bin_labels)\n"
     ]
    }
   ],
   "source": [
    "preprocessed_data = Processing(preprocessed_data)"
   ]
  },
  {
   "cell_type": "code",
   "execution_count": 892,
   "metadata": {},
   "outputs": [
    {
     "data": {
      "text/html": [
       "<div>\n",
       "<style scoped>\n",
       "    .dataframe tbody tr th:only-of-type {\n",
       "        vertical-align: middle;\n",
       "    }\n",
       "\n",
       "    .dataframe tbody tr th {\n",
       "        vertical-align: top;\n",
       "    }\n",
       "\n",
       "    .dataframe thead th {\n",
       "        text-align: right;\n",
       "    }\n",
       "</style>\n",
       "<table border=\"1\" class=\"dataframe\">\n",
       "  <thead>\n",
       "    <tr style=\"text-align: right;\">\n",
       "      <th></th>\n",
       "      <th>Gender</th>\n",
       "      <th>Age</th>\n",
       "      <th>Region_Code</th>\n",
       "      <th>Vintage</th>\n",
       "      <th>Credit_Product</th>\n",
       "      <th>Avg_Account_Balance</th>\n",
       "      <th>Is_Active</th>\n",
       "      <th>Is_Lead</th>\n",
       "      <th>X2</th>\n",
       "      <th>X3</th>\n",
       "      <th>X4</th>\n",
       "      <th>Other</th>\n",
       "      <th>Salaried</th>\n",
       "      <th>Self_Employed</th>\n",
       "    </tr>\n",
       "  </thead>\n",
       "  <tbody>\n",
       "    <tr>\n",
       "      <th>0</th>\n",
       "      <td>0</td>\n",
       "      <td>59</td>\n",
       "      <td>23.262</td>\n",
       "      <td>98</td>\n",
       "      <td>0.5</td>\n",
       "      <td>2</td>\n",
       "      <td>0</td>\n",
       "      <td>1</td>\n",
       "      <td>1</td>\n",
       "      <td>0</td>\n",
       "      <td>0</td>\n",
       "      <td>0</td>\n",
       "      <td>1</td>\n",
       "      <td>0</td>\n",
       "    </tr>\n",
       "    <tr>\n",
       "      <th>1</th>\n",
       "      <td>0</td>\n",
       "      <td>31</td>\n",
       "      <td>35.453</td>\n",
       "      <td>14</td>\n",
       "      <td>0.5</td>\n",
       "      <td>4</td>\n",
       "      <td>0</td>\n",
       "      <td>1</td>\n",
       "      <td>1</td>\n",
       "      <td>0</td>\n",
       "      <td>0</td>\n",
       "      <td>0</td>\n",
       "      <td>0</td>\n",
       "      <td>1</td>\n",
       "    </tr>\n",
       "    <tr>\n",
       "      <th>2</th>\n",
       "      <td>0</td>\n",
       "      <td>42</td>\n",
       "      <td>28.044</td>\n",
       "      <td>98</td>\n",
       "      <td>0.5</td>\n",
       "      <td>3</td>\n",
       "      <td>1</td>\n",
       "      <td>1</td>\n",
       "      <td>1</td>\n",
       "      <td>0</td>\n",
       "      <td>0</td>\n",
       "      <td>0</td>\n",
       "      <td>0</td>\n",
       "      <td>1</td>\n",
       "    </tr>\n",
       "    <tr>\n",
       "      <th>3</th>\n",
       "      <td>1</td>\n",
       "      <td>51</td>\n",
       "      <td>28.044</td>\n",
       "      <td>62</td>\n",
       "      <td>0.5</td>\n",
       "      <td>2</td>\n",
       "      <td>1</td>\n",
       "      <td>1</td>\n",
       "      <td>0</td>\n",
       "      <td>1</td>\n",
       "      <td>0</td>\n",
       "      <td>1</td>\n",
       "      <td>0</td>\n",
       "      <td>0</td>\n",
       "    </tr>\n",
       "    <tr>\n",
       "      <th>4</th>\n",
       "      <td>1</td>\n",
       "      <td>39</td>\n",
       "      <td>35.607</td>\n",
       "      <td>20</td>\n",
       "      <td>1.0</td>\n",
       "      <td>3</td>\n",
       "      <td>0</td>\n",
       "      <td>1</td>\n",
       "      <td>0</td>\n",
       "      <td>0</td>\n",
       "      <td>0</td>\n",
       "      <td>0</td>\n",
       "      <td>0</td>\n",
       "      <td>1</td>\n",
       "    </tr>\n",
       "    <tr>\n",
       "      <th>...</th>\n",
       "      <td>...</td>\n",
       "      <td>...</td>\n",
       "      <td>...</td>\n",
       "      <td>...</td>\n",
       "      <td>...</td>\n",
       "      <td>...</td>\n",
       "      <td>...</td>\n",
       "      <td>...</td>\n",
       "      <td>...</td>\n",
       "      <td>...</td>\n",
       "      <td>...</td>\n",
       "      <td>...</td>\n",
       "      <td>...</td>\n",
       "      <td>...</td>\n",
       "    </tr>\n",
       "    <tr>\n",
       "      <th>199995</th>\n",
       "      <td>1</td>\n",
       "      <td>47</td>\n",
       "      <td>35.46</td>\n",
       "      <td>19</td>\n",
       "      <td>1.0</td>\n",
       "      <td>2</td>\n",
       "      <td>0</td>\n",
       "      <td>0</td>\n",
       "      <td>0</td>\n",
       "      <td>1</td>\n",
       "      <td>0</td>\n",
       "      <td>0</td>\n",
       "      <td>0</td>\n",
       "      <td>0</td>\n",
       "    </tr>\n",
       "    <tr>\n",
       "      <th>199996</th>\n",
       "      <td>0</td>\n",
       "      <td>33</td>\n",
       "      <td>35.453</td>\n",
       "      <td>27</td>\n",
       "      <td>0.0</td>\n",
       "      <td>2</td>\n",
       "      <td>0</td>\n",
       "      <td>0</td>\n",
       "      <td>0</td>\n",
       "      <td>0</td>\n",
       "      <td>0</td>\n",
       "      <td>0</td>\n",
       "      <td>1</td>\n",
       "      <td>0</td>\n",
       "    </tr>\n",
       "    <tr>\n",
       "      <th>199997</th>\n",
       "      <td>0</td>\n",
       "      <td>62</td>\n",
       "      <td>17.367</td>\n",
       "      <td>55</td>\n",
       "      <td>0.0</td>\n",
       "      <td>2</td>\n",
       "      <td>0</td>\n",
       "      <td>0</td>\n",
       "      <td>0</td>\n",
       "      <td>1</td>\n",
       "      <td>0</td>\n",
       "      <td>1</td>\n",
       "      <td>0</td>\n",
       "      <td>0</td>\n",
       "    </tr>\n",
       "    <tr>\n",
       "      <th>199998</th>\n",
       "      <td>1</td>\n",
       "      <td>32</td>\n",
       "      <td>35.607</td>\n",
       "      <td>31</td>\n",
       "      <td>0.0</td>\n",
       "      <td>3</td>\n",
       "      <td>0</td>\n",
       "      <td>0</td>\n",
       "      <td>0</td>\n",
       "      <td>0</td>\n",
       "      <td>0</td>\n",
       "      <td>0</td>\n",
       "      <td>1</td>\n",
       "      <td>0</td>\n",
       "    </tr>\n",
       "    <tr>\n",
       "      <th>199999</th>\n",
       "      <td>1</td>\n",
       "      <td>29</td>\n",
       "      <td>20.084</td>\n",
       "      <td>19</td>\n",
       "      <td>0.0</td>\n",
       "      <td>2</td>\n",
       "      <td>0</td>\n",
       "      <td>0</td>\n",
       "      <td>0</td>\n",
       "      <td>1</td>\n",
       "      <td>0</td>\n",
       "      <td>0</td>\n",
       "      <td>1</td>\n",
       "      <td>0</td>\n",
       "    </tr>\n",
       "  </tbody>\n",
       "</table>\n",
       "<p>200000 rows × 14 columns</p>\n",
       "</div>"
      ],
      "text/plain": [
       "        Gender  Age Region_Code  Vintage  Credit_Product  Avg_Account_Balance  \\\n",
       "0            0   59      23.262       98             0.5                    2   \n",
       "1            0   31      35.453       14             0.5                    4   \n",
       "2            0   42      28.044       98             0.5                    3   \n",
       "3            1   51      28.044       62             0.5                    2   \n",
       "4            1   39      35.607       20             1.0                    3   \n",
       "...        ...  ...         ...      ...             ...                  ...   \n",
       "199995       1   47       35.46       19             1.0                    2   \n",
       "199996       0   33      35.453       27             0.0                    2   \n",
       "199997       0   62      17.367       55             0.0                    2   \n",
       "199998       1   32      35.607       31             0.0                    3   \n",
       "199999       1   29      20.084       19             0.0                    2   \n",
       "\n",
       "        Is_Active  Is_Lead  X2  X3  X4  Other  Salaried  Self_Employed  \n",
       "0               0        1   1   0   0      0         1              0  \n",
       "1               0        1   1   0   0      0         0              1  \n",
       "2               1        1   1   0   0      0         0              1  \n",
       "3               1        1   0   1   0      1         0              0  \n",
       "4               0        1   0   0   0      0         0              1  \n",
       "...           ...      ...  ..  ..  ..    ...       ...            ...  \n",
       "199995          0        0   0   1   0      0         0              0  \n",
       "199996          0        0   0   0   0      0         1              0  \n",
       "199997          0        0   0   1   0      1         0              0  \n",
       "199998          0        0   0   0   0      0         1              0  \n",
       "199999          0        0   0   1   0      0         1              0  \n",
       "\n",
       "[200000 rows x 14 columns]"
      ]
     },
     "execution_count": 892,
     "metadata": {},
     "output_type": "execute_result"
    }
   ],
   "source": [
    "preprocessed_data"
   ]
  },
  {
   "cell_type": "code",
   "execution_count": 893,
   "metadata": {},
   "outputs": [],
   "source": [
    "\n",
    "scaler.fit(preprocessed_data[['Age', 'Vintage', 'Credit_Product', 'Avg_Account_Balance','Region_Code']])\n",
    "preprocessed_data[['Age', 'Vintage', 'Credit_Product', 'Avg_Account_Balance','Region_Code']] = scaler.transform(preprocessed_data[['Age', 'Vintage', 'Credit_Product', 'Avg_Account_Balance','Region_Code']])"
   ]
  },
  {
   "cell_type": "code",
   "execution_count": 894,
   "metadata": {},
   "outputs": [],
   "source": [
    "from sklearn.feature_selection import f_classif"
   ]
  },
  {
   "cell_type": "code",
   "execution_count": 895,
   "metadata": {},
   "outputs": [
    {
     "data": {
      "text/html": [
       "<div>\n",
       "<style scoped>\n",
       "    .dataframe tbody tr th:only-of-type {\n",
       "        vertical-align: middle;\n",
       "    }\n",
       "\n",
       "    .dataframe tbody tr th {\n",
       "        vertical-align: top;\n",
       "    }\n",
       "\n",
       "    .dataframe thead th {\n",
       "        text-align: right;\n",
       "    }\n",
       "</style>\n",
       "<table border=\"1\" class=\"dataframe\">\n",
       "  <thead>\n",
       "    <tr style=\"text-align: right;\">\n",
       "      <th></th>\n",
       "      <th>Gender</th>\n",
       "      <th>Age</th>\n",
       "      <th>Region_Code</th>\n",
       "      <th>Vintage</th>\n",
       "      <th>Credit_Product</th>\n",
       "      <th>Avg_Account_Balance</th>\n",
       "      <th>Is_Active</th>\n",
       "      <th>Is_Lead</th>\n",
       "      <th>X2</th>\n",
       "      <th>X3</th>\n",
       "      <th>X4</th>\n",
       "      <th>Other</th>\n",
       "      <th>Salaried</th>\n",
       "      <th>Self_Employed</th>\n",
       "    </tr>\n",
       "  </thead>\n",
       "  <tbody>\n",
       "    <tr>\n",
       "      <th>0</th>\n",
       "      <td>0</td>\n",
       "      <td>1.015993</td>\n",
       "      <td>-0.877867</td>\n",
       "      <td>1.602684</td>\n",
       "      <td>0.298130</td>\n",
       "      <td>-0.554201</td>\n",
       "      <td>0</td>\n",
       "      <td>1</td>\n",
       "      <td>1</td>\n",
       "      <td>0</td>\n",
       "      <td>0</td>\n",
       "      <td>0</td>\n",
       "      <td>1</td>\n",
       "      <td>0</td>\n",
       "    </tr>\n",
       "    <tr>\n",
       "      <th>1</th>\n",
       "      <td>0</td>\n",
       "      <td>-0.886444</td>\n",
       "      <td>1.131812</td>\n",
       "      <td>-1.038747</td>\n",
       "      <td>0.298130</td>\n",
       "      <td>0.705862</td>\n",
       "      <td>0</td>\n",
       "      <td>1</td>\n",
       "      <td>1</td>\n",
       "      <td>0</td>\n",
       "      <td>0</td>\n",
       "      <td>0</td>\n",
       "      <td>0</td>\n",
       "      <td>1</td>\n",
       "    </tr>\n",
       "    <tr>\n",
       "      <th>2</th>\n",
       "      <td>0</td>\n",
       "      <td>-0.139058</td>\n",
       "      <td>-0.089557</td>\n",
       "      <td>1.602684</td>\n",
       "      <td>0.298130</td>\n",
       "      <td>0.075831</td>\n",
       "      <td>1</td>\n",
       "      <td>1</td>\n",
       "      <td>1</td>\n",
       "      <td>0</td>\n",
       "      <td>0</td>\n",
       "      <td>0</td>\n",
       "      <td>0</td>\n",
       "      <td>1</td>\n",
       "    </tr>\n",
       "    <tr>\n",
       "      <th>3</th>\n",
       "      <td>1</td>\n",
       "      <td>0.472439</td>\n",
       "      <td>-0.089557</td>\n",
       "      <td>0.470642</td>\n",
       "      <td>0.298130</td>\n",
       "      <td>-0.554201</td>\n",
       "      <td>1</td>\n",
       "      <td>1</td>\n",
       "      <td>0</td>\n",
       "      <td>1</td>\n",
       "      <td>0</td>\n",
       "      <td>1</td>\n",
       "      <td>0</td>\n",
       "      <td>0</td>\n",
       "    </tr>\n",
       "    <tr>\n",
       "      <th>4</th>\n",
       "      <td>1</td>\n",
       "      <td>-0.342891</td>\n",
       "      <td>1.157199</td>\n",
       "      <td>-0.850073</td>\n",
       "      <td>1.422217</td>\n",
       "      <td>0.075831</td>\n",
       "      <td>0</td>\n",
       "      <td>1</td>\n",
       "      <td>0</td>\n",
       "      <td>0</td>\n",
       "      <td>0</td>\n",
       "      <td>0</td>\n",
       "      <td>0</td>\n",
       "      <td>1</td>\n",
       "    </tr>\n",
       "  </tbody>\n",
       "</table>\n",
       "</div>"
      ],
      "text/plain": [
       "   Gender       Age  Region_Code   Vintage  Credit_Product  \\\n",
       "0       0  1.015993    -0.877867  1.602684        0.298130   \n",
       "1       0 -0.886444     1.131812 -1.038747        0.298130   \n",
       "2       0 -0.139058    -0.089557  1.602684        0.298130   \n",
       "3       1  0.472439    -0.089557  0.470642        0.298130   \n",
       "4       1 -0.342891     1.157199 -0.850073        1.422217   \n",
       "\n",
       "   Avg_Account_Balance  Is_Active  Is_Lead  X2  X3  X4  Other  Salaried  \\\n",
       "0            -0.554201          0        1   1   0   0      0         1   \n",
       "1             0.705862          0        1   1   0   0      0         0   \n",
       "2             0.075831          1        1   1   0   0      0         0   \n",
       "3            -0.554201          1        1   0   1   0      1         0   \n",
       "4             0.075831          0        1   0   0   0      0         0   \n",
       "\n",
       "   Self_Employed  \n",
       "0              0  \n",
       "1              1  \n",
       "2              1  \n",
       "3              0  \n",
       "4              1  "
      ]
     },
     "execution_count": 895,
     "metadata": {},
     "output_type": "execute_result"
    }
   ],
   "source": [
    "preprocessed_data.head()"
   ]
  },
  {
   "cell_type": "code",
   "execution_count": 896,
   "metadata": {},
   "outputs": [
    {
     "data": {
      "text/plain": [
       "Index(['Gender', 'Age', 'Region_Code', 'Vintage', 'Credit_Product',\n",
       "       'Avg_Account_Balance', 'Is_Active', 'Is_Lead', 'X2', 'X3', 'X4',\n",
       "       'Other', 'Salaried', 'Self_Employed'],\n",
       "      dtype='object')"
      ]
     },
     "execution_count": 896,
     "metadata": {},
     "output_type": "execute_result"
    }
   ],
   "source": [
    "preprocessed_data.columns"
   ]
  },
  {
   "cell_type": "code",
   "execution_count": 897,
   "metadata": {},
   "outputs": [],
   "source": [
    "x = preprocessed_data[['Gender', 'Age', 'Region_Code', 'Vintage', 'Credit_Product',\n",
    "       'Avg_Account_Balance', 'Is_Active', 'X2', 'X3', 'X4',\n",
    "       'Other', 'Salaried', 'Self_Employed']]\n",
    "y = preprocessed_data[['Is_Lead']]"
   ]
  },
  {
   "cell_type": "code",
   "execution_count": 898,
   "metadata": {},
   "outputs": [
    {
     "name": "stderr",
     "output_type": "stream",
     "text": [
      "/opt/anaconda3/lib/python3.8/site-packages/sklearn/utils/validation.py:72: DataConversionWarning: A column-vector y was passed when a 1d array was expected. Please change the shape of y to (n_samples, ), for example using ravel().\n",
      "  return f(**kwargs)\n"
     ]
    }
   ],
   "source": [
    "data = f_classif(x, y)"
   ]
  },
  {
   "cell_type": "code",
   "execution_count": 899,
   "metadata": {},
   "outputs": [],
   "source": [
    "x = x.reset_index(drop=True)\n",
    "y = y.reset_index(drop=True)"
   ]
  },
  {
   "cell_type": "code",
   "execution_count": 900,
   "metadata": {},
   "outputs": [],
   "source": [
    "df1 = pd.DataFrame()\n",
    "df1['Columns'] = x.columns\n",
    "df1['F feature'] = data[0]\n",
    "df1['P Value'] = data[1].round(4)"
   ]
  },
  {
   "cell_type": "code",
   "execution_count": 901,
   "metadata": {},
   "outputs": [
    {
     "data": {
      "text/html": [
       "<div>\n",
       "<style scoped>\n",
       "    .dataframe tbody tr th:only-of-type {\n",
       "        vertical-align: middle;\n",
       "    }\n",
       "\n",
       "    .dataframe tbody tr th {\n",
       "        vertical-align: top;\n",
       "    }\n",
       "\n",
       "    .dataframe thead th {\n",
       "        text-align: right;\n",
       "    }\n",
       "</style>\n",
       "<table border=\"1\" class=\"dataframe\">\n",
       "  <thead>\n",
       "    <tr style=\"text-align: right;\">\n",
       "      <th></th>\n",
       "      <th>Columns</th>\n",
       "      <th>F feature</th>\n",
       "      <th>P Value</th>\n",
       "    </tr>\n",
       "  </thead>\n",
       "  <tbody>\n",
       "    <tr>\n",
       "      <th>0</th>\n",
       "      <td>Gender</td>\n",
       "      <td>1133.723831</td>\n",
       "      <td>0.000</td>\n",
       "    </tr>\n",
       "    <tr>\n",
       "      <th>1</th>\n",
       "      <td>Age</td>\n",
       "      <td>12969.887406</td>\n",
       "      <td>0.000</td>\n",
       "    </tr>\n",
       "    <tr>\n",
       "      <th>2</th>\n",
       "      <td>Region_Code</td>\n",
       "      <td>3326.678077</td>\n",
       "      <td>0.000</td>\n",
       "    </tr>\n",
       "    <tr>\n",
       "      <th>3</th>\n",
       "      <td>Vintage</td>\n",
       "      <td>19514.507074</td>\n",
       "      <td>0.000</td>\n",
       "    </tr>\n",
       "    <tr>\n",
       "      <th>4</th>\n",
       "      <td>Credit_Product</td>\n",
       "      <td>24776.880281</td>\n",
       "      <td>0.000</td>\n",
       "    </tr>\n",
       "    <tr>\n",
       "      <th>5</th>\n",
       "      <td>Avg_Account_Balance</td>\n",
       "      <td>897.621236</td>\n",
       "      <td>0.000</td>\n",
       "    </tr>\n",
       "    <tr>\n",
       "      <th>6</th>\n",
       "      <td>Is_Active</td>\n",
       "      <td>1636.253952</td>\n",
       "      <td>0.000</td>\n",
       "    </tr>\n",
       "    <tr>\n",
       "      <th>7</th>\n",
       "      <td>X2</td>\n",
       "      <td>4066.562589</td>\n",
       "      <td>0.000</td>\n",
       "    </tr>\n",
       "    <tr>\n",
       "      <th>8</th>\n",
       "      <td>X3</td>\n",
       "      <td>8282.565933</td>\n",
       "      <td>0.000</td>\n",
       "    </tr>\n",
       "    <tr>\n",
       "      <th>9</th>\n",
       "      <td>X4</td>\n",
       "      <td>3.681309</td>\n",
       "      <td>0.055</td>\n",
       "    </tr>\n",
       "    <tr>\n",
       "      <th>10</th>\n",
       "      <td>Other</td>\n",
       "      <td>25.688599</td>\n",
       "      <td>0.000</td>\n",
       "    </tr>\n",
       "    <tr>\n",
       "      <th>11</th>\n",
       "      <td>Salaried</td>\n",
       "      <td>3286.622187</td>\n",
       "      <td>0.000</td>\n",
       "    </tr>\n",
       "    <tr>\n",
       "      <th>12</th>\n",
       "      <td>Self_Employed</td>\n",
       "      <td>1401.874199</td>\n",
       "      <td>0.000</td>\n",
       "    </tr>\n",
       "  </tbody>\n",
       "</table>\n",
       "</div>"
      ],
      "text/plain": [
       "                Columns     F feature  P Value\n",
       "0                Gender   1133.723831    0.000\n",
       "1                   Age  12969.887406    0.000\n",
       "2           Region_Code   3326.678077    0.000\n",
       "3               Vintage  19514.507074    0.000\n",
       "4        Credit_Product  24776.880281    0.000\n",
       "5   Avg_Account_Balance    897.621236    0.000\n",
       "6             Is_Active   1636.253952    0.000\n",
       "7                    X2   4066.562589    0.000\n",
       "8                    X3   8282.565933    0.000\n",
       "9                    X4      3.681309    0.055\n",
       "10                Other     25.688599    0.000\n",
       "11             Salaried   3286.622187    0.000\n",
       "12        Self_Employed   1401.874199    0.000"
      ]
     },
     "execution_count": 901,
     "metadata": {},
     "output_type": "execute_result"
    }
   ],
   "source": [
    "df1"
   ]
  },
  {
   "cell_type": "markdown",
   "metadata": {},
   "source": [
    "##### Removing features will p_value greater than 0.05"
   ]
  },
  {
   "cell_type": "code",
   "execution_count": 902,
   "metadata": {},
   "outputs": [
    {
     "data": {
      "text/plain": [
       "<AxesSubplot:>"
      ]
     },
     "execution_count": 902,
     "metadata": {},
     "output_type": "execute_result"
    },
    {
     "data": {
      "image/png": "[encoded data removed]",
      "text/plain": [
       "<Figure size 1440x1440 with 2 Axes>"
      ]
     },
     "metadata": {
      "needs_background": "light"
     },
     "output_type": "display_data"
    }
   ],
   "source": [
    "plt.figure(figsize=(20,20))\n",
    "sns.heatmap(x.corr())"
   ]
  },
  {
   "cell_type": "markdown",
   "metadata": {},
   "source": [
    "# Split train test"
   ]
  },
  {
   "cell_type": "code",
   "execution_count": 903,
   "metadata": {},
   "outputs": [],
   "source": [
    "from sklearn.model_selection import train_test_split"
   ]
  },
  {
   "cell_type": "code",
   "execution_count": 904,
   "metadata": {},
   "outputs": [],
   "source": [
    "x_train,x_test,y_train,y_test = train_test_split(x,y,test_size=0.2,random_state=360)"
   ]
  },
  {
   "cell_type": "code",
   "execution_count": 905,
   "metadata": {},
   "outputs": [
    {
     "data": {
      "text/html": [
       "<div>\n",
       "<style scoped>\n",
       "    .dataframe tbody tr th:only-of-type {\n",
       "        vertical-align: middle;\n",
       "    }\n",
       "\n",
       "    .dataframe tbody tr th {\n",
       "        vertical-align: top;\n",
       "    }\n",
       "\n",
       "    .dataframe thead th {\n",
       "        text-align: right;\n",
       "    }\n",
       "</style>\n",
       "<table border=\"1\" class=\"dataframe\">\n",
       "  <thead>\n",
       "    <tr style=\"text-align: right;\">\n",
       "      <th></th>\n",
       "      <th>Gender</th>\n",
       "      <th>Age</th>\n",
       "      <th>Region_Code</th>\n",
       "      <th>Vintage</th>\n",
       "      <th>Credit_Product</th>\n",
       "      <th>Avg_Account_Balance</th>\n",
       "      <th>Is_Active</th>\n",
       "      <th>X2</th>\n",
       "      <th>X3</th>\n",
       "      <th>X4</th>\n",
       "      <th>Other</th>\n",
       "      <th>Salaried</th>\n",
       "      <th>Self_Employed</th>\n",
       "    </tr>\n",
       "  </thead>\n",
       "  <tbody>\n",
       "    <tr>\n",
       "      <th>58738</th>\n",
       "      <td>1</td>\n",
       "      <td>0.880105</td>\n",
       "      <td>-0.475470</td>\n",
       "      <td>-1.070193</td>\n",
       "      <td>-0.825956</td>\n",
       "      <td>0.075831</td>\n",
       "      <td>1</td>\n",
       "      <td>1</td>\n",
       "      <td>0</td>\n",
       "      <td>0</td>\n",
       "      <td>0</td>\n",
       "      <td>0</td>\n",
       "      <td>1</td>\n",
       "    </tr>\n",
       "    <tr>\n",
       "      <th>99400</th>\n",
       "      <td>1</td>\n",
       "      <td>0.404495</td>\n",
       "      <td>-1.401759</td>\n",
       "      <td>1.225337</td>\n",
       "      <td>1.422217</td>\n",
       "      <td>0.075831</td>\n",
       "      <td>0</td>\n",
       "      <td>0</td>\n",
       "      <td>1</td>\n",
       "      <td>0</td>\n",
       "      <td>0</td>\n",
       "      <td>0</td>\n",
       "      <td>1</td>\n",
       "    </tr>\n",
       "    <tr>\n",
       "      <th>185149</th>\n",
       "      <td>0</td>\n",
       "      <td>0.880105</td>\n",
       "      <td>1.132966</td>\n",
       "      <td>2.168705</td>\n",
       "      <td>-0.825956</td>\n",
       "      <td>-0.554201</td>\n",
       "      <td>0</td>\n",
       "      <td>1</td>\n",
       "      <td>0</td>\n",
       "      <td>0</td>\n",
       "      <td>0</td>\n",
       "      <td>0</td>\n",
       "      <td>1</td>\n",
       "    </tr>\n",
       "    <tr>\n",
       "      <th>1700</th>\n",
       "      <td>0</td>\n",
       "      <td>0.132718</td>\n",
       "      <td>-0.925179</td>\n",
       "      <td>0.502088</td>\n",
       "      <td>1.422217</td>\n",
       "      <td>-0.554201</td>\n",
       "      <td>0</td>\n",
       "      <td>1</td>\n",
       "      <td>0</td>\n",
       "      <td>0</td>\n",
       "      <td>0</td>\n",
       "      <td>0</td>\n",
       "      <td>1</td>\n",
       "    </tr>\n",
       "    <tr>\n",
       "      <th>176456</th>\n",
       "      <td>1</td>\n",
       "      <td>-1.090277</td>\n",
       "      <td>1.157199</td>\n",
       "      <td>-0.881519</td>\n",
       "      <td>-0.825956</td>\n",
       "      <td>1.965925</td>\n",
       "      <td>1</td>\n",
       "      <td>0</td>\n",
       "      <td>0</td>\n",
       "      <td>0</td>\n",
       "      <td>0</td>\n",
       "      <td>1</td>\n",
       "      <td>0</td>\n",
       "    </tr>\n",
       "    <tr>\n",
       "      <th>...</th>\n",
       "      <td>...</td>\n",
       "      <td>...</td>\n",
       "      <td>...</td>\n",
       "      <td>...</td>\n",
       "      <td>...</td>\n",
       "      <td>...</td>\n",
       "      <td>...</td>\n",
       "      <td>...</td>\n",
       "      <td>...</td>\n",
       "      <td>...</td>\n",
       "      <td>...</td>\n",
       "      <td>...</td>\n",
       "      <td>...</td>\n",
       "    </tr>\n",
       "    <tr>\n",
       "      <th>170207</th>\n",
       "      <td>1</td>\n",
       "      <td>-1.158221</td>\n",
       "      <td>-0.877867</td>\n",
       "      <td>-0.661400</td>\n",
       "      <td>-0.825956</td>\n",
       "      <td>0.075831</td>\n",
       "      <td>0</td>\n",
       "      <td>0</td>\n",
       "      <td>0</td>\n",
       "      <td>0</td>\n",
       "      <td>0</td>\n",
       "      <td>1</td>\n",
       "      <td>0</td>\n",
       "    </tr>\n",
       "    <tr>\n",
       "      <th>192802</th>\n",
       "      <td>1</td>\n",
       "      <td>-0.954389</td>\n",
       "      <td>-0.778133</td>\n",
       "      <td>-0.441280</td>\n",
       "      <td>-0.825956</td>\n",
       "      <td>-1.184233</td>\n",
       "      <td>0</td>\n",
       "      <td>0</td>\n",
       "      <td>0</td>\n",
       "      <td>0</td>\n",
       "      <td>0</td>\n",
       "      <td>1</td>\n",
       "      <td>0</td>\n",
       "    </tr>\n",
       "    <tr>\n",
       "      <th>93704</th>\n",
       "      <td>0</td>\n",
       "      <td>-0.614668</td>\n",
       "      <td>-0.410189</td>\n",
       "      <td>-0.504172</td>\n",
       "      <td>-0.825956</td>\n",
       "      <td>0.075831</td>\n",
       "      <td>0</td>\n",
       "      <td>0</td>\n",
       "      <td>0</td>\n",
       "      <td>0</td>\n",
       "      <td>0</td>\n",
       "      <td>1</td>\n",
       "      <td>0</td>\n",
       "    </tr>\n",
       "    <tr>\n",
       "      <th>44733</th>\n",
       "      <td>0</td>\n",
       "      <td>-1.158221</td>\n",
       "      <td>-0.034827</td>\n",
       "      <td>-0.850073</td>\n",
       "      <td>-0.825956</td>\n",
       "      <td>-0.554201</td>\n",
       "      <td>0</td>\n",
       "      <td>0</td>\n",
       "      <td>0</td>\n",
       "      <td>0</td>\n",
       "      <td>0</td>\n",
       "      <td>1</td>\n",
       "      <td>0</td>\n",
       "    </tr>\n",
       "    <tr>\n",
       "      <th>156736</th>\n",
       "      <td>1</td>\n",
       "      <td>-0.342891</td>\n",
       "      <td>-0.335842</td>\n",
       "      <td>-0.692845</td>\n",
       "      <td>-0.825956</td>\n",
       "      <td>-0.554201</td>\n",
       "      <td>0</td>\n",
       "      <td>0</td>\n",
       "      <td>0</td>\n",
       "      <td>0</td>\n",
       "      <td>0</td>\n",
       "      <td>0</td>\n",
       "      <td>1</td>\n",
       "    </tr>\n",
       "  </tbody>\n",
       "</table>\n",
       "<p>160000 rows × 13 columns</p>\n",
       "</div>"
      ],
      "text/plain": [
       "        Gender       Age  Region_Code   Vintage  Credit_Product  \\\n",
       "58738        1  0.880105    -0.475470 -1.070193       -0.825956   \n",
       "99400        1  0.404495    -1.401759  1.225337        1.422217   \n",
       "185149       0  0.880105     1.132966  2.168705       -0.825956   \n",
       "1700         0  0.132718    -0.925179  0.502088        1.422217   \n",
       "176456       1 -1.090277     1.157199 -0.881519       -0.825956   \n",
       "...        ...       ...          ...       ...             ...   \n",
       "170207       1 -1.158221    -0.877867 -0.661400       -0.825956   \n",
       "192802       1 -0.954389    -0.778133 -0.441280       -0.825956   \n",
       "93704        0 -0.614668    -0.410189 -0.504172       -0.825956   \n",
       "44733        0 -1.158221    -0.034827 -0.850073       -0.825956   \n",
       "156736       1 -0.342891    -0.335842 -0.692845       -0.825956   \n",
       "\n",
       "        Avg_Account_Balance  Is_Active  X2  X3  X4  Other  Salaried  \\\n",
       "58738              0.075831          1   1   0   0      0         0   \n",
       "99400              0.075831          0   0   1   0      0         0   \n",
       "185149            -0.554201          0   1   0   0      0         0   \n",
       "1700              -0.554201          0   1   0   0      0         0   \n",
       "176456             1.965925          1   0   0   0      0         1   \n",
       "...                     ...        ...  ..  ..  ..    ...       ...   \n",
       "170207             0.075831          0   0   0   0      0         1   \n",
       "192802            -1.184233          0   0   0   0      0         1   \n",
       "93704              0.075831          0   0   0   0      0         1   \n",
       "44733             -0.554201          0   0   0   0      0         1   \n",
       "156736            -0.554201          0   0   0   0      0         0   \n",
       "\n",
       "        Self_Employed  \n",
       "58738               1  \n",
       "99400               1  \n",
       "185149              1  \n",
       "1700                1  \n",
       "176456              0  \n",
       "...               ...  \n",
       "170207              0  \n",
       "192802              0  \n",
       "93704               0  \n",
       "44733               0  \n",
       "156736              1  \n",
       "\n",
       "[160000 rows x 13 columns]"
      ]
     },
     "execution_count": 905,
     "metadata": {},
     "output_type": "execute_result"
    }
   ],
   "source": [
    "x_train"
   ]
  },
  {
   "cell_type": "markdown",
   "metadata": {},
   "source": [
    "# Model"
   ]
  },
  {
   "cell_type": "markdown",
   "metadata": {},
   "source": [
    "## ANN"
   ]
  },
  {
   "cell_type": "code",
   "execution_count": 906,
   "metadata": {},
   "outputs": [],
   "source": [
    "import tensorflow\n",
    "from tensorflow.keras.layers import Dense,Dropout\n",
    "from tensorflow.keras import Sequential\n",
    "from tensorflow.keras.callbacks import EarlyStopping\n",
    "from tensorflow.keras.optimizers import Adam"
   ]
  },
  {
   "cell_type": "code",
   "execution_count": 907,
   "metadata": {},
   "outputs": [],
   "source": [
    "model = Sequential()\n",
    "\n",
    "\n",
    "model.add(Dense(35,activation='relu'))\n",
    "#model.add(Dropout(0.5))\n",
    "model.add(Dense(35,activation='relu'))\n",
    "#model.add(Dropout(0.5))\n",
    "model.add(Dense(35,activation='relu'))\n",
    "#model.add(Dropout(0.5))\n",
    "model.add(Dense(35,activation='relu'))\n",
    "#model.add(Dropout(0.5))\n",
    "model.add(Dense(35,activation='relu'))\n",
    "#model.add(Dropout(0.5))\n",
    "model.add(Dense(35,activation='relu'))\n",
    "#model.add(Dropout(0.5))\n",
    "model.add(Dense(35,activation='relu'))\n",
    "#model.add(Dropout(0.5))\n",
    "\n",
    "\n",
    "\n",
    "\n",
    "\n",
    "\n",
    "\n",
    "\n",
    "model.add(Dense(1,activation='sigmoid'))\n",
    "\n",
    "model.compile(optimizer = 'Adam', loss='mse')"
   ]
  },
  {
   "cell_type": "code",
   "execution_count": 908,
   "metadata": {},
   "outputs": [],
   "source": [
    "earlystopping = EarlyStopping(monitor = 'val_loss',\n",
    "                          min_delta = 0,\n",
    "                          patience = 3,\n",
    "                          verbose = 1,\n",
    "                          restore_best_weights = True)"
   ]
  },
  {
   "cell_type": "code",
   "execution_count": 909,
   "metadata": {},
   "outputs": [
    {
     "name": "stdout",
     "output_type": "stream",
     "text": [
      "Epoch 1/400\n",
      "1000/1000 [==============================] - 4s 4ms/step - loss: 0.1447 - val_loss: 0.1189\n",
      "Epoch 2/400\n",
      "1000/1000 [==============================] - 3s 3ms/step - loss: 0.1176 - val_loss: 0.1188\n",
      "Epoch 3/400\n",
      "1000/1000 [==============================] - 3s 3ms/step - loss: 0.1153 - val_loss: 0.1177\n",
      "Epoch 4/400\n",
      "1000/1000 [==============================] - 2s 2ms/step - loss: 0.1158 - val_loss: 0.1176\n",
      "Epoch 5/400\n",
      "1000/1000 [==============================] - 2s 2ms/step - loss: 0.1151 - val_loss: 0.1176\n",
      "Epoch 6/400\n",
      "1000/1000 [==============================] - 2s 2ms/step - loss: 0.1156 - val_loss: 0.1173\n",
      "Epoch 7/400\n",
      "1000/1000 [==============================] - 3s 3ms/step - loss: 0.1153 - val_loss: 0.1183\n",
      "Epoch 8/400\n",
      "1000/1000 [==============================] - 2s 2ms/step - loss: 0.1145 - val_loss: 0.1175\n",
      "Epoch 9/400\n",
      "1000/1000 [==============================] - 3s 3ms/step - loss: 0.1145 - val_loss: 0.1172\n",
      "Epoch 10/400\n",
      "1000/1000 [==============================] - 3s 3ms/step - loss: 0.1147 - val_loss: 0.1173\n",
      "Epoch 11/400\n",
      "1000/1000 [==============================] - 2s 2ms/step - loss: 0.1151 - val_loss: 0.1177\n",
      "Epoch 12/400\n",
      "1000/1000 [==============================] - 3s 3ms/step - loss: 0.1142 - val_loss: 0.1178\n",
      "Restoring model weights from the end of the best epoch.\n",
      "Epoch 00012: early stopping\n"
     ]
    },
    {
     "data": {
      "text/plain": [
       "<tensorflow.python.keras.callbacks.History at 0x7fd9973cf0d0>"
      ]
     },
     "execution_count": 909,
     "metadata": {},
     "output_type": "execute_result"
    }
   ],
   "source": [
    "model.fit(x_train, y_train, batch_size=128, epochs=400, callbacks = earlystopping, validation_split=0.2)"
   ]
  },
  {
   "cell_type": "code",
   "execution_count": 910,
   "metadata": {},
   "outputs": [
    {
     "data": {
      "text/plain": [
       "0.8757842473330582"
      ]
     },
     "execution_count": 910,
     "metadata": {},
     "output_type": "execute_result"
    }
   ],
   "source": [
    "pred_test3 = model.predict(x_test)\n",
    "false_positive_rate, true_positive_rate, thresholds = roc_curve(y_test, pred_test3)\n",
    "roc_auc = auc(false_positive_rate, true_positive_rate)\n",
    "roc_auc"
   ]
  },
  {
   "cell_type": "markdown",
   "metadata": {},
   "source": [
    "# Testing"
   ]
  },
  {
   "cell_type": "code",
   "execution_count": 911,
   "metadata": {},
   "outputs": [],
   "source": [
    "test_data = pd.read_csv('test_mSzZ8RL.csv')"
   ]
  },
  {
   "cell_type": "code",
   "execution_count": 912,
   "metadata": {},
   "outputs": [
    {
     "data": {
      "text/html": [
       "<div>\n",
       "<style scoped>\n",
       "    .dataframe tbody tr th:only-of-type {\n",
       "        vertical-align: middle;\n",
       "    }\n",
       "\n",
       "    .dataframe tbody tr th {\n",
       "        vertical-align: top;\n",
       "    }\n",
       "\n",
       "    .dataframe thead th {\n",
       "        text-align: right;\n",
       "    }\n",
       "</style>\n",
       "<table border=\"1\" class=\"dataframe\">\n",
       "  <thead>\n",
       "    <tr style=\"text-align: right;\">\n",
       "      <th></th>\n",
       "      <th>ID</th>\n",
       "      <th>Gender</th>\n",
       "      <th>Age</th>\n",
       "      <th>Region_Code</th>\n",
       "      <th>Occupation</th>\n",
       "      <th>Channel_Code</th>\n",
       "      <th>Vintage</th>\n",
       "      <th>Credit_Product</th>\n",
       "      <th>Avg_Account_Balance</th>\n",
       "      <th>Is_Active</th>\n",
       "    </tr>\n",
       "  </thead>\n",
       "  <tbody>\n",
       "    <tr>\n",
       "      <th>0</th>\n",
       "      <td>VBENBARO</td>\n",
       "      <td>Male</td>\n",
       "      <td>29</td>\n",
       "      <td>RG254</td>\n",
       "      <td>Other</td>\n",
       "      <td>X1</td>\n",
       "      <td>25</td>\n",
       "      <td>Yes</td>\n",
       "      <td>742366</td>\n",
       "      <td>No</td>\n",
       "    </tr>\n",
       "    <tr>\n",
       "      <th>1</th>\n",
       "      <td>CCMEWNKY</td>\n",
       "      <td>Male</td>\n",
       "      <td>43</td>\n",
       "      <td>RG268</td>\n",
       "      <td>Other</td>\n",
       "      <td>X2</td>\n",
       "      <td>49</td>\n",
       "      <td>NaN</td>\n",
       "      <td>925537</td>\n",
       "      <td>No</td>\n",
       "    </tr>\n",
       "    <tr>\n",
       "      <th>2</th>\n",
       "      <td>VK3KGA9M</td>\n",
       "      <td>Male</td>\n",
       "      <td>31</td>\n",
       "      <td>RG270</td>\n",
       "      <td>Salaried</td>\n",
       "      <td>X1</td>\n",
       "      <td>14</td>\n",
       "      <td>No</td>\n",
       "      <td>215949</td>\n",
       "      <td>No</td>\n",
       "    </tr>\n",
       "    <tr>\n",
       "      <th>3</th>\n",
       "      <td>TT8RPZVC</td>\n",
       "      <td>Male</td>\n",
       "      <td>29</td>\n",
       "      <td>RG272</td>\n",
       "      <td>Other</td>\n",
       "      <td>X1</td>\n",
       "      <td>33</td>\n",
       "      <td>No</td>\n",
       "      <td>868070</td>\n",
       "      <td>No</td>\n",
       "    </tr>\n",
       "    <tr>\n",
       "      <th>4</th>\n",
       "      <td>SHQZEYTZ</td>\n",
       "      <td>Female</td>\n",
       "      <td>29</td>\n",
       "      <td>RG270</td>\n",
       "      <td>Other</td>\n",
       "      <td>X1</td>\n",
       "      <td>19</td>\n",
       "      <td>No</td>\n",
       "      <td>657087</td>\n",
       "      <td>No</td>\n",
       "    </tr>\n",
       "  </tbody>\n",
       "</table>\n",
       "</div>"
      ],
      "text/plain": [
       "         ID  Gender  Age Region_Code Occupation Channel_Code  Vintage  \\\n",
       "0  VBENBARO    Male   29       RG254      Other           X1       25   \n",
       "1  CCMEWNKY    Male   43       RG268      Other           X2       49   \n",
       "2  VK3KGA9M    Male   31       RG270   Salaried           X1       14   \n",
       "3  TT8RPZVC    Male   29       RG272      Other           X1       33   \n",
       "4  SHQZEYTZ  Female   29       RG270      Other           X1       19   \n",
       "\n",
       "  Credit_Product  Avg_Account_Balance Is_Active  \n",
       "0            Yes               742366        No  \n",
       "1            NaN               925537        No  \n",
       "2             No               215949        No  \n",
       "3             No               868070        No  \n",
       "4             No               657087        No  "
      ]
     },
     "execution_count": 912,
     "metadata": {},
     "output_type": "execute_result"
    }
   ],
   "source": [
    "test_data.head()"
   ]
  },
  {
   "cell_type": "code",
   "execution_count": 913,
   "metadata": {},
   "outputs": [
    {
     "data": {
      "text/plain": [
       "ID                         0\n",
       "Gender                     0\n",
       "Age                        0\n",
       "Region_Code                0\n",
       "Occupation                 0\n",
       "Channel_Code               0\n",
       "Vintage                    0\n",
       "Credit_Product         12522\n",
       "Avg_Account_Balance        0\n",
       "Is_Active                  0\n",
       "dtype: int64"
      ]
     },
     "execution_count": 913,
     "metadata": {},
     "output_type": "execute_result"
    }
   ],
   "source": [
    "test_data.isna().sum()"
   ]
  },
  {
   "cell_type": "code",
   "execution_count": 914,
   "metadata": {},
   "outputs": [
    {
     "name": "stderr",
     "output_type": "stream",
     "text": [
      "<ipython-input-890-02019d8b9153>:21: SettingWithCopyWarning: \n",
      "A value is trying to be set on a copy of a slice from a DataFrame\n",
      "\n",
      "See the caveats in the documentation: https://pandas.pydata.org/pandas-docs/stable/user_guide/indexing.html#returning-a-view-versus-a-copy\n",
      "  data['Region_Code'][i] = dict1[data['Region_Code'][i]]\n",
      "<ipython-input-890-02019d8b9153>:26: SettingWithCopyWarning: \n",
      "A value is trying to be set on a copy of a slice from a DataFrame.\n",
      "Try using .loc[row_indexer,col_indexer] = value instead\n",
      "\n",
      "See the caveats in the documentation: https://pandas.pydata.org/pandas-docs/stable/user_guide/indexing.html#returning-a-view-versus-a-copy\n",
      "  df['Avg_Account_Balance'] = pd.cut(data['Avg_Account_Balance'], bins=10, precision=0, labels= bin_labels)\n"
     ]
    }
   ],
   "source": [
    "test_data = Processing(test_data)\n",
    "\n",
    "test_data[['Age', 'Vintage', 'Credit_Product', 'Avg_Account_Balance','Region_Code']] = scaler.fit_transform(test_data[['Age', 'Vintage', 'Credit_Product', 'Avg_Account_Balance','Region_Code']])\n"
   ]
  },
  {
   "cell_type": "code",
   "execution_count": 915,
   "metadata": {},
   "outputs": [
    {
     "data": {
      "text/html": [
       "<div>\n",
       "<style scoped>\n",
       "    .dataframe tbody tr th:only-of-type {\n",
       "        vertical-align: middle;\n",
       "    }\n",
       "\n",
       "    .dataframe tbody tr th {\n",
       "        vertical-align: top;\n",
       "    }\n",
       "\n",
       "    .dataframe thead th {\n",
       "        text-align: right;\n",
       "    }\n",
       "</style>\n",
       "<table border=\"1\" class=\"dataframe\">\n",
       "  <thead>\n",
       "    <tr style=\"text-align: right;\">\n",
       "      <th></th>\n",
       "      <th>ID</th>\n",
       "      <th>Gender</th>\n",
       "      <th>Age</th>\n",
       "      <th>Region_Code</th>\n",
       "      <th>Vintage</th>\n",
       "      <th>Credit_Product</th>\n",
       "      <th>Avg_Account_Balance</th>\n",
       "      <th>Is_Active</th>\n",
       "      <th>X2</th>\n",
       "      <th>X3</th>\n",
       "      <th>X4</th>\n",
       "      <th>Other</th>\n",
       "      <th>Salaried</th>\n",
       "      <th>Self_Employed</th>\n",
       "    </tr>\n",
       "  </thead>\n",
       "  <tbody>\n",
       "    <tr>\n",
       "      <th>0</th>\n",
       "      <td>VBENBARO</td>\n",
       "      <td>0</td>\n",
       "      <td>-0.999878</td>\n",
       "      <td>-0.471887</td>\n",
       "      <td>-0.676804</td>\n",
       "      <td>1.443192</td>\n",
       "      <td>-0.648948</td>\n",
       "      <td>0</td>\n",
       "      <td>0</td>\n",
       "      <td>0</td>\n",
       "      <td>0</td>\n",
       "      <td>1</td>\n",
       "      <td>0</td>\n",
       "      <td>0</td>\n",
       "    </tr>\n",
       "    <tr>\n",
       "      <th>1</th>\n",
       "      <td>CCMEWNKY</td>\n",
       "      <td>0</td>\n",
       "      <td>-0.058563</td>\n",
       "      <td>1.136611</td>\n",
       "      <td>0.066841</td>\n",
       "      <td>0.323495</td>\n",
       "      <td>-0.648948</td>\n",
       "      <td>0</td>\n",
       "      <td>1</td>\n",
       "      <td>0</td>\n",
       "      <td>0</td>\n",
       "      <td>1</td>\n",
       "      <td>0</td>\n",
       "      <td>0</td>\n",
       "    </tr>\n",
       "    <tr>\n",
       "      <th>2</th>\n",
       "      <td>VK3KGA9M</td>\n",
       "      <td>0</td>\n",
       "      <td>-0.865404</td>\n",
       "      <td>-1.766499</td>\n",
       "      <td>-1.017641</td>\n",
       "      <td>-0.796202</td>\n",
       "      <td>-0.648948</td>\n",
       "      <td>0</td>\n",
       "      <td>0</td>\n",
       "      <td>0</td>\n",
       "      <td>0</td>\n",
       "      <td>0</td>\n",
       "      <td>1</td>\n",
       "      <td>0</td>\n",
       "    </tr>\n",
       "    <tr>\n",
       "      <th>3</th>\n",
       "      <td>TT8RPZVC</td>\n",
       "      <td>0</td>\n",
       "      <td>-0.999878</td>\n",
       "      <td>-0.313296</td>\n",
       "      <td>-0.428922</td>\n",
       "      <td>-0.796202</td>\n",
       "      <td>-0.648948</td>\n",
       "      <td>0</td>\n",
       "      <td>0</td>\n",
       "      <td>0</td>\n",
       "      <td>0</td>\n",
       "      <td>1</td>\n",
       "      <td>0</td>\n",
       "      <td>0</td>\n",
       "    </tr>\n",
       "    <tr>\n",
       "      <th>4</th>\n",
       "      <td>SHQZEYTZ</td>\n",
       "      <td>1</td>\n",
       "      <td>-0.999878</td>\n",
       "      <td>-1.766499</td>\n",
       "      <td>-0.862715</td>\n",
       "      <td>-0.796202</td>\n",
       "      <td>-0.648948</td>\n",
       "      <td>0</td>\n",
       "      <td>0</td>\n",
       "      <td>0</td>\n",
       "      <td>0</td>\n",
       "      <td>1</td>\n",
       "      <td>0</td>\n",
       "      <td>0</td>\n",
       "    </tr>\n",
       "    <tr>\n",
       "      <th>...</th>\n",
       "      <td>...</td>\n",
       "      <td>...</td>\n",
       "      <td>...</td>\n",
       "      <td>...</td>\n",
       "      <td>...</td>\n",
       "      <td>...</td>\n",
       "      <td>...</td>\n",
       "      <td>...</td>\n",
       "      <td>...</td>\n",
       "      <td>...</td>\n",
       "      <td>...</td>\n",
       "      <td>...</td>\n",
       "      <td>...</td>\n",
       "      <td>...</td>\n",
       "    </tr>\n",
       "    <tr>\n",
       "      <th>105307</th>\n",
       "      <td>DBENJOYI</td>\n",
       "      <td>0</td>\n",
       "      <td>0.546567</td>\n",
       "      <td>1.136611</td>\n",
       "      <td>1.213293</td>\n",
       "      <td>1.443192</td>\n",
       "      <td>3.673417</td>\n",
       "      <td>1</td>\n",
       "      <td>1</td>\n",
       "      <td>0</td>\n",
       "      <td>0</td>\n",
       "      <td>0</td>\n",
       "      <td>1</td>\n",
       "      <td>0</td>\n",
       "    </tr>\n",
       "    <tr>\n",
       "      <th>105308</th>\n",
       "      <td>CWQ72DWS</td>\n",
       "      <td>0</td>\n",
       "      <td>0.748278</td>\n",
       "      <td>-0.085960</td>\n",
       "      <td>1.213293</td>\n",
       "      <td>1.443192</td>\n",
       "      <td>0.431643</td>\n",
       "      <td>0</td>\n",
       "      <td>1</td>\n",
       "      <td>0</td>\n",
       "      <td>0</td>\n",
       "      <td>1</td>\n",
       "      <td>0</td>\n",
       "      <td>0</td>\n",
       "    </tr>\n",
       "    <tr>\n",
       "      <th>105309</th>\n",
       "      <td>HDESC8GU</td>\n",
       "      <td>0</td>\n",
       "      <td>-0.596457</td>\n",
       "      <td>-0.471887</td>\n",
       "      <td>-0.986656</td>\n",
       "      <td>-0.796202</td>\n",
       "      <td>0.431643</td>\n",
       "      <td>0</td>\n",
       "      <td>0</td>\n",
       "      <td>0</td>\n",
       "      <td>1</td>\n",
       "      <td>0</td>\n",
       "      <td>1</td>\n",
       "      <td>0</td>\n",
       "    </tr>\n",
       "    <tr>\n",
       "      <th>105310</th>\n",
       "      <td>2PW4SFCA</td>\n",
       "      <td>0</td>\n",
       "      <td>0.613804</td>\n",
       "      <td>-0.471887</td>\n",
       "      <td>1.430189</td>\n",
       "      <td>-0.796202</td>\n",
       "      <td>-0.648948</td>\n",
       "      <td>1</td>\n",
       "      <td>0</td>\n",
       "      <td>1</td>\n",
       "      <td>0</td>\n",
       "      <td>1</td>\n",
       "      <td>0</td>\n",
       "      <td>0</td>\n",
       "    </tr>\n",
       "    <tr>\n",
       "      <th>105311</th>\n",
       "      <td>F2NOYPPZ</td>\n",
       "      <td>0</td>\n",
       "      <td>-1.134351</td>\n",
       "      <td>-1.846124</td>\n",
       "      <td>-0.800745</td>\n",
       "      <td>-0.796202</td>\n",
       "      <td>-0.648948</td>\n",
       "      <td>0</td>\n",
       "      <td>0</td>\n",
       "      <td>0</td>\n",
       "      <td>0</td>\n",
       "      <td>0</td>\n",
       "      <td>1</td>\n",
       "      <td>0</td>\n",
       "    </tr>\n",
       "  </tbody>\n",
       "</table>\n",
       "<p>105312 rows × 14 columns</p>\n",
       "</div>"
      ],
      "text/plain": [
       "              ID  Gender       Age  Region_Code   Vintage  Credit_Product  \\\n",
       "0       VBENBARO       0 -0.999878    -0.471887 -0.676804        1.443192   \n",
       "1       CCMEWNKY       0 -0.058563     1.136611  0.066841        0.323495   \n",
       "2       VK3KGA9M       0 -0.865404    -1.766499 -1.017641       -0.796202   \n",
       "3       TT8RPZVC       0 -0.999878    -0.313296 -0.428922       -0.796202   \n",
       "4       SHQZEYTZ       1 -0.999878    -1.766499 -0.862715       -0.796202   \n",
       "...          ...     ...       ...          ...       ...             ...   \n",
       "105307  DBENJOYI       0  0.546567     1.136611  1.213293        1.443192   \n",
       "105308  CWQ72DWS       0  0.748278    -0.085960  1.213293        1.443192   \n",
       "105309  HDESC8GU       0 -0.596457    -0.471887 -0.986656       -0.796202   \n",
       "105310  2PW4SFCA       0  0.613804    -0.471887  1.430189       -0.796202   \n",
       "105311  F2NOYPPZ       0 -1.134351    -1.846124 -0.800745       -0.796202   \n",
       "\n",
       "        Avg_Account_Balance  Is_Active  X2  X3  X4  Other  Salaried  \\\n",
       "0                 -0.648948          0   0   0   0      1         0   \n",
       "1                 -0.648948          0   1   0   0      1         0   \n",
       "2                 -0.648948          0   0   0   0      0         1   \n",
       "3                 -0.648948          0   0   0   0      1         0   \n",
       "4                 -0.648948          0   0   0   0      1         0   \n",
       "...                     ...        ...  ..  ..  ..    ...       ...   \n",
       "105307             3.673417          1   1   0   0      0         1   \n",
       "105308             0.431643          0   1   0   0      1         0   \n",
       "105309             0.431643          0   0   0   1      0         1   \n",
       "105310            -0.648948          1   0   1   0      1         0   \n",
       "105311            -0.648948          0   0   0   0      0         1   \n",
       "\n",
       "        Self_Employed  \n",
       "0                   0  \n",
       "1                   0  \n",
       "2                   0  \n",
       "3                   0  \n",
       "4                   0  \n",
       "...               ...  \n",
       "105307              0  \n",
       "105308              0  \n",
       "105309              0  \n",
       "105310              0  \n",
       "105311              0  \n",
       "\n",
       "[105312 rows x 14 columns]"
      ]
     },
     "execution_count": 915,
     "metadata": {},
     "output_type": "execute_result"
    }
   ],
   "source": [
    "test_data"
   ]
  },
  {
   "cell_type": "code",
   "execution_count": 916,
   "metadata": {},
   "outputs": [],
   "source": [
    "sub = pd.DataFrame()\n",
    "\n",
    "sub['ID'] = test_data['ID']\n",
    "test_data = test_data.drop(columns=['ID'])"
   ]
  },
  {
   "cell_type": "code",
   "execution_count": 917,
   "metadata": {},
   "outputs": [
    {
     "data": {
      "text/html": [
       "<div>\n",
       "<style scoped>\n",
       "    .dataframe tbody tr th:only-of-type {\n",
       "        vertical-align: middle;\n",
       "    }\n",
       "\n",
       "    .dataframe tbody tr th {\n",
       "        vertical-align: top;\n",
       "    }\n",
       "\n",
       "    .dataframe thead th {\n",
       "        text-align: right;\n",
       "    }\n",
       "</style>\n",
       "<table border=\"1\" class=\"dataframe\">\n",
       "  <thead>\n",
       "    <tr style=\"text-align: right;\">\n",
       "      <th></th>\n",
       "      <th>Gender</th>\n",
       "      <th>Age</th>\n",
       "      <th>Region_Code</th>\n",
       "      <th>Vintage</th>\n",
       "      <th>Credit_Product</th>\n",
       "      <th>Avg_Account_Balance</th>\n",
       "      <th>Is_Active</th>\n",
       "      <th>X2</th>\n",
       "      <th>X3</th>\n",
       "      <th>X4</th>\n",
       "      <th>Other</th>\n",
       "      <th>Salaried</th>\n",
       "      <th>Self_Employed</th>\n",
       "    </tr>\n",
       "  </thead>\n",
       "  <tbody>\n",
       "    <tr>\n",
       "      <th>0</th>\n",
       "      <td>0</td>\n",
       "      <td>-0.999878</td>\n",
       "      <td>-0.471887</td>\n",
       "      <td>-0.676804</td>\n",
       "      <td>1.443192</td>\n",
       "      <td>-0.648948</td>\n",
       "      <td>0</td>\n",
       "      <td>0</td>\n",
       "      <td>0</td>\n",
       "      <td>0</td>\n",
       "      <td>1</td>\n",
       "      <td>0</td>\n",
       "      <td>0</td>\n",
       "    </tr>\n",
       "    <tr>\n",
       "      <th>1</th>\n",
       "      <td>0</td>\n",
       "      <td>-0.058563</td>\n",
       "      <td>1.136611</td>\n",
       "      <td>0.066841</td>\n",
       "      <td>0.323495</td>\n",
       "      <td>-0.648948</td>\n",
       "      <td>0</td>\n",
       "      <td>1</td>\n",
       "      <td>0</td>\n",
       "      <td>0</td>\n",
       "      <td>1</td>\n",
       "      <td>0</td>\n",
       "      <td>0</td>\n",
       "    </tr>\n",
       "    <tr>\n",
       "      <th>2</th>\n",
       "      <td>0</td>\n",
       "      <td>-0.865404</td>\n",
       "      <td>-1.766499</td>\n",
       "      <td>-1.017641</td>\n",
       "      <td>-0.796202</td>\n",
       "      <td>-0.648948</td>\n",
       "      <td>0</td>\n",
       "      <td>0</td>\n",
       "      <td>0</td>\n",
       "      <td>0</td>\n",
       "      <td>0</td>\n",
       "      <td>1</td>\n",
       "      <td>0</td>\n",
       "    </tr>\n",
       "    <tr>\n",
       "      <th>3</th>\n",
       "      <td>0</td>\n",
       "      <td>-0.999878</td>\n",
       "      <td>-0.313296</td>\n",
       "      <td>-0.428922</td>\n",
       "      <td>-0.796202</td>\n",
       "      <td>-0.648948</td>\n",
       "      <td>0</td>\n",
       "      <td>0</td>\n",
       "      <td>0</td>\n",
       "      <td>0</td>\n",
       "      <td>1</td>\n",
       "      <td>0</td>\n",
       "      <td>0</td>\n",
       "    </tr>\n",
       "    <tr>\n",
       "      <th>4</th>\n",
       "      <td>1</td>\n",
       "      <td>-0.999878</td>\n",
       "      <td>-1.766499</td>\n",
       "      <td>-0.862715</td>\n",
       "      <td>-0.796202</td>\n",
       "      <td>-0.648948</td>\n",
       "      <td>0</td>\n",
       "      <td>0</td>\n",
       "      <td>0</td>\n",
       "      <td>0</td>\n",
       "      <td>1</td>\n",
       "      <td>0</td>\n",
       "      <td>0</td>\n",
       "    </tr>\n",
       "  </tbody>\n",
       "</table>\n",
       "</div>"
      ],
      "text/plain": [
       "   Gender       Age  Region_Code   Vintage  Credit_Product  \\\n",
       "0       0 -0.999878    -0.471887 -0.676804        1.443192   \n",
       "1       0 -0.058563     1.136611  0.066841        0.323495   \n",
       "2       0 -0.865404    -1.766499 -1.017641       -0.796202   \n",
       "3       0 -0.999878    -0.313296 -0.428922       -0.796202   \n",
       "4       1 -0.999878    -1.766499 -0.862715       -0.796202   \n",
       "\n",
       "   Avg_Account_Balance  Is_Active  X2  X3  X4  Other  Salaried  Self_Employed  \n",
       "0            -0.648948          0   0   0   0      1         0              0  \n",
       "1            -0.648948          0   1   0   0      1         0              0  \n",
       "2            -0.648948          0   0   0   0      0         1              0  \n",
       "3            -0.648948          0   0   0   0      1         0              0  \n",
       "4            -0.648948          0   0   0   0      1         0              0  "
      ]
     },
     "execution_count": 917,
     "metadata": {},
     "output_type": "execute_result"
    }
   ],
   "source": [
    "test_data.head()"
   ]
  },
  {
   "cell_type": "code",
   "execution_count": 918,
   "metadata": {},
   "outputs": [
    {
     "data": {
      "text/plain": [
       "Gender                 0\n",
       "Age                    0\n",
       "Region_Code            0\n",
       "Vintage                0\n",
       "Credit_Product         0\n",
       "Avg_Account_Balance    0\n",
       "Is_Active              0\n",
       "X2                     0\n",
       "X3                     0\n",
       "X4                     0\n",
       "Other                  0\n",
       "Salaried               0\n",
       "Self_Employed          0\n",
       "dtype: int64"
      ]
     },
     "execution_count": 918,
     "metadata": {},
     "output_type": "execute_result"
    }
   ],
   "source": [
    "test_data.isna().sum()"
   ]
  },
  {
   "cell_type": "code",
   "execution_count": 919,
   "metadata": {},
   "outputs": [],
   "source": [
    "f_test = test_data[['Gender', 'Age', 'Region_Code', 'Vintage', 'Credit_Product',\n",
    "       'Avg_Account_Balance', 'Is_Active', 'X2', 'X3', 'X4',\n",
    "       'Other', 'Salaried', 'Self_Employed']]"
   ]
  },
  {
   "cell_type": "code",
   "execution_count": 920,
   "metadata": {},
   "outputs": [],
   "source": [
    "test_pred = model.predict(f_test)"
   ]
  },
  {
   "cell_type": "code",
   "execution_count": 921,
   "metadata": {},
   "outputs": [
    {
     "data": {
      "text/html": [
       "<div>\n",
       "<style scoped>\n",
       "    .dataframe tbody tr th:only-of-type {\n",
       "        vertical-align: middle;\n",
       "    }\n",
       "\n",
       "    .dataframe tbody tr th {\n",
       "        vertical-align: top;\n",
       "    }\n",
       "\n",
       "    .dataframe thead th {\n",
       "        text-align: right;\n",
       "    }\n",
       "</style>\n",
       "<table border=\"1\" class=\"dataframe\">\n",
       "  <thead>\n",
       "    <tr style=\"text-align: right;\">\n",
       "      <th></th>\n",
       "      <th>ID</th>\n",
       "      <th>Is_Lead</th>\n",
       "    </tr>\n",
       "  </thead>\n",
       "  <tbody>\n",
       "    <tr>\n",
       "      <th>0</th>\n",
       "      <td>VBENBARO</td>\n",
       "      <td>0</td>\n",
       "    </tr>\n",
       "    <tr>\n",
       "      <th>1</th>\n",
       "      <td>CCMEWNKY</td>\n",
       "      <td>0</td>\n",
       "    </tr>\n",
       "    <tr>\n",
       "      <th>2</th>\n",
       "      <td>VK3KGA9M</td>\n",
       "      <td>0</td>\n",
       "    </tr>\n",
       "    <tr>\n",
       "      <th>3</th>\n",
       "      <td>TT8RPZVC</td>\n",
       "      <td>0</td>\n",
       "    </tr>\n",
       "    <tr>\n",
       "      <th>4</th>\n",
       "      <td>SHQZEYTZ</td>\n",
       "      <td>0</td>\n",
       "    </tr>\n",
       "    <tr>\n",
       "      <th>...</th>\n",
       "      <td>...</td>\n",
       "      <td>...</td>\n",
       "    </tr>\n",
       "    <tr>\n",
       "      <th>105307</th>\n",
       "      <td>DBENJOYI</td>\n",
       "      <td>0</td>\n",
       "    </tr>\n",
       "    <tr>\n",
       "      <th>105308</th>\n",
       "      <td>CWQ72DWS</td>\n",
       "      <td>0</td>\n",
       "    </tr>\n",
       "    <tr>\n",
       "      <th>105309</th>\n",
       "      <td>HDESC8GU</td>\n",
       "      <td>0</td>\n",
       "    </tr>\n",
       "    <tr>\n",
       "      <th>105310</th>\n",
       "      <td>2PW4SFCA</td>\n",
       "      <td>0</td>\n",
       "    </tr>\n",
       "    <tr>\n",
       "      <th>105311</th>\n",
       "      <td>F2NOYPPZ</td>\n",
       "      <td>0</td>\n",
       "    </tr>\n",
       "  </tbody>\n",
       "</table>\n",
       "<p>105312 rows × 2 columns</p>\n",
       "</div>"
      ],
      "text/plain": [
       "              ID  Is_Lead\n",
       "0       VBENBARO        0\n",
       "1       CCMEWNKY        0\n",
       "2       VK3KGA9M        0\n",
       "3       TT8RPZVC        0\n",
       "4       SHQZEYTZ        0\n",
       "...          ...      ...\n",
       "105307  DBENJOYI        0\n",
       "105308  CWQ72DWS        0\n",
       "105309  HDESC8GU        0\n",
       "105310  2PW4SFCA        0\n",
       "105311  F2NOYPPZ        0\n",
       "\n",
       "[105312 rows x 2 columns]"
      ]
     },
     "execution_count": 921,
     "metadata": {},
     "output_type": "execute_result"
    }
   ],
   "source": [
    "sample_sub = pd.read_csv('sample_submission_eyYijxG.csv')\n",
    "sample_sub"
   ]
  },
  {
   "cell_type": "code",
   "execution_count": 922,
   "metadata": {},
   "outputs": [],
   "source": [
    "sub['Is_Lead'] = test_pred"
   ]
  },
  {
   "cell_type": "code",
   "execution_count": 923,
   "metadata": {},
   "outputs": [
    {
     "data": {
      "text/html": [
       "<div>\n",
       "<style scoped>\n",
       "    .dataframe tbody tr th:only-of-type {\n",
       "        vertical-align: middle;\n",
       "    }\n",
       "\n",
       "    .dataframe tbody tr th {\n",
       "        vertical-align: top;\n",
       "    }\n",
       "\n",
       "    .dataframe thead th {\n",
       "        text-align: right;\n",
       "    }\n",
       "</style>\n",
       "<table border=\"1\" class=\"dataframe\">\n",
       "  <thead>\n",
       "    <tr style=\"text-align: right;\">\n",
       "      <th></th>\n",
       "      <th>ID</th>\n",
       "      <th>Is_Lead</th>\n",
       "    </tr>\n",
       "  </thead>\n",
       "  <tbody>\n",
       "    <tr>\n",
       "      <th>0</th>\n",
       "      <td>VBENBARO</td>\n",
       "      <td>0.085153</td>\n",
       "    </tr>\n",
       "    <tr>\n",
       "      <th>1</th>\n",
       "      <td>CCMEWNKY</td>\n",
       "      <td>0.911862</td>\n",
       "    </tr>\n",
       "    <tr>\n",
       "      <th>2</th>\n",
       "      <td>VK3KGA9M</td>\n",
       "      <td>0.063180</td>\n",
       "    </tr>\n",
       "    <tr>\n",
       "      <th>3</th>\n",
       "      <td>TT8RPZVC</td>\n",
       "      <td>0.030218</td>\n",
       "    </tr>\n",
       "    <tr>\n",
       "      <th>4</th>\n",
       "      <td>SHQZEYTZ</td>\n",
       "      <td>0.029278</td>\n",
       "    </tr>\n",
       "    <tr>\n",
       "      <th>...</th>\n",
       "      <td>...</td>\n",
       "      <td>...</td>\n",
       "    </tr>\n",
       "    <tr>\n",
       "      <th>105307</th>\n",
       "      <td>DBENJOYI</td>\n",
       "      <td>0.968692</td>\n",
       "    </tr>\n",
       "    <tr>\n",
       "      <th>105308</th>\n",
       "      <td>CWQ72DWS</td>\n",
       "      <td>0.555949</td>\n",
       "    </tr>\n",
       "    <tr>\n",
       "      <th>105309</th>\n",
       "      <td>HDESC8GU</td>\n",
       "      <td>0.092530</td>\n",
       "    </tr>\n",
       "    <tr>\n",
       "      <th>105310</th>\n",
       "      <td>2PW4SFCA</td>\n",
       "      <td>0.286374</td>\n",
       "    </tr>\n",
       "    <tr>\n",
       "      <th>105311</th>\n",
       "      <td>F2NOYPPZ</td>\n",
       "      <td>0.055892</td>\n",
       "    </tr>\n",
       "  </tbody>\n",
       "</table>\n",
       "<p>105312 rows × 2 columns</p>\n",
       "</div>"
      ],
      "text/plain": [
       "              ID   Is_Lead\n",
       "0       VBENBARO  0.085153\n",
       "1       CCMEWNKY  0.911862\n",
       "2       VK3KGA9M  0.063180\n",
       "3       TT8RPZVC  0.030218\n",
       "4       SHQZEYTZ  0.029278\n",
       "...          ...       ...\n",
       "105307  DBENJOYI  0.968692\n",
       "105308  CWQ72DWS  0.555949\n",
       "105309  HDESC8GU  0.092530\n",
       "105310  2PW4SFCA  0.286374\n",
       "105311  F2NOYPPZ  0.055892\n",
       "\n",
       "[105312 rows x 2 columns]"
      ]
     },
     "execution_count": 923,
     "metadata": {},
     "output_type": "execute_result"
    }
   ],
   "source": [
    "sub"
   ]
  },
  {
   "cell_type": "code",
   "execution_count": 924,
   "metadata": {},
   "outputs": [],
   "source": [
    "sub.to_csv('Prediction_ANN18.csv',index=False)"
   ]
  },
  {
   "cell_type": "code",
   "execution_count": null,
   "metadata": {},
   "outputs": [],
   "source": []
  }
 ],
 "metadata": {
  "kernelspec": {
   "display_name": "Python 3",
   "language": "python",
   "name": "python3"
  },
  "language_info": {
   "codemirror_mode": {
    "name": "ipython",
    "version": 3
   },
   "file_extension": ".py",
   "mimetype": "text/x-python",
   "name": "python",
   "nbconvert_exporter": "python",
   "pygments_lexer": "ipython3",
   "version": "3.8.5"
  }
 },
 "nbformat": 4,
 "nbformat_minor": 4
}
