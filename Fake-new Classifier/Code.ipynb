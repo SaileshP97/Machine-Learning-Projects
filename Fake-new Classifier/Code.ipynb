{
 "cells": [
  {
   "cell_type": "code",
   "execution_count": 1,
   "id": "ab7ad865",
   "metadata": {},
   "outputs": [],
   "source": [
    "import pandas as pd\n",
    "import numpy as np"
   ]
  },
  {
   "cell_type": "code",
   "execution_count": 2,
   "id": "eb511304",
   "metadata": {},
   "outputs": [],
   "source": [
    "train_data = pd.read_csv(\"fake-news/train.csv\")\n",
    "test_data = pd.read_csv(\"fake-news/test.csv\")"
   ]
  },
  {
   "cell_type": "code",
   "execution_count": 3,
   "id": "ca3492de",
   "metadata": {},
   "outputs": [
    {
     "data": {
      "text/plain": [
       "id           0\n",
       "title      558\n",
       "author    1957\n",
       "text        39\n",
       "label        0\n",
       "dtype: int64"
      ]
     },
     "execution_count": 3,
     "metadata": {},
     "output_type": "execute_result"
    }
   ],
   "source": [
    "train_data.isna().sum() "
   ]
  },
  {
   "cell_type": "markdown",
   "id": "e6a357b3",
   "metadata": {},
   "source": [
    "### Processing data"
   ]
  },
  {
   "cell_type": "code",
   "execution_count": 4,
   "id": "ff4295bd",
   "metadata": {},
   "outputs": [],
   "source": [
    "train_data = train_data.dropna()"
   ]
  },
  {
   "cell_type": "code",
   "execution_count": 5,
   "id": "ca39d729",
   "metadata": {},
   "outputs": [],
   "source": [
    "y = train_data[['label']].reset_index(drop=True)\n",
    "x = train_data.drop('label', axis=1).reset_index(drop=True)"
   ]
  },
  {
   "cell_type": "code",
   "execution_count": 6,
   "id": "092057f9",
   "metadata": {},
   "outputs": [],
   "source": [
    "from sklearn.feature_extraction.text import CountVectorizer, TfidfVectorizer, HashingVectorizer\n",
    "from nltk.tokenize import word_tokenize\n",
    "from nltk.corpus import stopwords\n",
    "import re\n",
    "from nltk.stem.porter import PorterStemmer"
   ]
  },
  {
   "cell_type": "code",
   "execution_count": 7,
   "id": "503ee760",
   "metadata": {},
   "outputs": [],
   "source": [
    "ps = PorterStemmer()\n",
    "\n",
    "corpus = []\n",
    "for sent in x['title']:\n",
    "    sent = re.sub(r\"[^a-zA-Z]\",\" \",sent)\n",
    "    sent = word_tokenize(sent)\n",
    "    sent = [ps.stem(word.lower()) for word in sent if not word in set(stopwords.words('english'))]\n",
    "    sent = \" \".join(sent)\n",
    "    corpus.append(sent)"
   ]
  },
  {
   "cell_type": "markdown",
   "id": "c54ad157",
   "metadata": {},
   "source": [
    "### Coverting data to vector form"
   ]
  },
  {
   "cell_type": "code",
   "execution_count": 8,
   "id": "c63df77f",
   "metadata": {},
   "outputs": [
    {
     "name": "stdout",
     "output_type": "stream",
     "text": [
      "['abandon', 'abc', 'abduct', 'abe', 'abedin', 'abl', 'abort', 'about', 'about elect', 'about elect violenc', 'about emf', 'about emf damag', 'about hillari', 'about it', 'about the', 'about to', 'about trump', 'abov', 'abroad', 'absolut']\n"
     ]
    }
   ],
   "source": [
    "cv = CountVectorizer(max_features=5000,ngram_range=(1,3))\n",
    "corpus = cv.fit_transform(corpus).toarray()\n",
    "print(cv.get_feature_names()[:20])"
   ]
  },
  {
   "cell_type": "markdown",
   "id": "610bdbff",
   "metadata": {},
   "source": [
    "### Splitting the data"
   ]
  },
  {
   "cell_type": "code",
   "execution_count": 9,
   "id": "150c305c",
   "metadata": {},
   "outputs": [],
   "source": [
    "from sklearn.model_selection import train_test_split\n",
    "\n",
    "x_train, x_test, y_train, y_test = train_test_split(corpus, y, test_size=0.2)"
   ]
  },
  {
   "cell_type": "markdown",
   "id": "a3523f54",
   "metadata": {},
   "source": [
    "### Model"
   ]
  },
  {
   "cell_type": "code",
   "execution_count": 10,
   "id": "d0fa494b",
   "metadata": {},
   "outputs": [
    {
     "name": "stderr",
     "output_type": "stream",
     "text": [
      "/opt/anaconda3/envs/ML/lib/python3.9/site-packages/sklearn/utils/validation.py:63: DataConversionWarning: A column-vector y was passed when a 1d array was expected. Please change the shape of y to (n_samples, ), for example using ravel().\n",
      "  return f(*args, **kwargs)\n"
     ]
    },
    {
     "name": "stdout",
     "output_type": "stream",
     "text": [
      "0.9009840098400985\n",
      "              precision    recall  f1-score   support\n",
      "\n",
      "           0       0.94      0.90      0.92      2075\n",
      "           1       0.88      0.93      0.90      1582\n",
      "\n",
      "    accuracy                           0.91      3657\n",
      "   macro avg       0.91      0.91      0.91      3657\n",
      "weighted avg       0.91      0.91      0.91      3657\n",
      "\n"
     ]
    }
   ],
   "source": [
    "from sklearn.naive_bayes import MultinomialNB\n",
    "from sklearn.metrics import classification_report, f1_score\n",
    "\n",
    "modelNB = MultinomialNB()\n",
    "modelNB.fit(x_train, y_train)\n",
    "\n",
    "y_pred = modelNB.predict(x_test)\n",
    "\n",
    "print(f1_score(y_test, y_pred))\n",
    "print(classification_report(y_test, y_pred))"
   ]
  },
  {
   "cell_type": "code",
   "execution_count": 11,
   "id": "01dfa30c",
   "metadata": {},
   "outputs": [
    {
     "name": "stderr",
     "output_type": "stream",
     "text": [
      "/opt/anaconda3/envs/ML/lib/python3.9/site-packages/sklearn/utils/validation.py:63: DataConversionWarning: A column-vector y was passed when a 1d array was expected. Please change the shape of y to (n_samples, ), for example using ravel().\n",
      "  return f(*args, **kwargs)\n"
     ]
    },
    {
     "name": "stdout",
     "output_type": "stream",
     "text": [
      "0.9170638703527169\n",
      "              precision    recall  f1-score   support\n",
      "\n",
      "           0       0.93      0.94      0.94      2075\n",
      "           1       0.92      0.91      0.92      1582\n",
      "\n",
      "    accuracy                           0.93      3657\n",
      "   macro avg       0.93      0.93      0.93      3657\n",
      "weighted avg       0.93      0.93      0.93      3657\n",
      "\n"
     ]
    }
   ],
   "source": [
    "from sklearn.linear_model import PassiveAggressiveClassifier\n",
    "linear_clf = PassiveAggressiveClassifier(max_iter=1000)\n",
    "linear_clf.fit(x_train, y_train)\n",
    "\n",
    "y_pred = linear_clf.predict(x_test)\n",
    "\n",
    "print(f1_score(y_test, y_pred))\n",
    "print(classification_report(y_test, y_pred))"
   ]
  },
  {
   "cell_type": "code",
   "execution_count": 12,
   "id": "6c9eed71",
   "metadata": {},
   "outputs": [
    {
     "name": "stderr",
     "output_type": "stream",
     "text": [
      "/opt/anaconda3/envs/ML/lib/python3.9/site-packages/sklearn/utils/validation.py:63: DataConversionWarning: A column-vector y was passed when a 1d array was expected. Please change the shape of y to (n_samples, ), for example using ravel().\n",
      "  return f(*args, **kwargs)\n"
     ]
    },
    {
     "name": "stdout",
     "output_type": "stream",
     "text": [
      "0.9254901960784315\n",
      "              precision    recall  f1-score   support\n",
      "\n",
      "           0       0.98      0.90      0.94      2075\n",
      "           1       0.89      0.97      0.93      1582\n",
      "\n",
      "    accuracy                           0.93      3657\n",
      "   macro avg       0.93      0.94      0.93      3657\n",
      "weighted avg       0.94      0.93      0.93      3657\n",
      "\n"
     ]
    }
   ],
   "source": [
    "from sklearn.linear_model import RidgeClassifier\n",
    "modelR = RidgeClassifier()\n",
    "modelR.fit(x_train, y_train)\n",
    "\n",
    "y_pred = modelR.predict(x_test)\n",
    "\n",
    "print(f1_score(y_test, y_pred))\n",
    "print(classification_report(y_test, y_pred))\n"
   ]
  },
  {
   "cell_type": "code",
   "execution_count": 13,
   "id": "6f0df179",
   "metadata": {},
   "outputs": [
    {
     "name": "stderr",
     "output_type": "stream",
     "text": [
      "/opt/anaconda3/envs/ML/lib/python3.9/site-packages/sklearn/utils/validation.py:63: DataConversionWarning: A column-vector y was passed when a 1d array was expected. Please change the shape of y to (n_samples, ), for example using ravel().\n",
      "  return f(*args, **kwargs)\n"
     ]
    },
    {
     "name": "stdout",
     "output_type": "stream",
     "text": [
      "0.9308527131782944\n",
      "              precision    recall  f1-score   support\n",
      "\n",
      "           0       0.96      0.93      0.95      2075\n",
      "           1       0.91      0.95      0.93      1582\n",
      "\n",
      "    accuracy                           0.94      3657\n",
      "   macro avg       0.94      0.94      0.94      3657\n",
      "weighted avg       0.94      0.94      0.94      3657\n",
      "\n"
     ]
    }
   ],
   "source": [
    "from sklearn.linear_model import SGDClassifier\n",
    "modelSGD = SGDClassifier()\n",
    "modelSGD.fit(x_train, y_train)\n",
    "\n",
    "y_pred = modelSGD.predict(x_test)\n",
    "\n",
    "print(f1_score(y_test, y_pred))\n",
    "print(classification_report(y_test, y_pred))"
   ]
  },
  {
   "cell_type": "code",
   "execution_count": null,
   "id": "25653955",
   "metadata": {},
   "outputs": [],
   "source": []
  }
 ],
 "metadata": {
  "kernelspec": {
   "display_name": "Python 3",
   "language": "python",
   "name": "python3"
  },
  "language_info": {
   "codemirror_mode": {
    "name": "ipython",
    "version": 3
   },
   "file_extension": ".py",
   "mimetype": "text/x-python",
   "name": "python",
   "nbconvert_exporter": "python",
   "pygments_lexer": "ipython3",
   "version": "3.9.1"
  }
 },
 "nbformat": 4,
 "nbformat_minor": 5
}
