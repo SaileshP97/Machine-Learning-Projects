{
 "cells": [
  {
   "cell_type": "code",
   "execution_count": 2,
   "id": "4fd7ac47",
   "metadata": {},
   "outputs": [],
   "source": [
    "import pandas as pd\n",
    "import numpy as np"
   ]
  },
  {
   "cell_type": "code",
   "execution_count": 3,
   "id": "f7cbdb7a",
   "metadata": {},
   "outputs": [],
   "source": [
    "train_data = pd.read_csv(\"fake-news/train.csv\")\n",
    "test_data = pd.read_csv(\"fake-news/test.csv\")"
   ]
  },
  {
   "cell_type": "code",
   "execution_count": 4,
   "id": "cb582c32",
   "metadata": {},
   "outputs": [
    {
     "data": {
      "text/plain": [
       "id           0\n",
       "title      558\n",
       "author    1957\n",
       "text        39\n",
       "label        0\n",
       "dtype: int64"
      ]
     },
     "execution_count": 4,
     "metadata": {},
     "output_type": "execute_result"
    }
   ],
   "source": [
    "train_data.isna().sum() "
   ]
  },
  {
   "cell_type": "markdown",
   "id": "bec6a69d",
   "metadata": {},
   "source": [
    "### Processing data"
   ]
  },
  {
   "cell_type": "code",
   "execution_count": 5,
   "id": "19b0ef9c",
   "metadata": {},
   "outputs": [],
   "source": [
    "train_data = train_data.dropna()"
   ]
  },
  {
   "cell_type": "code",
   "execution_count": 6,
   "id": "a9937a7d",
   "metadata": {},
   "outputs": [],
   "source": [
    "y = train_data[['label']].reset_index(drop=True)\n",
    "x = train_data.drop('label', axis=1).reset_index(drop=True)"
   ]
  },
  {
   "cell_type": "code",
   "execution_count": 7,
   "id": "f5f2b161",
   "metadata": {},
   "outputs": [],
   "source": [
    "from sklearn.feature_extraction.text import CountVectorizer, TfidfVectorizer, HashingVectorizer\n",
    "from nltk.tokenize import word_tokenize\n",
    "from nltk.corpus import stopwords\n",
    "import re\n",
    "from nltk.stem.porter import PorterStemmer"
   ]
  },
  {
   "cell_type": "code",
   "execution_count": 8,
   "id": "f5492b44",
   "metadata": {},
   "outputs": [],
   "source": [
    "ps = PorterStemmer()\n",
    "\n",
    "corpus = []\n",
    "for sent in x['title']:\n",
    "    sent = re.sub(r\"[^a-zA-Z]\",\" \",sent)\n",
    "    sent = word_tokenize(sent)\n",
    "    sent = [ps.stem(word.lower()) for word in sent if not word in set(stopwords.words('english'))]\n",
    "    sent = \" \".join(sent)\n",
    "    corpus.append(sent)"
   ]
  },
  {
   "cell_type": "markdown",
   "id": "5e7118b3",
   "metadata": {},
   "source": [
    "### Coverting data to vector form"
   ]
  },
  {
   "cell_type": "code",
   "execution_count": 9,
   "id": "cb867898",
   "metadata": {},
   "outputs": [
    {
     "name": "stdout",
     "output_type": "stream",
     "text": [
      "['abandon', 'abc', 'abduct', 'abe', 'abedin', 'abl', 'abort', 'about', 'about elect', 'about elect violenc', 'about emf', 'about emf damag', 'about hillari', 'about it', 'about the', 'about to', 'about trump', 'abov', 'abroad', 'absolut']\n"
     ]
    }
   ],
   "source": [
    "cv = CountVectorizer(max_features=5000,ngram_range=(1,3))\n",
    "corpus_cv = cv.fit_transform(corpus).toarray()\n",
    "print(cv.get_feature_names()[:20])"
   ]
  },
  {
   "cell_type": "code",
   "execution_count": 10,
   "id": "5245faac",
   "metadata": {},
   "outputs": [],
   "source": [
    "tfidf = TfidfVectorizer(max_features=5000,ngram_range=(1,3))\n",
    "corpus_tfidf = tfidf.fit_transform(corpus).toarray()"
   ]
  },
  {
   "cell_type": "code",
   "execution_count": null,
   "id": "de9b4e00",
   "metadata": {},
   "outputs": [],
   "source": []
  },
  {
   "cell_type": "markdown",
   "id": "e2b710c2",
   "metadata": {},
   "source": [
    "### Splitting the data"
   ]
  },
  {
   "cell_type": "code",
   "execution_count": 29,
   "id": "2c553ca9",
   "metadata": {},
   "outputs": [],
   "source": [
    "from sklearn.model_selection import train_test_split\n",
    "\n",
    "x_train_cv, x_test_cv, y_train_cv, y_test_cv = train_test_split(corpus_cv, y, test_size=0.2)\n",
    "x_train_tfidf, x_test_tfidf, y_train_tfidf, y_test_tfidf = train_test_split(corpus_tfidf, y, test_size=0.2)"
   ]
  },
  {
   "cell_type": "markdown",
   "id": "0fadbc86",
   "metadata": {},
   "source": [
    "### Model"
   ]
  },
  {
   "cell_type": "code",
   "execution_count": 30,
   "id": "8aa3a140",
   "metadata": {},
   "outputs": [
    {
     "name": "stderr",
     "output_type": "stream",
     "text": [
      "/opt/anaconda3/envs/ML/lib/python3.9/site-packages/sklearn/utils/validation.py:63: DataConversionWarning: A column-vector y was passed when a 1d array was expected. Please change the shape of y to (n_samples, ), for example using ravel().\n",
      "  return f(*args, **kwargs)\n"
     ]
    },
    {
     "name": "stdout",
     "output_type": "stream",
     "text": [
      "0.8995739500912964\n",
      "              precision    recall  f1-score   support\n",
      "\n",
      "           0       0.94      0.90      0.92      2056\n",
      "           1       0.88      0.92      0.90      1601\n",
      "\n",
      "    accuracy                           0.91      3657\n",
      "   macro avg       0.91      0.91      0.91      3657\n",
      "weighted avg       0.91      0.91      0.91      3657\n",
      "\n"
     ]
    }
   ],
   "source": [
    "from sklearn.naive_bayes import MultinomialNB\n",
    "from sklearn.metrics import classification_report, f1_score\n",
    "\n",
    "modelNB = MultinomialNB()\n",
    "modelNB.fit(x_train_cv, y_train_cv)\n",
    "\n",
    "y_pred = modelNB.predict(x_test_cv)\n",
    "\n",
    "print(f1_score(y_test_cv, y_pred))\n",
    "print(classification_report(y_test_cv, y_pred))"
   ]
  },
  {
   "cell_type": "code",
   "execution_count": 31,
   "id": "6dbac771",
   "metadata": {},
   "outputs": [
    {
     "name": "stderr",
     "output_type": "stream",
     "text": [
      "/opt/anaconda3/envs/ML/lib/python3.9/site-packages/sklearn/utils/validation.py:63: DataConversionWarning: A column-vector y was passed when a 1d array was expected. Please change the shape of y to (n_samples, ), for example using ravel().\n",
      "  return f(*args, **kwargs)\n"
     ]
    },
    {
     "name": "stdout",
     "output_type": "stream",
     "text": [
      "0.9075524913820119\n",
      "              precision    recall  f1-score   support\n",
      "\n",
      "           0       0.93      0.93      0.93      2056\n",
      "           1       0.91      0.90      0.91      1601\n",
      "\n",
      "    accuracy                           0.92      3657\n",
      "   macro avg       0.92      0.92      0.92      3657\n",
      "weighted avg       0.92      0.92      0.92      3657\n",
      "\n"
     ]
    }
   ],
   "source": [
    "from sklearn.linear_model import PassiveAggressiveClassifier\n",
    "linear_clf = PassiveAggressiveClassifier(max_iter=1000)\n",
    "linear_clf.fit(x_train_cv, y_train_cv)\n",
    "\n",
    "y_pred = linear_clf.predict(x_test_cv)\n",
    "\n",
    "print(f1_score(y_test_cv, y_pred))\n",
    "print(classification_report(y_test_cv, y_pred))"
   ]
  },
  {
   "cell_type": "code",
   "execution_count": 32,
   "id": "4c5b1873",
   "metadata": {},
   "outputs": [
    {
     "name": "stderr",
     "output_type": "stream",
     "text": [
      "/opt/anaconda3/envs/ML/lib/python3.9/site-packages/sklearn/utils/validation.py:63: DataConversionWarning: A column-vector y was passed when a 1d array was expected. Please change the shape of y to (n_samples, ), for example using ravel().\n",
      "  return f(*args, **kwargs)\n"
     ]
    },
    {
     "name": "stdout",
     "output_type": "stream",
     "text": [
      "0.9282725642558278\n",
      "              precision    recall  f1-score   support\n",
      "\n",
      "           0       0.97      0.91      0.94      2056\n",
      "           1       0.89      0.97      0.93      1601\n",
      "\n",
      "    accuracy                           0.93      3657\n",
      "   macro avg       0.93      0.94      0.93      3657\n",
      "weighted avg       0.94      0.93      0.93      3657\n",
      "\n"
     ]
    }
   ],
   "source": [
    "from sklearn.linear_model import RidgeClassifier\n",
    "modelR = RidgeClassifier()\n",
    "modelR.fit(x_train_cv, y_train_cv)\n",
    "\n",
    "y_pred = modelR.predict(x_test_cv)\n",
    "\n",
    "print(f1_score(y_test_cv, y_pred))\n",
    "print(classification_report(y_test_cv, y_pred))\n"
   ]
  },
  {
   "cell_type": "code",
   "execution_count": 33,
   "id": "d5adacfc",
   "metadata": {},
   "outputs": [
    {
     "name": "stderr",
     "output_type": "stream",
     "text": [
      "/opt/anaconda3/envs/ML/lib/python3.9/site-packages/sklearn/utils/validation.py:63: DataConversionWarning: A column-vector y was passed when a 1d array was expected. Please change the shape of y to (n_samples, ), for example using ravel().\n",
      "  return f(*args, **kwargs)\n"
     ]
    },
    {
     "name": "stdout",
     "output_type": "stream",
     "text": [
      "0.9275184275184275\n",
      "              precision    recall  f1-score   support\n",
      "\n",
      "           0       0.95      0.93      0.94      2056\n",
      "           1       0.91      0.94      0.93      1601\n",
      "\n",
      "    accuracy                           0.94      3657\n",
      "   macro avg       0.93      0.94      0.93      3657\n",
      "weighted avg       0.94      0.94      0.94      3657\n",
      "\n"
     ]
    }
   ],
   "source": [
    "from sklearn.linear_model import SGDClassifier\n",
    "modelSGD = SGDClassifier()\n",
    "modelSGD.fit(x_train_cv, y_train_cv)\n",
    "\n",
    "y_pred = modelSGD.predict(x_test_cv)\n",
    "\n",
    "print(f1_score(y_test_cv, y_pred))\n",
    "print(classification_report(y_test_cv, y_pred))"
   ]
  },
  {
   "cell_type": "code",
   "execution_count": 35,
   "id": "75341521",
   "metadata": {},
   "outputs": [
    {
     "name": "stderr",
     "output_type": "stream",
     "text": [
      "/opt/anaconda3/envs/ML/lib/python3.9/site-packages/sklearn/utils/validation.py:63: DataConversionWarning: A column-vector y was passed when a 1d array was expected. Please change the shape of y to (n_samples, ), for example using ravel().\n",
      "  return f(*args, **kwargs)\n"
     ]
    },
    {
     "name": "stdout",
     "output_type": "stream",
     "text": [
      "0.9262270400481782\n",
      "              precision    recall  f1-score   support\n",
      "\n",
      "           0       0.98      0.90      0.94      2082\n",
      "           1       0.88      0.98      0.93      1575\n",
      "\n",
      "    accuracy                           0.93      3657\n",
      "   macro avg       0.93      0.94      0.93      3657\n",
      "weighted avg       0.94      0.93      0.93      3657\n",
      "\n"
     ]
    }
   ],
   "source": [
    "from sklearn.linear_model import SGDClassifier\n",
    "modelSGD = SGDClassifier()\n",
    "modelSGD.fit(x_train_tfidf, y_train_tfidf)\n",
    "\n",
    "y_pred = modelSGD.predict(x_test_tfidf)\n",
    "\n",
    "print(f1_score(y_test_tfidf, y_pred))\n",
    "print(classification_report(y_test_tfidf, y_pred))"
   ]
  },
  {
   "cell_type": "code",
   "execution_count": null,
   "id": "18eeb31e",
   "metadata": {},
   "outputs": [],
   "source": []
  }
 ],
 "metadata": {
  "kernelspec": {
   "display_name": "Python 3",
   "language": "python",
   "name": "python3"
  },
  "language_info": {
   "codemirror_mode": {
    "name": "ipython",
    "version": 3
   },
   "file_extension": ".py",
   "mimetype": "text/x-python",
   "name": "python",
   "nbconvert_exporter": "python",
   "pygments_lexer": "ipython3",
   "version": "3.9.1"
  }
 },
 "nbformat": 4,
 "nbformat_minor": 5
}
