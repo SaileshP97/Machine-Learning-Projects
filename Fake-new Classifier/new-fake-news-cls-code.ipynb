{
 "cells": [
  {
   "cell_type": "code",
   "execution_count": 2,
   "metadata": {},
   "outputs": [],
   "source": [
    "import pandas as pd\n",
    "import numpy as np\n",
    "from sklearn.metrics import classification_report, f1_score"
   ]
  },
  {
   "cell_type": "code",
   "execution_count": 3,
   "metadata": {
    "execution": {
     "iopub.execute_input": "2021-12-11T17:58:10.531486Z",
     "iopub.status.busy": "2021-12-11T17:58:10.530610Z",
     "iopub.status.idle": "2021-12-11T17:58:11.616702Z",
     "shell.execute_reply": "2021-12-11T17:58:11.615942Z",
     "shell.execute_reply.started": "2021-12-11T17:58:10.531436Z"
    }
   },
   "outputs": [],
   "source": [
    "train_data = pd.read_csv(\"fake-news/train.csv\")"
   ]
  },
  {
   "cell_type": "code",
   "execution_count": 4,
   "metadata": {
    "execution": {
     "iopub.execute_input": "2021-12-11T17:58:11.618350Z",
     "iopub.status.busy": "2021-12-11T17:58:11.618097Z",
     "iopub.status.idle": "2021-12-11T17:58:11.633874Z",
     "shell.execute_reply": "2021-12-11T17:58:11.633145Z",
     "shell.execute_reply.started": "2021-12-11T17:58:11.618316Z"
    }
   },
   "outputs": [
    {
     "data": {
      "text/plain": [
       "id           0\n",
       "title      558\n",
       "author    1957\n",
       "text        39\n",
       "label        0\n",
       "dtype: int64"
      ]
     },
     "execution_count": 4,
     "metadata": {},
     "output_type": "execute_result"
    }
   ],
   "source": [
    "train_data.isna().sum() "
   ]
  },
  {
   "cell_type": "markdown",
   "metadata": {},
   "source": [
    "### Processing data"
   ]
  },
  {
   "cell_type": "code",
   "execution_count": 5,
   "metadata": {
    "execution": {
     "iopub.execute_input": "2021-12-11T17:58:12.199989Z",
     "iopub.status.busy": "2021-12-11T17:58:12.199477Z",
     "iopub.status.idle": "2021-12-11T17:58:12.218034Z",
     "shell.execute_reply": "2021-12-11T17:58:12.217317Z",
     "shell.execute_reply.started": "2021-12-11T17:58:12.199952Z"
    }
   },
   "outputs": [],
   "source": [
    "train_data = train_data.dropna()"
   ]
  },
  {
   "cell_type": "code",
   "execution_count": 6,
   "metadata": {
    "execution": {
     "iopub.execute_input": "2021-12-11T17:58:34.240271Z",
     "iopub.status.busy": "2021-12-11T17:58:34.240000Z",
     "iopub.status.idle": "2021-12-11T17:58:34.252623Z",
     "shell.execute_reply": "2021-12-11T17:58:34.251841Z",
     "shell.execute_reply.started": "2021-12-11T17:58:34.240229Z"
    }
   },
   "outputs": [],
   "source": [
    "y = train_data[['label']].reset_index(drop=True)\n",
    "x = train_data.drop('label', axis=1).reset_index(drop=True)"
   ]
  },
  {
   "cell_type": "code",
   "execution_count": 7,
   "metadata": {
    "execution": {
     "iopub.execute_input": "2021-12-11T17:58:35.937755Z",
     "iopub.status.busy": "2021-12-11T17:58:35.937174Z",
     "iopub.status.idle": "2021-12-11T17:58:35.948054Z",
     "shell.execute_reply": "2021-12-11T17:58:35.947377Z",
     "shell.execute_reply.started": "2021-12-11T17:58:35.937718Z"
    }
   },
   "outputs": [],
   "source": [
    "messages =x.copy()"
   ]
  },
  {
   "cell_type": "code",
   "execution_count": 8,
   "metadata": {
    "execution": {
     "iopub.execute_input": "2021-12-11T17:58:36.268987Z",
     "iopub.status.busy": "2021-12-11T17:58:36.268384Z",
     "iopub.status.idle": "2021-12-11T17:58:36.273712Z",
     "shell.execute_reply": "2021-12-11T17:58:36.272863Z",
     "shell.execute_reply.started": "2021-12-11T17:58:36.268952Z"
    }
   },
   "outputs": [],
   "source": [
    "messages.reset_index(inplace=True)"
   ]
  },
  {
   "cell_type": "code",
   "execution_count": 9,
   "metadata": {
    "execution": {
     "iopub.execute_input": "2021-12-11T17:58:36.634922Z",
     "iopub.status.busy": "2021-12-11T17:58:36.634463Z",
     "iopub.status.idle": "2021-12-11T17:58:36.639661Z",
     "shell.execute_reply": "2021-12-11T17:58:36.638934Z",
     "shell.execute_reply.started": "2021-12-11T17:58:36.634886Z"
    }
   },
   "outputs": [],
   "source": [
    "from sklearn.feature_extraction.text import CountVectorizer, TfidfVectorizer, HashingVectorizer\n",
    "from nltk.tokenize import word_tokenize\n",
    "from nltk.corpus import stopwords\n",
    "import re\n",
    "from nltk.stem.porter import PorterStemmer"
   ]
  },
  {
   "cell_type": "code",
   "execution_count": 11,
   "metadata": {
    "execution": {
     "iopub.execute_input": "2021-12-11T17:58:37.036537Z",
     "iopub.status.busy": "2021-12-11T17:58:37.035906Z",
     "iopub.status.idle": "2021-12-11T17:59:16.327566Z",
     "shell.execute_reply": "2021-12-11T17:59:16.326792Z",
     "shell.execute_reply.started": "2021-12-11T17:58:37.036499Z"
    }
   },
   "outputs": [],
   "source": [
    "ps = PorterStemmer()\n",
    "corpus = []\n",
    "for sent in x['title']:\n",
    "    sent = re.sub(r\"[^a-zA-Z]\",\" \",sent)\n",
    "    sent = word_tokenize(sent)\n",
    "    sent = [ps.stem(word.lower()) for word in sent if not word in set(stopwords.words('english'))]\n",
    "    sent = \" \".join(sent)\n",
    "    corpus.append(sent)"
   ]
  },
  {
   "cell_type": "code",
   "execution_count": 87,
   "metadata": {
    "execution": {
     "iopub.execute_input": "2021-12-11T17:59:16.329398Z",
     "iopub.status.busy": "2021-12-11T17:59:16.329131Z",
     "iopub.status.idle": "2021-12-11T17:59:16.334197Z",
     "shell.execute_reply": "2021-12-11T17:59:16.333541Z",
     "shell.execute_reply.started": "2021-12-11T17:59:16.329364Z"
    }
   },
   "outputs": [],
   "source": []
  },
  {
   "cell_type": "markdown",
   "metadata": {},
   "source": [
    "### Coverting data to vector form"
   ]
  },
  {
   "cell_type": "code",
   "execution_count": 22,
   "metadata": {
    "execution": {
     "iopub.execute_input": "2021-12-11T13:48:17.08528Z",
     "iopub.status.busy": "2021-12-11T13:48:17.084944Z",
     "iopub.status.idle": "2021-12-11T13:48:18.706719Z",
     "shell.execute_reply": "2021-12-11T13:48:18.705738Z",
     "shell.execute_reply.started": "2021-12-11T13:48:17.085248Z"
    }
   },
   "outputs": [
    {
     "name": "stdout",
     "output_type": "stream",
     "text": [
      "['abandon', 'abc', 'abduct', 'abe', 'abedin', 'abl', 'abort', 'about', 'about elect', 'about elect violenc', 'about emf', 'about emf damag', 'about hillari', 'about it', 'about the', 'about to', 'about trump', 'abov', 'abroad', 'absolut']\n"
     ]
    }
   ],
   "source": [
    "cv = CountVectorizer(max_features=5000,ngram_range=(1,3))\n",
    "corpus_cv = cv.fit_transform(corpus).toarray()\n",
    "print(cv.get_feature_names()[:20])"
   ]
  },
  {
   "cell_type": "code",
   "execution_count": 23,
   "metadata": {},
   "outputs": [],
   "source": [
    "tfidf = TfidfVectorizer(max_features=5000,ngram_range=(1,3))\n",
    "corpus_tfidf = tfidf.fit_transform(corpus).toarray()"
   ]
  },
  {
   "cell_type": "code",
   "execution_count": null,
   "metadata": {},
   "outputs": [],
   "source": []
  },
  {
   "cell_type": "markdown",
   "metadata": {},
   "source": [
    "### Splitting the data"
   ]
  },
  {
   "cell_type": "code",
   "execution_count": 30,
   "metadata": {
    "execution": {
     "iopub.execute_input": "2021-12-11T13:48:47.375676Z",
     "iopub.status.busy": "2021-12-11T13:48:47.374828Z",
     "iopub.status.idle": "2021-12-11T13:48:48.045089Z",
     "shell.execute_reply": "2021-12-11T13:48:48.044181Z",
     "shell.execute_reply.started": "2021-12-11T13:48:47.375641Z"
    }
   },
   "outputs": [],
   "source": [
    "from sklearn.model_selection import train_test_split\n",
    "\n",
    "x_train_cv, x_test_cv, y_train_cv, y_test_cv = train_test_split(corpus_cv, y, test_size=0.2)\n",
    "x_train_tfidf, x_test_tfidf, y_train_tfidf, y_test_tfidf = train_test_split(corpus_tfidf, y, test_size=0.2)"
   ]
  },
  {
   "cell_type": "markdown",
   "metadata": {},
   "source": [
    "### Model"
   ]
  },
  {
   "cell_type": "code",
   "execution_count": 25,
   "metadata": {
    "execution": {
     "iopub.execute_input": "2021-12-11T13:48:50.117357Z",
     "iopub.status.busy": "2021-12-11T13:48:50.116675Z",
     "iopub.status.idle": "2021-12-11T13:48:51.528939Z",
     "shell.execute_reply": "2021-12-11T13:48:51.527792Z",
     "shell.execute_reply.started": "2021-12-11T13:48:50.117323Z"
    }
   },
   "outputs": [
    {
     "name": "stderr",
     "output_type": "stream",
     "text": [
      "/opt/anaconda3/envs/ML/lib/python3.9/site-packages/sklearn/utils/validation.py:63: DataConversionWarning: A column-vector y was passed when a 1d array was expected. Please change the shape of y to (n_samples, ), for example using ravel().\n",
      "  return f(*args, **kwargs)\n"
     ]
    },
    {
     "name": "stdout",
     "output_type": "stream",
     "text": [
      "0.8877364246491762\n",
      "              precision    recall  f1-score   support\n",
      "\n",
      "           0       0.94      0.88      0.91      2080\n",
      "           1       0.86      0.92      0.89      1577\n",
      "\n",
      "    accuracy                           0.90      3657\n",
      "   macro avg       0.90      0.90      0.90      3657\n",
      "weighted avg       0.90      0.90      0.90      3657\n",
      "\n"
     ]
    }
   ],
   "source": [
    "from sklearn.naive_bayes import MultinomialNB\n",
    "\n",
    "modelNB = MultinomialNB()\n",
    "modelNB.fit(x_train_cv, y_train_cv)\n",
    "\n",
    "y_pred = modelNB.predict(x_test_cv)\n",
    "\n",
    "print(f1_score(y_test_cv, y_pred))\n",
    "print(classification_report(y_test_cv, y_pred))"
   ]
  },
  {
   "cell_type": "code",
   "execution_count": 26,
   "metadata": {},
   "outputs": [
    {
     "name": "stderr",
     "output_type": "stream",
     "text": [
      "/opt/anaconda3/envs/ML/lib/python3.9/site-packages/sklearn/utils/validation.py:63: DataConversionWarning: A column-vector y was passed when a 1d array was expected. Please change the shape of y to (n_samples, ), for example using ravel().\n",
      "  return f(*args, **kwargs)\n"
     ]
    },
    {
     "name": "stdout",
     "output_type": "stream",
     "text": [
      "0.9185278389430639\n",
      "              precision    recall  f1-score   support\n",
      "\n",
      "           0       0.94      0.93      0.94      2080\n",
      "           1       0.91      0.93      0.92      1577\n",
      "\n",
      "    accuracy                           0.93      3657\n",
      "   macro avg       0.93      0.93      0.93      3657\n",
      "weighted avg       0.93      0.93      0.93      3657\n",
      "\n"
     ]
    }
   ],
   "source": [
    "from sklearn.linear_model import PassiveAggressiveClassifier\n",
    "linear_clf = PassiveAggressiveClassifier(max_iter=1000)\n",
    "linear_clf.fit(x_train_cv, y_train_cv)\n",
    "\n",
    "y_pred = linear_clf.predict(x_test_cv)\n",
    "\n",
    "print(f1_score(y_test_cv, y_pred))\n",
    "print(classification_report(y_test_cv, y_pred))"
   ]
  },
  {
   "cell_type": "code",
   "execution_count": 27,
   "metadata": {},
   "outputs": [
    {
     "name": "stderr",
     "output_type": "stream",
     "text": [
      "/opt/anaconda3/envs/ML/lib/python3.9/site-packages/sklearn/utils/validation.py:63: DataConversionWarning: A column-vector y was passed when a 1d array was expected. Please change the shape of y to (n_samples, ), for example using ravel().\n",
      "  return f(*args, **kwargs)\n"
     ]
    },
    {
     "name": "stdout",
     "output_type": "stream",
     "text": [
      "0.9283338373147868\n",
      "              precision    recall  f1-score   support\n",
      "\n",
      "           0       0.98      0.91      0.94      2080\n",
      "           1       0.89      0.97      0.93      1577\n",
      "\n",
      "    accuracy                           0.94      3657\n",
      "   macro avg       0.93      0.94      0.93      3657\n",
      "weighted avg       0.94      0.94      0.94      3657\n",
      "\n"
     ]
    }
   ],
   "source": [
    "from sklearn.linear_model import RidgeClassifier\n",
    "modelR = RidgeClassifier()\n",
    "modelR.fit(x_train_cv, y_train_cv)\n",
    "\n",
    "y_pred = modelR.predict(x_test_cv)\n",
    "\n",
    "print(f1_score(y_test_cv, y_pred))\n",
    "print(classification_report(y_test_cv, y_pred))\n"
   ]
  },
  {
   "cell_type": "code",
   "execution_count": 28,
   "metadata": {},
   "outputs": [
    {
     "name": "stderr",
     "output_type": "stream",
     "text": [
      "/opt/anaconda3/envs/ML/lib/python3.9/site-packages/sklearn/utils/validation.py:63: DataConversionWarning: A column-vector y was passed when a 1d array was expected. Please change the shape of y to (n_samples, ), for example using ravel().\n",
      "  return f(*args, **kwargs)\n"
     ]
    },
    {
     "name": "stdout",
     "output_type": "stream",
     "text": [
      "0.9296560272699101\n",
      "              precision    recall  f1-score   support\n",
      "\n",
      "           0       0.96      0.93      0.94      2080\n",
      "           1       0.91      0.95      0.93      1577\n",
      "\n",
      "    accuracy                           0.94      3657\n",
      "   macro avg       0.94      0.94      0.94      3657\n",
      "weighted avg       0.94      0.94      0.94      3657\n",
      "\n"
     ]
    }
   ],
   "source": [
    "from sklearn.linear_model import SGDClassifier\n",
    "modelSGD = SGDClassifier()\n",
    "modelSGD.fit(x_train_cv, y_train_cv)\n",
    "\n",
    "y_pred = modelSGD.predict(x_test_cv)\n",
    "\n",
    "print(f1_score(y_test_cv, y_pred))\n",
    "print(classification_report(y_test_cv, y_pred))"
   ]
  },
  {
   "cell_type": "code",
   "execution_count": 31,
   "metadata": {},
   "outputs": [
    {
     "name": "stderr",
     "output_type": "stream",
     "text": [
      "/opt/anaconda3/envs/ML/lib/python3.9/site-packages/sklearn/utils/validation.py:63: DataConversionWarning: A column-vector y was passed when a 1d array was expected. Please change the shape of y to (n_samples, ), for example using ravel().\n",
      "  return f(*args, **kwargs)\n"
     ]
    },
    {
     "name": "stdout",
     "output_type": "stream",
     "text": [
      "0.9307645996387718\n",
      "              precision    recall  f1-score   support\n",
      "\n",
      "           0       0.99      0.90      0.94      2090\n",
      "           1       0.88      0.99      0.93      1567\n",
      "\n",
      "    accuracy                           0.94      3657\n",
      "   macro avg       0.93      0.94      0.94      3657\n",
      "weighted avg       0.94      0.94      0.94      3657\n",
      "\n"
     ]
    }
   ],
   "source": [
    "from sklearn.linear_model import SGDClassifier\n",
    "modelSGD = SGDClassifier()\n",
    "modelSGD.fit(x_train_tfidf, y_train_tfidf)\n",
    "\n",
    "y_pred = modelSGD.predict(x_test_tfidf)\n",
    "\n",
    "print(f1_score(y_test_tfidf, y_pred))\n",
    "print(classification_report(y_test_tfidf, y_pred))"
   ]
  },
  {
   "cell_type": "markdown",
   "metadata": {},
   "source": [
    "### LSTM model"
   ]
  },
  {
   "cell_type": "code",
   "execution_count": 12,
   "metadata": {
    "execution": {
     "iopub.execute_input": "2021-12-11T18:16:16.578942Z",
     "iopub.status.busy": "2021-12-11T18:16:16.578290Z",
     "iopub.status.idle": "2021-12-11T18:16:16.584238Z",
     "shell.execute_reply": "2021-12-11T18:16:16.583123Z",
     "shell.execute_reply.started": "2021-12-11T18:16:16.578904Z"
    }
   },
   "outputs": [],
   "source": [
    "from tensorflow.keras import Sequential\n",
    "from tensorflow.keras.layers import Dense, Dropout, LSTM, Embedding, Bidirectional\n",
    "from tensorflow.keras.preprocessing.text import one_hot\n",
    "from tensorflow.keras.preprocessing.sequence import pad_sequences"
   ]
  },
  {
   "cell_type": "code",
   "execution_count": 13,
   "metadata": {
    "execution": {
     "iopub.execute_input": "2021-12-11T17:59:23.403772Z",
     "iopub.status.busy": "2021-12-11T17:59:23.403345Z",
     "iopub.status.idle": "2021-12-11T17:59:23.407787Z",
     "shell.execute_reply": "2021-12-11T17:59:23.406761Z",
     "shell.execute_reply.started": "2021-12-11T17:59:23.403740Z"
    }
   },
   "outputs": [],
   "source": [
    "vocab = 5000"
   ]
  },
  {
   "cell_type": "code",
   "execution_count": 14,
   "metadata": {
    "execution": {
     "iopub.execute_input": "2021-12-11T17:59:23.927337Z",
     "iopub.status.busy": "2021-12-11T17:59:23.926899Z",
     "iopub.status.idle": "2021-12-11T17:59:24.247787Z",
     "shell.execute_reply": "2021-12-11T17:59:24.247045Z",
     "shell.execute_reply.started": "2021-12-11T17:59:23.927292Z"
    }
   },
   "outputs": [],
   "source": [
    "onehot_repr = [one_hot(words, vocab) for words in corpus]"
   ]
  },
  {
   "cell_type": "code",
   "execution_count": 15,
   "metadata": {
    "execution": {
     "iopub.execute_input": "2021-12-11T17:59:24.249464Z",
     "iopub.status.busy": "2021-12-11T17:59:24.249190Z",
     "iopub.status.idle": "2021-12-11T17:59:24.256773Z",
     "shell.execute_reply": "2021-12-11T17:59:24.255749Z",
     "shell.execute_reply.started": "2021-12-11T17:59:24.249429Z"
    }
   },
   "outputs": [],
   "source": [
    "maxL = max([len(words) for words in onehot_repr])"
   ]
  },
  {
   "cell_type": "code",
   "execution_count": 16,
   "metadata": {
    "execution": {
     "iopub.execute_input": "2021-12-11T17:59:24.815857Z",
     "iopub.status.busy": "2021-12-11T17:59:24.815164Z",
     "iopub.status.idle": "2021-12-11T17:59:24.972684Z",
     "shell.execute_reply": "2021-12-11T17:59:24.971976Z",
     "shell.execute_reply.started": "2021-12-11T17:59:24.815806Z"
    }
   },
   "outputs": [],
   "source": [
    "padded_x = pad_sequences(onehot_repr, maxlen=maxL)"
   ]
  },
  {
   "cell_type": "code",
   "execution_count": 17,
   "metadata": {
    "execution": {
     "iopub.execute_input": "2021-12-11T17:59:25.401272Z",
     "iopub.status.busy": "2021-12-11T17:59:25.400991Z",
     "iopub.status.idle": "2021-12-11T17:59:25.412555Z",
     "shell.execute_reply": "2021-12-11T17:59:25.411861Z",
     "shell.execute_reply.started": "2021-12-11T17:59:25.401212Z"
    }
   },
   "outputs": [],
   "source": [
    "from sklearn.model_selection import train_test_split\n",
    "\n",
    "x_train, x_test, y_train, y_test = train_test_split(padded_x, y, test_size=0.33)"
   ]
  },
  {
   "cell_type": "code",
   "execution_count": 18,
   "metadata": {
    "execution": {
     "iopub.execute_input": "2021-12-11T18:16:28.507807Z",
     "iopub.status.busy": "2021-12-11T18:16:28.507547Z",
     "iopub.status.idle": "2021-12-11T18:16:28.909645Z",
     "shell.execute_reply": "2021-12-11T18:16:28.908933Z",
     "shell.execute_reply.started": "2021-12-11T18:16:28.507776Z"
    }
   },
   "outputs": [],
   "source": [
    "modelLSTM = Sequential()\n",
    "\n",
    "modelLSTM.add(Embedding(vocab, 40, input_length=maxL))\n",
    "modelLSTM.add(Dropout(0.5))\n",
    "modelLSTM.add(Bidirectional(LSTM(100)))\n",
    "modelLSTM.add(Dropout(0.5))\n",
    "modelLSTM.add(Dense(1, activation=\"sigmoid\"))"
   ]
  },
  {
   "cell_type": "code",
   "execution_count": 19,
   "metadata": {
    "execution": {
     "iopub.execute_input": "2021-12-11T18:16:29.710924Z",
     "iopub.status.busy": "2021-12-11T18:16:29.710213Z",
     "iopub.status.idle": "2021-12-11T18:16:29.721240Z",
     "shell.execute_reply": "2021-12-11T18:16:29.720270Z",
     "shell.execute_reply.started": "2021-12-11T18:16:29.710884Z"
    }
   },
   "outputs": [
    {
     "name": "stdout",
     "output_type": "stream",
     "text": [
      "Model: \"sequential\"\n",
      "_________________________________________________________________\n",
      "Layer (type)                 Output Shape              Param #   \n",
      "=================================================================\n",
      "embedding (Embedding)        (None, 49, 40)            200000    \n",
      "_________________________________________________________________\n",
      "dropout (Dropout)            (None, 49, 40)            0         \n",
      "_________________________________________________________________\n",
      "bidirectional (Bidirectional (None, 200)               112800    \n",
      "_________________________________________________________________\n",
      "dropout_1 (Dropout)          (None, 200)               0         \n",
      "_________________________________________________________________\n",
      "dense (Dense)                (None, 1)                 201       \n",
      "=================================================================\n",
      "Total params: 313,001\n",
      "Trainable params: 313,001\n",
      "Non-trainable params: 0\n",
      "_________________________________________________________________\n"
     ]
    }
   ],
   "source": [
    "modelLSTM.summary()"
   ]
  },
  {
   "cell_type": "code",
   "execution_count": 20,
   "metadata": {
    "execution": {
     "iopub.execute_input": "2021-12-11T18:16:30.408201Z",
     "iopub.status.busy": "2021-12-11T18:16:30.407733Z",
     "iopub.status.idle": "2021-12-11T18:16:55.908126Z",
     "shell.execute_reply": "2021-12-11T18:16:55.907154Z",
     "shell.execute_reply.started": "2021-12-11T18:16:30.408164Z"
    }
   },
   "outputs": [
    {
     "name": "stdout",
     "output_type": "stream",
     "text": [
      "Epoch 1/20\n",
      "111/111 [==============================] - 26s 191ms/step - loss: 0.4426 - accuracy: 0.7699 - val_loss: 0.2178 - val_accuracy: 0.9102\n",
      "Epoch 2/20\n",
      "111/111 [==============================] - 23s 211ms/step - loss: 0.1736 - accuracy: 0.9305 - val_loss: 0.1704 - val_accuracy: 0.9306\n",
      "Epoch 3/20\n",
      "111/111 [==============================] - 25s 222ms/step - loss: 0.1256 - accuracy: 0.9533 - val_loss: 0.1669 - val_accuracy: 0.9314\n",
      "Epoch 4/20\n",
      "111/111 [==============================] - 27s 248ms/step - loss: 0.0924 - accuracy: 0.9670 - val_loss: 0.1821 - val_accuracy: 0.9306\n",
      "Epoch 5/20\n",
      "111/111 [==============================] - 25s 229ms/step - loss: 0.0730 - accuracy: 0.9752 - val_loss: 0.1836 - val_accuracy: 0.9314\n",
      "Epoch 6/20\n",
      "111/111 [==============================] - 28s 254ms/step - loss: 0.0860 - accuracy: 0.9673 - val_loss: 0.1957 - val_accuracy: 0.9273\n",
      "Epoch 7/20\n",
      "111/111 [==============================] - 26s 238ms/step - loss: 0.0514 - accuracy: 0.9834 - val_loss: 0.2029 - val_accuracy: 0.9306\n",
      "Epoch 8/20\n",
      "111/111 [==============================] - 27s 239ms/step - loss: 0.0402 - accuracy: 0.9873 - val_loss: 0.2461 - val_accuracy: 0.9298\n",
      "Epoch 9/20\n",
      "111/111 [==============================] - 27s 240ms/step - loss: 0.0336 - accuracy: 0.9890 - val_loss: 0.2749 - val_accuracy: 0.9273\n",
      "Epoch 10/20\n",
      "111/111 [==============================] - 26s 238ms/step - loss: 0.0296 - accuracy: 0.9905 - val_loss: 0.2605 - val_accuracy: 0.9249\n",
      "Epoch 11/20\n",
      "111/111 [==============================] - 27s 243ms/step - loss: 0.0248 - accuracy: 0.9915 - val_loss: 0.2960 - val_accuracy: 0.9298\n",
      "Epoch 12/20\n",
      "111/111 [==============================] - 27s 245ms/step - loss: 0.0180 - accuracy: 0.9944 - val_loss: 0.3078 - val_accuracy: 0.9200\n",
      "Epoch 13/20\n",
      "111/111 [==============================] - 29s 261ms/step - loss: 0.0204 - accuracy: 0.9931 - val_loss: 0.3406 - val_accuracy: 0.9176\n",
      "Epoch 14/20\n",
      "111/111 [==============================] - 27s 243ms/step - loss: 0.0180 - accuracy: 0.9943 - val_loss: 0.3006 - val_accuracy: 0.9241\n",
      "Epoch 15/20\n",
      "111/111 [==============================] - 27s 245ms/step - loss: 0.0152 - accuracy: 0.9951 - val_loss: 0.3699 - val_accuracy: 0.9233\n",
      "Epoch 16/20\n",
      "111/111 [==============================] - 27s 247ms/step - loss: 0.0105 - accuracy: 0.9966 - val_loss: 0.4091 - val_accuracy: 0.9216\n",
      "Epoch 17/20\n",
      "111/111 [==============================] - 27s 247ms/step - loss: 0.0112 - accuracy: 0.9960 - val_loss: 0.4089 - val_accuracy: 0.9224\n",
      "Epoch 18/20\n",
      "111/111 [==============================] - 27s 245ms/step - loss: 0.0106 - accuracy: 0.9959 - val_loss: 0.3849 - val_accuracy: 0.9167\n",
      "Epoch 19/20\n",
      "111/111 [==============================] - 27s 243ms/step - loss: 0.0105 - accuracy: 0.9960 - val_loss: 0.4344 - val_accuracy: 0.9176\n",
      "Epoch 20/20\n",
      "111/111 [==============================] - 27s 245ms/step - loss: 0.0096 - accuracy: 0.9973 - val_loss: 0.4365 - val_accuracy: 0.9143\n"
     ]
    },
    {
     "data": {
      "text/plain": [
       "<keras.callbacks.History at 0x7fddbff60400>"
      ]
     },
     "execution_count": 20,
     "metadata": {},
     "output_type": "execute_result"
    }
   ],
   "source": [
    "from tensorflow.keras.callbacks import ModelCheckpoint\n",
    "from tensorflow.keras.optimizers import Adam\n",
    "\n",
    "modelLSTM.compile(loss=\"binary_crossentropy\", optimizer='adam', metrics=['accuracy'])\n",
    "modelLSTM.fit(x_train, y_train, epochs=20, batch_size=100, validation_split=0.1)"
   ]
  },
  {
   "cell_type": "code",
   "execution_count": 21,
   "metadata": {
    "execution": {
     "iopub.execute_input": "2021-12-11T18:21:04.488235Z",
     "iopub.status.busy": "2021-12-11T18:21:04.487732Z",
     "iopub.status.idle": "2021-12-11T18:21:05.054696Z",
     "shell.execute_reply": "2021-12-11T18:21:05.053934Z",
     "shell.execute_reply.started": "2021-12-11T18:21:04.488196Z"
    }
   },
   "outputs": [
    {
     "name": "stdout",
     "output_type": "stream",
     "text": [
      "F1 score: 0.9054333521338597\n",
      "\n",
      "\n",
      "\t\t\t classification_report\n",
      "\n",
      "               precision    recall  f1-score   support\n",
      "\n",
      "           0       0.93      0.92      0.93      3393\n",
      "           1       0.90      0.91      0.91      2642\n",
      "\n",
      "    accuracy                           0.92      6035\n",
      "   macro avg       0.91      0.92      0.92      6035\n",
      "weighted avg       0.92      0.92      0.92      6035\n",
      "\n"
     ]
    }
   ],
   "source": [
    "y_pred = modelLSTM.predict(x_test)\n",
    "y_pred = np.round(y_pred).astype(int)\n",
    "print('F1 score:',f1_score(y_test, y_pred))\n",
    "print('\\n\\n\\t\\t\\t classification_report\\n\\n',classification_report(y_test, y_pred))"
   ]
  },
  {
   "cell_type": "code",
   "execution_count": null,
   "metadata": {},
   "outputs": [],
   "source": []
  }
 ],
 "metadata": {
  "kernelspec": {
   "display_name": "Python 3",
   "language": "python",
   "name": "python3"
  },
  "language_info": {
   "codemirror_mode": {
    "name": "ipython",
    "version": 3
   },
   "file_extension": ".py",
   "mimetype": "text/x-python",
   "name": "python",
   "nbconvert_exporter": "python",
   "pygments_lexer": "ipython3",
   "version": "3.9.1"
  }
 },
 "nbformat": 4,
 "nbformat_minor": 4
}
