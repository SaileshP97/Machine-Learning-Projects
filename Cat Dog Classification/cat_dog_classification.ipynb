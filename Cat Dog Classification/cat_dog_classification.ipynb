{
  "metadata": {
    "kernelspec": {
      "language": "python",
      "display_name": "Python 3",
      "name": "python3"
    },
    "language_info": {
      "name": "python",
      "version": "3.7.12",
      "mimetype": "text/x-python",
      "codemirror_mode": {
        "name": "ipython",
        "version": 3
      },
      "pygments_lexer": "ipython3",
      "nbconvert_exporter": "python",
      "file_extension": ".py"
    },
    "colab": {
      "name": "cat-dog-classification.ipynb",
      "provenance": [],
      "include_colab_link": true
    },
    "accelerator": "GPU"
  },
  "nbformat_minor": 0,
  "nbformat": 4,
  "cells": [
    {
      "cell_type": "markdown",
      "metadata": {
        "id": "view-in-github",
        "colab_type": "text"
      },
      "source": [
        "<a href=\"https://colab.research.google.com/github/SaileshP97/Machine-Learning-Projects/blob/main/Cat%20Dog%20Classification/cat_dog_classification.ipynb\" target=\"_parent\"><img src=\"https://colab.research.google.com/assets/colab-badge.svg\" alt=\"Open In Colab\"/></a>"
      ]
    },
    {
      "cell_type": "code",
      "source": [
        "# This Python 3 environment comes with many helpful analytics libraries installed\n",
        "# It is defined by the kaggle/python Docker image: https://github.com/kaggle/docker-python\n",
        "# For example, here's several helpful packages to load\n",
        "\n",
        "import numpy as np # linear algebra\n",
        "import pandas as pd # data processing, CSV file I/O (e.g. pd.read_csv)\n",
        "\n",
        "# Input data files are available in the read-only \"../input/\" directory\n",
        "# For example, running this (by clicking run or pressing Shift+Enter) will list all files under the input directory\n",
        "\n",
        "#import os\n",
        "#for dirname, _, filenames in os.walk('/kaggle/input'):\n",
        "#    for filename in filenames:\n",
        "#        print(os.path.join(dirname, filename))\n",
        "\n",
        "# You can write up to 20GB to the current directory (/kaggle/working/) that gets preserved as output when you create a version using \"Save & Run All\" \n",
        "# You can also write temporary files to /kaggle/temp/, but they won't be saved outside of the current session"
      ],
      "metadata": {
        "_uuid": "8f2839f25d086af736a60e9eeb907d3b93b6e0e5",
        "_cell_guid": "b1076dfc-b9ad-4769-8c92-a6c4dae69d19",
        "execution": {
          "iopub.status.busy": "2022-01-21T13:19:32.439921Z",
          "iopub.execute_input": "2022-01-21T13:19:32.442464Z",
          "iopub.status.idle": "2022-01-21T13:19:32.450028Z",
          "shell.execute_reply.started": "2022-01-21T13:19:32.442412Z",
          "shell.execute_reply": "2022-01-21T13:19:32.449278Z"
        },
        "trusted": true,
        "id": "p-1fxNsSfqRm"
      },
      "execution_count": null,
      "outputs": []
    },
    {
      "cell_type": "code",
      "source": [
        "pip install kaggle"
      ],
      "metadata": {
        "colab": {
          "base_uri": "https://localhost:8080/"
        },
        "id": "PvO9E-BioKvK",
        "outputId": "a6571d22-1665-4cc0-e278-272a2c555dc8"
      },
      "execution_count": 10,
      "outputs": [
        {
          "output_type": "stream",
          "name": "stdout",
          "text": [
            "Requirement already satisfied: kaggle in /usr/local/lib/python3.7/dist-packages (1.5.12)\n",
            "Requirement already satisfied: tqdm in /usr/local/lib/python3.7/dist-packages (from kaggle) (4.62.3)\n",
            "Requirement already satisfied: requests in /usr/local/lib/python3.7/dist-packages (from kaggle) (2.23.0)\n",
            "Requirement already satisfied: urllib3 in /usr/local/lib/python3.7/dist-packages (from kaggle) (1.24.3)\n",
            "Requirement already satisfied: python-slugify in /usr/local/lib/python3.7/dist-packages (from kaggle) (5.0.2)\n",
            "Requirement already satisfied: python-dateutil in /usr/local/lib/python3.7/dist-packages (from kaggle) (2.8.2)\n",
            "Requirement already satisfied: six>=1.10 in /usr/local/lib/python3.7/dist-packages (from kaggle) (1.15.0)\n",
            "Requirement already satisfied: certifi in /usr/local/lib/python3.7/dist-packages (from kaggle) (2021.10.8)\n",
            "Requirement already satisfied: text-unidecode>=1.3 in /usr/local/lib/python3.7/dist-packages (from python-slugify->kaggle) (1.3)\n",
            "Requirement already satisfied: chardet<4,>=3.0.2 in /usr/local/lib/python3.7/dist-packages (from requests->kaggle) (3.0.4)\n",
            "Requirement already satisfied: idna<3,>=2.5 in /usr/local/lib/python3.7/dist-packages (from requests->kaggle) (2.10)\n"
          ]
        }
      ]
    },
    {
      "cell_type": "code",
      "source": [
        "mkdir ~/.kaggle"
      ],
      "metadata": {
        "colab": {
          "base_uri": "https://localhost:8080/"
        },
        "id": "7AKh8j9hoOOO",
        "outputId": "89e6be2f-9815-4b68-e245-4859d593302b"
      },
      "execution_count": 11,
      "outputs": [
        {
          "output_type": "stream",
          "name": "stdout",
          "text": [
            "mkdir: cannot create directory ‘/root/.kaggle’: File exists\n"
          ]
        }
      ]
    },
    {
      "cell_type": "code",
      "source": [
        "cp kaggle.json ~/.kaggle/"
      ],
      "metadata": {
        "id": "ggm65pUYodju"
      },
      "execution_count": 12,
      "outputs": []
    },
    {
      "cell_type": "code",
      "source": [
        "! chmod 600 ~/.kaggle/kaggle.json"
      ],
      "metadata": {
        "id": "ovzRsoVHofDO"
      },
      "execution_count": 13,
      "outputs": []
    },
    {
      "cell_type": "code",
      "source": [
        "! kaggle datasets download -d tongpython/cat-and-dog"
      ],
      "metadata": {
        "colab": {
          "base_uri": "https://localhost:8080/"
        },
        "id": "ZrpFsnPjpPjg",
        "outputId": "9f455bff-ebc8-4c63-d3f9-2dafa902905a"
      },
      "execution_count": 14,
      "outputs": [
        {
          "output_type": "stream",
          "name": "stdout",
          "text": [
            "Downloading cat-and-dog.zip to /content\n",
            " 98% 213M/218M [00:01<00:00, 156MB/s]\n",
            "100% 218M/218M [00:01<00:00, 145MB/s]\n"
          ]
        }
      ]
    },
    {
      "cell_type": "code",
      "source": [
        "import shutil\n",
        "shutil.unpack_archive(\"cat-and-dog.zip\", \"/content/\")"
      ],
      "metadata": {
        "id": "_lZ9q7BcsAXA"
      },
      "execution_count": 15,
      "outputs": []
    },
    {
      "cell_type": "code",
      "source": [
        "import tensorflow as tf\n",
        "from tensorflow.keras.preprocessing.image import ImageDataGenerator"
      ],
      "metadata": {
        "execution": {
          "iopub.status.busy": "2022-01-21T13:19:35.199442Z",
          "iopub.execute_input": "2022-01-21T13:19:35.199973Z",
          "iopub.status.idle": "2022-01-21T13:19:39.945260Z",
          "shell.execute_reply.started": "2022-01-21T13:19:35.199933Z",
          "shell.execute_reply": "2022-01-21T13:19:39.944557Z"
        },
        "trusted": true,
        "id": "5A6bNokRfqRy"
      },
      "execution_count": 16,
      "outputs": []
    },
    {
      "cell_type": "code",
      "source": [
        "from tensorflow.keras.layers import Conv2D\n",
        "from tensorflow.keras.layers import Dense, BatchNormalization, Dropout\n",
        "from tensorflow.keras.layers import MaxPool2D, GlobalAveragePooling2D\n",
        "from tensorflow.keras.layers import Flatten\n",
        "from tensorflow.keras import Sequential"
      ],
      "metadata": {
        "execution": {
          "iopub.status.busy": "2022-01-21T13:19:41.598186Z",
          "iopub.execute_input": "2022-01-21T13:19:41.598751Z",
          "iopub.status.idle": "2022-01-21T13:19:41.604047Z",
          "shell.execute_reply.started": "2022-01-21T13:19:41.598711Z",
          "shell.execute_reply": "2022-01-21T13:19:41.603248Z"
        },
        "trusted": true,
        "id": "8wcdaIr5fqRz"
      },
      "execution_count": 17,
      "outputs": []
    },
    {
      "cell_type": "code",
      "source": [
        "/content/training_set/training_set"
      ],
      "metadata": {
        "id": "5EFvi4Kls5V5"
      },
      "execution_count": null,
      "outputs": []
    },
    {
      "cell_type": "code",
      "source": [
        "train_datagen = ImageDataGenerator(rescale = 1./255,\n",
        "                                   shear_range = 0.2,\n",
        "                                   zoom_range = 0.2,\n",
        "                                   horizontal_flip = True)\n",
        "training_set = train_datagen.flow_from_directory('/content/training_set/training_set',\n",
        "                                                 target_size = (224, 224),\n",
        "                                                 batch_size = 32,\n",
        "                                                 class_mode = 'binary')"
      ],
      "metadata": {
        "execution": {
          "iopub.status.busy": "2022-01-21T13:19:43.712769Z",
          "iopub.execute_input": "2022-01-21T13:19:43.713511Z",
          "iopub.status.idle": "2022-01-21T13:19:45.388678Z",
          "shell.execute_reply.started": "2022-01-21T13:19:43.713458Z",
          "shell.execute_reply": "2022-01-21T13:19:45.387884Z"
        },
        "trusted": true,
        "id": "2_-xZH5pfqRz",
        "colab": {
          "base_uri": "https://localhost:8080/"
        },
        "outputId": "c9cda859-9cc7-439c-fa15-7a9dbc165c9f"
      },
      "execution_count": 18,
      "outputs": [
        {
          "output_type": "stream",
          "name": "stdout",
          "text": [
            "Found 8005 images belonging to 2 classes.\n"
          ]
        }
      ]
    },
    {
      "cell_type": "code",
      "source": [
        "test_datagen = ImageDataGenerator(rescale = 1./255)\n",
        "test_set = test_datagen.flow_from_directory('/content/test_set/test_set',\n",
        "                                                 target_size = (224, 224),\n",
        "                                                 batch_size = 32,\n",
        "                                                 class_mode = 'binary')"
      ],
      "metadata": {
        "execution": {
          "iopub.status.busy": "2022-01-21T13:19:45.393397Z",
          "iopub.execute_input": "2022-01-21T13:19:45.395545Z",
          "iopub.status.idle": "2022-01-21T13:19:45.821481Z",
          "shell.execute_reply.started": "2022-01-21T13:19:45.395499Z",
          "shell.execute_reply": "2022-01-21T13:19:45.820750Z"
        },
        "trusted": true,
        "id": "cKjXCxoQfqR0",
        "colab": {
          "base_uri": "https://localhost:8080/"
        },
        "outputId": "eab7dda9-c19e-46c1-ca06-c3d2114eabb3"
      },
      "execution_count": 19,
      "outputs": [
        {
          "output_type": "stream",
          "name": "stdout",
          "text": [
            "Found 2023 images belonging to 2 classes.\n"
          ]
        }
      ]
    },
    {
      "cell_type": "markdown",
      "source": [
        "#### Pre trained model"
      ],
      "metadata": {
        "id": "4m1w1jXYfqR0"
      }
    },
    {
      "cell_type": "code",
      "source": [
        "from tensorflow.keras.applications import InceptionV3\n",
        "from tensorflow.keras.applications.inception_v3 import preprocess_input\n",
        "\n",
        "inputs = tf.keras.Input(shape=(224, 224, 3))\n",
        "base_model = InceptionV3(weights='imagenet', include_top=False, input_tensor=inputs)\n",
        "for layer in base_model.layers:\n",
        "    layer.trainable = False"
      ],
      "metadata": {
        "execution": {
          "iopub.status.busy": "2022-01-21T13:19:48.961238Z",
          "iopub.execute_input": "2022-01-21T13:19:48.961476Z",
          "iopub.status.idle": "2022-01-21T13:19:51.324330Z",
          "shell.execute_reply.started": "2022-01-21T13:19:48.961448Z",
          "shell.execute_reply": "2022-01-21T13:19:51.323605Z"
        },
        "trusted": true,
        "id": "_-uMrLFsfqR3",
        "colab": {
          "base_uri": "https://localhost:8080/"
        },
        "outputId": "0931a38b-e6ef-43a6-ee10-55f232b2e93e"
      },
      "execution_count": 20,
      "outputs": [
        {
          "output_type": "stream",
          "name": "stdout",
          "text": [
            "Downloading data from https://storage.googleapis.com/tensorflow/keras-applications/inception_v3/inception_v3_weights_tf_dim_ordering_tf_kernels_notop.h5\n",
            "87916544/87910968 [==============================] - 1s 0us/step\n",
            "87924736/87910968 [==============================] - 1s 0us/step\n"
          ]
        }
      ]
    },
    {
      "cell_type": "code",
      "source": [
        "model = Sequential()\n",
        "\n",
        "model.add(base_model)\n",
        "model.add(Flatten())\n",
        "model.add(Dense(256, activation='relu'))\n",
        "model.add(Dense(1, activation='sigmoid'))\n",
        "\n",
        "model.summary()"
      ],
      "metadata": {
        "execution": {
          "iopub.status.busy": "2022-01-21T13:27:58.010734Z",
          "iopub.execute_input": "2022-01-21T13:27:58.011506Z",
          "iopub.status.idle": "2022-01-21T13:27:58.729965Z",
          "shell.execute_reply.started": "2022-01-21T13:27:58.011467Z",
          "shell.execute_reply": "2022-01-21T13:27:58.729291Z"
        },
        "trusted": true,
        "id": "Dj3vufuTfqR5",
        "colab": {
          "base_uri": "https://localhost:8080/"
        },
        "outputId": "b8a969aa-2880-441f-dce8-1574d6adf04a"
      },
      "execution_count": 21,
      "outputs": [
        {
          "output_type": "stream",
          "name": "stdout",
          "text": [
            "Model: \"sequential\"\n",
            "_________________________________________________________________\n",
            " Layer (type)                Output Shape              Param #   \n",
            "=================================================================\n",
            " inception_v3 (Functional)   (None, 5, 5, 2048)        21802784  \n",
            "                                                                 \n",
            " flatten (Flatten)           (None, 51200)             0         \n",
            "                                                                 \n",
            " dense (Dense)               (None, 256)               13107456  \n",
            "                                                                 \n",
            " dense_1 (Dense)             (None, 1)                 257       \n",
            "                                                                 \n",
            "=================================================================\n",
            "Total params: 34,910,497\n",
            "Trainable params: 13,107,713\n",
            "Non-trainable params: 21,802,784\n",
            "_________________________________________________________________\n"
          ]
        }
      ]
    },
    {
      "cell_type": "code",
      "source": [
        "model.compile(loss='binary_crossentropy', optimizer='Adam', metrics=['accuracy'])"
      ],
      "metadata": {
        "execution": {
          "iopub.status.busy": "2022-01-21T13:28:08.652392Z",
          "iopub.execute_input": "2022-01-21T13:28:08.653042Z",
          "iopub.status.idle": "2022-01-21T13:28:08.667061Z",
          "shell.execute_reply.started": "2022-01-21T13:28:08.653003Z",
          "shell.execute_reply": "2022-01-21T13:28:08.666241Z"
        },
        "trusted": true,
        "id": "qs-5Q7_OfqR6"
      },
      "execution_count": 22,
      "outputs": []
    },
    {
      "cell_type": "code",
      "source": [
        "history = model.fit(training_set, batch_size=32, epochs=8, validation_data=test_set)"
      ],
      "metadata": {
        "execution": {
          "iopub.status.busy": "2022-01-21T13:28:11.544871Z",
          "iopub.execute_input": "2022-01-21T13:28:11.545116Z",
          "iopub.status.idle": "2022-01-21T13:42:35.880804Z",
          "shell.execute_reply.started": "2022-01-21T13:28:11.545088Z",
          "shell.execute_reply": "2022-01-21T13:42:35.880110Z"
        },
        "trusted": true,
        "id": "8n2Mn9kafqR7",
        "colab": {
          "base_uri": "https://localhost:8080/"
        },
        "outputId": "71fae679-1b58-4d17-f723-09ad1ba02fc6"
      },
      "execution_count": 23,
      "outputs": [
        {
          "output_type": "stream",
          "name": "stdout",
          "text": [
            "Epoch 1/8\n",
            "251/251 [==============================] - 130s 465ms/step - loss: 0.9328 - accuracy: 0.9653 - val_loss: 0.1748 - val_accuracy: 0.9862\n",
            "Epoch 2/8\n",
            "251/251 [==============================] - 115s 456ms/step - loss: 0.1910 - accuracy: 0.9843 - val_loss: 0.1142 - val_accuracy: 0.9901\n",
            "Epoch 3/8\n",
            "251/251 [==============================] - 115s 458ms/step - loss: 0.0925 - accuracy: 0.9856 - val_loss: 0.0967 - val_accuracy: 0.9896\n",
            "Epoch 4/8\n",
            "251/251 [==============================] - 115s 457ms/step - loss: 0.0457 - accuracy: 0.9891 - val_loss: 0.1336 - val_accuracy: 0.9698\n",
            "Epoch 5/8\n",
            "251/251 [==============================] - 114s 453ms/step - loss: 0.0375 - accuracy: 0.9901 - val_loss: 0.0418 - val_accuracy: 0.9896\n",
            "Epoch 6/8\n",
            "251/251 [==============================] - 115s 456ms/step - loss: 0.0161 - accuracy: 0.9934 - val_loss: 0.0480 - val_accuracy: 0.9876\n",
            "Epoch 7/8\n",
            "251/251 [==============================] - 115s 457ms/step - loss: 0.0238 - accuracy: 0.9919 - val_loss: 0.0413 - val_accuracy: 0.9881\n",
            "Epoch 8/8\n",
            "251/251 [==============================] - 114s 455ms/step - loss: 0.0211 - accuracy: 0.9921 - val_loss: 0.0394 - val_accuracy: 0.9886\n"
          ]
        }
      ]
    },
    {
      "cell_type": "code",
      "source": [
        "train_loss = history.history['loss']\n",
        "val_loss = history.history['val_loss']\n",
        "\n",
        "train_acc = history.history['accuracy']\n",
        "val_acc = history.history['val_accuracy']"
      ],
      "metadata": {
        "id": "ZPJ48rQ-fqR8"
      },
      "execution_count": 30,
      "outputs": []
    },
    {
      "cell_type": "code",
      "source": [
        "import matplotlib.pyplot as plt"
      ],
      "metadata": {
        "id": "gYfSFARenWx6"
      },
      "execution_count": 24,
      "outputs": []
    },
    {
      "cell_type": "code",
      "source": [
        "plt.figure(figsize=(18,6))\n",
        "plt.plot(train_loss, label='train_loss')\n",
        "plt.plot(val_loss, label='val_loss')\n",
        "plt.plot(train_acc, label='train_acc')\n",
        "plt.plot(val_acc, label='val_acc')\n",
        "plt.xlabel('epochs')\n",
        "plt.ylabel('value')\n",
        "plt.legend(loc='upper right')\n",
        "plt.tight_layout()\n",
        "plt.show()"
      ],
      "metadata": {
        "colab": {
          "base_uri": "https://localhost:8080/",
          "height": 352
        },
        "id": "bJukKQaswdv1",
        "outputId": "7c0447b1-8b25-4fdf-b9ee-d6a0c7dc5c1a"
      },
      "execution_count": 31,
      "outputs": [
        {
          "output_type": "display_data",
          "data": {
            "image/png": "[encoded data removed]",
            "text/plain": [
              "<Figure size 1296x432 with 1 Axes>"
            ]
          },
          "metadata": {
            "needs_background": "light"
          }
        }
      ]
    }
  ]
}