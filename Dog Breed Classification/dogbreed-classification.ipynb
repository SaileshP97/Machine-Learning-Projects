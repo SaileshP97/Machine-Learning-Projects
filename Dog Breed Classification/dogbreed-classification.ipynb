{
 "cells": [
  {
   "cell_type": "code",
   "execution_count": 3,
   "metadata": {
    "_cell_guid": "b1076dfc-b9ad-4769-8c92-a6c4dae69d19",
    "_uuid": "8f2839f25d086af736a60e9eeb907d3b93b6e0e5",
    "execution": {
     "iopub.execute_input": "2022-01-21T12:57:22.350998Z",
     "iopub.status.busy": "2022-01-21T12:57:22.348700Z",
     "iopub.status.idle": "2022-01-21T12:57:22.357706Z",
     "shell.execute_reply": "2022-01-21T12:57:22.356615Z",
     "shell.execute_reply.started": "2022-01-21T12:57:22.350957Z"
    }
   },
   "outputs": [],
   "source": [
    "# This Python 3 environment comes with many helpful analytics libraries installed\n",
    "# It is defined by the kaggle/python Docker image: https://github.com/kaggle/docker-python\n",
    "# For example, here's several helpful packages to load\n",
    "\n",
    "import numpy as np # linear algebra\n",
    "import pandas as pd # data processing, CSV file I/O (e.g. pd.read_csv)\n",
    "\n",
    "# Input data files are available in the read-only \"../input/\" directory\n",
    "# For example, running this (by clicking run or pressing Shift+Enter) will list all files under the input directory\n",
    "\n",
    "#import os\n",
    "#for dirname, _, filenames in os.walk('/kaggle/input'):\n",
    "#    for filename in filenames:\n",
    "#        print(os.path.join(dirname, filename))\n",
    "\n",
    "# You can write up to 20GB to the current directory (/kaggle/working/) that gets preserved as output when you create a version using \"Save & Run All\" \n",
    "# You can also write temporary files to /kaggle/temp/, but they won't be saved outside of the current session"
   ]
  },
  {
   "cell_type": "code",
   "execution_count": 4,
   "metadata": {
    "execution": {
     "iopub.execute_input": "2022-01-21T12:57:24.719335Z",
     "iopub.status.busy": "2022-01-21T12:57:24.718782Z",
     "iopub.status.idle": "2022-01-21T12:57:24.724549Z",
     "shell.execute_reply": "2022-01-21T12:57:24.722912Z",
     "shell.execute_reply.started": "2022-01-21T12:57:24.719290Z"
    }
   },
   "outputs": [],
   "source": [
    "import pandas as pd\n",
    "import numpy as np\n",
    "import cv2\n",
    "import tensorflow as tf\n",
    "from tensorflow.keras.preprocessing.image import ImageDataGenerator"
   ]
  },
  {
   "cell_type": "code",
   "execution_count": 5,
   "metadata": {
    "execution": {
     "iopub.execute_input": "2022-01-21T12:57:27.762458Z",
     "iopub.status.busy": "2022-01-21T12:57:27.762198Z",
     "iopub.status.idle": "2022-01-21T12:57:27.792090Z",
     "shell.execute_reply": "2022-01-21T12:57:27.791407Z",
     "shell.execute_reply.started": "2022-01-21T12:57:27.762428Z"
    }
   },
   "outputs": [],
   "source": [
    "train_df = pd.read_csv('../input/dog-breed-identification/labels.csv')"
   ]
  },
  {
   "cell_type": "code",
   "execution_count": 6,
   "metadata": {
    "execution": {
     "iopub.execute_input": "2022-01-21T12:57:28.835370Z",
     "iopub.status.busy": "2022-01-21T12:57:28.835110Z",
     "iopub.status.idle": "2022-01-21T12:59:30.266584Z",
     "shell.execute_reply": "2022-01-21T12:59:30.265748Z",
     "shell.execute_reply.started": "2022-01-21T12:57:28.835337Z"
    }
   },
   "outputs": [],
   "source": [
    "path = \"../input/dog-breed-identification/train/\"\n",
    "\n",
    "X = []\n",
    "for i in range(len(train_df)):\n",
    "    \n",
    "    pth = path+train_df.id[i]+\".jpg\"\n",
    "    img = np.stack(cv2.resize(cv2.imread(pth), (331, 331))) #reading the image and resizing it.\n",
    "    X.append(img) \n",
    "    "
   ]
  },
  {
   "cell_type": "code",
   "execution_count": 7,
   "metadata": {
    "execution": {
     "iopub.execute_input": "2022-01-21T12:59:30.268774Z",
     "iopub.status.busy": "2022-01-21T12:59:30.268489Z",
     "iopub.status.idle": "2022-01-21T12:59:31.263014Z",
     "shell.execute_reply": "2022-01-21T12:59:31.262364Z",
     "shell.execute_reply.started": "2022-01-21T12:59:30.268735Z"
    }
   },
   "outputs": [],
   "source": [
    "np.shape(X)"
   ]
  },
  {
   "cell_type": "code",
   "execution_count": 8,
   "metadata": {
    "execution": {
     "iopub.execute_input": "2022-01-21T12:59:31.264473Z",
     "iopub.status.busy": "2022-01-21T12:59:31.264216Z",
     "iopub.status.idle": "2022-01-21T12:59:32.240517Z",
     "shell.execute_reply": "2022-01-21T12:59:32.239655Z",
     "shell.execute_reply.started": "2022-01-21T12:59:31.264435Z"
    }
   },
   "outputs": [],
   "source": [
    "#Spliting the data into X an y\n",
    "X = np.asarray(X)\n",
    "y = np.asarray(train_df['breed'])"
   ]
  },
  {
   "cell_type": "code",
   "execution_count": 9,
   "metadata": {
    "execution": {
     "iopub.execute_input": "2022-01-21T12:59:32.242853Z",
     "iopub.status.busy": "2022-01-21T12:59:32.242633Z",
     "iopub.status.idle": "2022-01-21T12:59:32.256158Z",
     "shell.execute_reply": "2022-01-21T12:59:32.255386Z",
     "shell.execute_reply.started": "2022-01-21T12:59:32.242824Z"
    }
   },
   "outputs": [],
   "source": [
    "#Onehot encoding the categorical data\n",
    "y = pd.get_dummies(y)\n",
    "output_len = len(y.columns)"
   ]
  },
  {
   "cell_type": "code",
   "execution_count": 10,
   "metadata": {
    "execution": {
     "iopub.execute_input": "2022-01-21T12:59:32.257707Z",
     "iopub.status.busy": "2022-01-21T12:59:32.257366Z",
     "iopub.status.idle": "2022-01-21T12:59:32.263278Z",
     "shell.execute_reply": "2022-01-21T12:59:32.262620Z",
     "shell.execute_reply.started": "2022-01-21T12:59:32.257670Z"
    }
   },
   "outputs": [],
   "source": [
    "from tensorflow.keras.layers import Dense, Flatten, Dropout, Conv2D, GlobalAveragePooling2D, BatchNormalization"
   ]
  },
  {
   "cell_type": "code",
   "execution_count": 11,
   "metadata": {
    "execution": {
     "iopub.execute_input": "2022-01-21T12:59:32.265114Z",
     "iopub.status.busy": "2022-01-21T12:59:32.264642Z",
     "iopub.status.idle": "2022-01-21T12:59:36.569669Z",
     "shell.execute_reply": "2022-01-21T12:59:36.568923Z",
     "shell.execute_reply.started": "2022-01-21T12:59:32.265077Z"
    }
   },
   "outputs": [],
   "source": [
    "#calling the pretrained InceptionV3 model from keras\n",
    "\n",
    "from tensorflow.keras.applications import InceptionV3\n",
    "from tensorflow.keras.applications.inception_v3 import preprocess_input\n",
    "\n",
    "inputs = tf.keras.Input(shape=(331, 331, 3))\n",
    "base_model = InceptionV3(weights='imagenet', include_top=False, input_tensor=inputs)\n",
    "base_model.trainable = False"
   ]
  },
  {
   "cell_type": "code",
   "execution_count": 12,
   "metadata": {
    "execution": {
     "iopub.execute_input": "2022-01-21T12:59:36.572748Z",
     "iopub.status.busy": "2022-01-21T12:59:36.570825Z",
     "iopub.status.idle": "2022-01-21T12:59:37.115348Z",
     "shell.execute_reply": "2022-01-21T12:59:37.114640Z",
     "shell.execute_reply.started": "2022-01-21T12:59:36.572715Z"
    }
   },
   "outputs": [],
   "source": [
    "# passing inputs of one layer to another to create sequence of layers\n",
    "x = tf.keras.Input(shape=(331,331,3))\n",
    "x = inputs\n",
    " \n",
    "x = preprocess_input(x)\n",
    "\n",
    "x = base_model(x, training=False)\n",
    "x = GlobalAveragePooling2D()(x)\n",
    "x = Flatten()(x)\n",
    "x = Dense(256, activation='relu')(x)\n",
    "x = Dropout(0.2)(x)\n",
    "x = BatchNormalization()(x)\n",
    "\n",
    "output = Dense(output_len, activation='softmax')(x)"
   ]
  },
  {
   "cell_type": "code",
   "execution_count": 13,
   "metadata": {
    "execution": {
     "iopub.execute_input": "2022-01-21T12:59:37.116832Z",
     "iopub.status.busy": "2022-01-21T12:59:37.116581Z",
     "iopub.status.idle": "2022-01-21T12:59:37.125426Z",
     "shell.execute_reply": "2022-01-21T12:59:37.124665Z",
     "shell.execute_reply.started": "2022-01-21T12:59:37.116800Z"
    }
   },
   "outputs": [],
   "source": [
    "model = tf.keras.Model(inputs, output)"
   ]
  },
  {
   "cell_type": "code",
   "execution_count": 14,
   "metadata": {
    "execution": {
     "iopub.execute_input": "2022-01-21T12:59:37.127290Z",
     "iopub.status.busy": "2022-01-21T12:59:37.127021Z",
     "iopub.status.idle": "2022-01-21T12:59:37.144261Z",
     "shell.execute_reply": "2022-01-21T12:59:37.143468Z",
     "shell.execute_reply.started": "2022-01-21T12:59:37.127254Z"
    }
   },
   "outputs": [],
   "source": [
    "model.compile(optimizer='Adam', loss=\"binary_crossentropy\", metrics=['Accuracy'])"
   ]
  },
  {
   "cell_type": "code",
   "execution_count": 15,
   "metadata": {
    "execution": {
     "iopub.execute_input": "2022-01-21T12:59:37.148402Z",
     "iopub.status.busy": "2022-01-21T12:59:37.148209Z",
     "iopub.status.idle": "2022-01-21T13:06:53.009086Z",
     "shell.execute_reply": "2022-01-21T13:06:53.008350Z",
     "shell.execute_reply.started": "2022-01-21T12:59:37.148379Z"
    }
   },
   "outputs": [],
   "source": [
    "r = model.fit(X, y, batch_size=32, validation_split=0.2, epochs=15)"
   ]
  },
  {
   "cell_type": "code",
   "execution_count": 16,
   "metadata": {
    "execution": {
     "iopub.execute_input": "2022-01-21T13:06:53.011008Z",
     "iopub.status.busy": "2022-01-21T13:06:53.010748Z",
     "iopub.status.idle": "2022-01-21T13:06:53.015429Z",
     "shell.execute_reply": "2022-01-21T13:06:53.014729Z",
     "shell.execute_reply.started": "2022-01-21T13:06:53.010973Z"
    }
   },
   "outputs": [],
   "source": [
    "train_loss = r.history['loss']\n",
    "val_loss = r.history['val_loss']\n",
    "\n",
    "train_acc = r.history['Accuracy']\n",
    "val_acc = r.history['val_Accuracy']"
   ]
  },
  {
   "cell_type": "code",
   "execution_count": 17,
   "metadata": {
    "execution": {
     "iopub.execute_input": "2022-01-21T13:06:53.017586Z",
     "iopub.status.busy": "2022-01-21T13:06:53.016719Z",
     "iopub.status.idle": "2022-01-21T13:06:53.027260Z",
     "shell.execute_reply": "2022-01-21T13:06:53.026590Z",
     "shell.execute_reply.started": "2022-01-21T13:06:53.017546Z"
    }
   },
   "outputs": [],
   "source": [
    "import matplotlib.pyplot as plt"
   ]
  },
  {
   "cell_type": "code",
   "execution_count": 18,
   "metadata": {
    "execution": {
     "iopub.execute_input": "2022-01-21T13:06:53.028989Z",
     "iopub.status.busy": "2022-01-21T13:06:53.028549Z",
     "iopub.status.idle": "2022-01-21T13:06:53.327639Z",
     "shell.execute_reply": "2022-01-21T13:06:53.326942Z",
     "shell.execute_reply.started": "2022-01-21T13:06:53.028951Z"
    }
   },
   "outputs": [],
   "source": [
    "plt.figure(figsize=(18,6))\n",
    "plt.plot(train_loss, label='train_los')\n",
    "plt.plot(val_loss, label='val_loss')\n",
    "plt.plot(train_acc, label='train_acc')\n",
    "plt.plot(val_acc, label='val_acc')\n",
    "plt.xlabel('epochs')\n",
    "plt.ylabel('value')\n",
    "plt.legend(loc='upper right')\n",
    "plt.tight_layout()\n",
    "plt.show()"
   ]
  },
  {
   "cell_type": "markdown",
   "metadata": {},
   "source": [
    "#### We can see after 3rd epochs our train accuracy still increasing while val accouracy is almost same. That indicates our model started overfitting."
   ]
  },
  {
   "cell_type": "code",
   "execution_count": null,
   "metadata": {},
   "outputs": [],
   "source": []
  },
  {
   "cell_type": "code",
   "execution_count": null,
   "metadata": {},
   "outputs": [],
   "source": []
  }
 ],
 "metadata": {
  "kernelspec": {
   "display_name": "Python 3 (ipykernel)",
   "language": "python",
   "name": "python3"
  },
  "language_info": {
   "codemirror_mode": {
    "name": "ipython",
    "version": 3
   },
   "file_extension": ".py",
   "mimetype": "text/x-python",
   "name": "python",
   "nbconvert_exporter": "python",
   "pygments_lexer": "ipython3",
   "version": "3.9.9"
  }
 },
 "nbformat": 4,
 "nbformat_minor": 4
}
